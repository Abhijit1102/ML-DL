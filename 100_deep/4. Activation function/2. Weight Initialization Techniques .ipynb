{
 "cells": [
  {
   "cell_type": "markdown",
   "id": "4c4f1aa9",
   "metadata": {},
   "source": [
    "## Wieght initialization is important\n",
    "1. Initialize the opttimization algorithm\n",
    "2. Choose an optimization Algorithm\n",
    "3. Repeat these steps\n",
    "  - Forwad propogate in an input\n",
    "  - Compute the cost function\n",
    "  - compute the gradient of cost function w.r.t parameters  using backpropogation\n",
    "  - Update each parameter using the gradients, according to optimication algorithm"
   ]
  },
  {
   "cell_type": "markdown",
   "id": "7c62e726",
   "metadata": {},
   "source": [
    "## problem with making neural network\n",
    "    - vanishing GD( due to sigmoid, wrong wieght initialization)\n",
    "    - Exploding GD\n",
    "    - Slow convergence\n",
    "        "
   ]
  },
  {
   "cell_type": "markdown",
   "id": "d8d21d6b",
   "metadata": {},
   "source": [
    "# what not to do \n",
    " - case1: zero initialization of weights resulting no training of model.\n",
    " - case2 : Non zero constant value resaulting same weight after update in case of relu and tanh.\n",
    " - case3 : Random Initialization of weights\n",
    "          - Type: small ramdomization (tanh and sigmoid)\n",
    "          - Type: large randomization (relu) \n",
    "          \n",
    "  - if give very small wieghts in case of tanh thier will be vanishing gradient problem and aslo in case of relu it will be slowly converge.   - if wieghts value(0-1) in case sigmoid, tanh saturtation(max=1 or -1) leads to slow training or VGD.\n",
    "  - in case of relu Exploding gradient descent problem leads to unstable gradient.\n",
    "  \n",
    "**You can't initialized weights with zero, non-zero same or constant, small random, large random**  \n",
    "\n",
    "- Tn short we need random weights with good variance or range is not very large or very small"
   ]
  },
  {
   "cell_type": "markdown",
   "id": "5274fc21",
   "metadata": {},
   "source": [
    "## Heuraistics approach of W.I. \n",
    "### Xavier/Glorant initialization of weights\n",
    " - formula: sqrt(1/fan.in)\n",
    "          : aqrt(2/fan.in + fan.out)\n",
    " - Type: Normal and uniform\n",
    "\n",
    "### He  initilization of weights\n",
    " - Type: Normal and uniform\n",
    " \n",
    "**tanh and sigmoid Xavier, relu He initialization**\n",
    "\n",
    "- \n"
   ]
  },
  {
   "cell_type": "code",
   "execution_count": 1,
   "id": "2b414bfd",
   "metadata": {},
   "outputs": [],
   "source": [
    "import numpy as np\n",
    "import pandas as pd\n",
    "import matplotlib.pyplot as plt"
   ]
  },
  {
   "cell_type": "code",
   "execution_count": 37,
   "id": "f3275816",
   "metadata": {
    "scrolled": true
   },
   "outputs": [
    {
     "data": {
      "text/html": [
       "<div>\n",
       "<style scoped>\n",
       "    .dataframe tbody tr th:only-of-type {\n",
       "        vertical-align: middle;\n",
       "    }\n",
       "\n",
       "    .dataframe tbody tr th {\n",
       "        vertical-align: top;\n",
       "    }\n",
       "\n",
       "    .dataframe thead th {\n",
       "        text-align: right;\n",
       "    }\n",
       "</style>\n",
       "<table border=\"1\" class=\"dataframe\">\n",
       "  <thead>\n",
       "    <tr style=\"text-align: right;\">\n",
       "      <th></th>\n",
       "      <th>X</th>\n",
       "      <th>Y</th>\n",
       "      <th>Type</th>\n",
       "    </tr>\n",
       "  </thead>\n",
       "  <tbody>\n",
       "    <tr>\n",
       "      <th>0</th>\n",
       "      <td>0.095</td>\n",
       "      <td>0.365</td>\n",
       "      <td>M</td>\n",
       "    </tr>\n",
       "    <tr>\n",
       "      <th>1</th>\n",
       "      <td>0.090</td>\n",
       "      <td>0.265</td>\n",
       "      <td>M</td>\n",
       "    </tr>\n",
       "    <tr>\n",
       "      <th>2</th>\n",
       "      <td>0.135</td>\n",
       "      <td>0.420</td>\n",
       "      <td>F</td>\n",
       "    </tr>\n",
       "    <tr>\n",
       "      <th>3</th>\n",
       "      <td>0.125</td>\n",
       "      <td>0.365</td>\n",
       "      <td>M</td>\n",
       "    </tr>\n",
       "    <tr>\n",
       "      <th>4</th>\n",
       "      <td>0.150</td>\n",
       "      <td>0.415</td>\n",
       "      <td>F</td>\n",
       "    </tr>\n",
       "  </tbody>\n",
       "</table>\n",
       "</div>"
      ],
      "text/plain": [
       "       X      Y Type\n",
       "0  0.095  0.365    M\n",
       "1  0.090  0.265    M\n",
       "2  0.135  0.420    F\n",
       "3  0.125  0.365    M\n",
       "4  0.150  0.415    F"
      ]
     },
     "execution_count": 37,
     "metadata": {},
     "output_type": "execute_result"
    }
   ],
   "source": [
    "df= pd.read_csv(\"binary.csv\")\n",
    "df.head()"
   ]
  },
  {
   "cell_type": "code",
   "execution_count": 40,
   "id": "9b1dcb2c",
   "metadata": {},
   "outputs": [],
   "source": [
    "tf = {\"M\":1,\"F\":0}"
   ]
  },
  {
   "cell_type": "code",
   "execution_count": 46,
   "id": "b54b9257",
   "metadata": {},
   "outputs": [],
   "source": [
    "df.Type = df.Type.map(tf)"
   ]
  },
  {
   "cell_type": "code",
   "execution_count": 47,
   "id": "ecab5471",
   "metadata": {},
   "outputs": [
    {
     "data": {
      "text/html": [
       "<div>\n",
       "<style scoped>\n",
       "    .dataframe tbody tr th:only-of-type {\n",
       "        vertical-align: middle;\n",
       "    }\n",
       "\n",
       "    .dataframe tbody tr th {\n",
       "        vertical-align: top;\n",
       "    }\n",
       "\n",
       "    .dataframe thead th {\n",
       "        text-align: right;\n",
       "    }\n",
       "</style>\n",
       "<table border=\"1\" class=\"dataframe\">\n",
       "  <thead>\n",
       "    <tr style=\"text-align: right;\">\n",
       "      <th></th>\n",
       "      <th>X</th>\n",
       "      <th>Y</th>\n",
       "      <th>Type</th>\n",
       "    </tr>\n",
       "  </thead>\n",
       "  <tbody>\n",
       "    <tr>\n",
       "      <th>0</th>\n",
       "      <td>0.095</td>\n",
       "      <td>0.365</td>\n",
       "      <td>1</td>\n",
       "    </tr>\n",
       "    <tr>\n",
       "      <th>1</th>\n",
       "      <td>0.090</td>\n",
       "      <td>0.265</td>\n",
       "      <td>1</td>\n",
       "    </tr>\n",
       "    <tr>\n",
       "      <th>2</th>\n",
       "      <td>0.135</td>\n",
       "      <td>0.420</td>\n",
       "      <td>0</td>\n",
       "    </tr>\n",
       "    <tr>\n",
       "      <th>3</th>\n",
       "      <td>0.125</td>\n",
       "      <td>0.365</td>\n",
       "      <td>1</td>\n",
       "    </tr>\n",
       "    <tr>\n",
       "      <th>4</th>\n",
       "      <td>0.150</td>\n",
       "      <td>0.415</td>\n",
       "      <td>0</td>\n",
       "    </tr>\n",
       "  </tbody>\n",
       "</table>\n",
       "</div>"
      ],
      "text/plain": [
       "       X      Y  Type\n",
       "0  0.095  0.365     1\n",
       "1  0.090  0.265     1\n",
       "2  0.135  0.420     0\n",
       "3  0.125  0.365     1\n",
       "4  0.150  0.415     0"
      ]
     },
     "execution_count": 47,
     "metadata": {},
     "output_type": "execute_result"
    }
   ],
   "source": [
    "df.head()"
   ]
  },
  {
   "cell_type": "code",
   "execution_count": 48,
   "id": "fcee06ca",
   "metadata": {},
   "outputs": [
    {
     "data": {
      "text/plain": [
       "<matplotlib.collections.PathCollection at 0x19ef797d7e0>"
      ]
     },
     "execution_count": 48,
     "metadata": {},
     "output_type": "execute_result"
    },
    {
     "data": {
      "image/png": "[encoded data removed]",
      "text/plain": [
       "<Figure size 640x480 with 1 Axes>"
      ]
     },
     "metadata": {},
     "output_type": "display_data"
    }
   ],
   "source": [
    "plt.scatter(df['X'],df['Y'],c=df['Type'])"
   ]
  },
  {
   "cell_type": "code",
   "execution_count": 49,
   "id": "cba23a3d",
   "metadata": {},
   "outputs": [],
   "source": [
    "X = df.iloc[:,0:2].values\n",
    "y = df.iloc[:,-1].values"
   ]
  },
  {
   "cell_type": "code",
   "execution_count": 50,
   "id": "f7584549",
   "metadata": {},
   "outputs": [],
   "source": [
    "import tensorflow\n",
    "from tensorflow import keras\n",
    "from keras import Sequential\n",
    "from keras.layers import Dense"
   ]
  },
  {
   "cell_type": "code",
   "execution_count": 51,
   "id": "64f12d33",
   "metadata": {},
   "outputs": [
    {
     "name": "stdout",
     "output_type": "stream",
     "text": [
      "Model: \"sequential\"\n",
      "_________________________________________________________________\n",
      " Layer (type)                Output Shape              Param #   \n",
      "=================================================================\n",
      " dense (Dense)               (None, 10)                30        \n",
      "                                                                 \n",
      " dense_1 (Dense)             (None, 10)                110       \n",
      "                                                                 \n",
      " dense_2 (Dense)             (None, 10)                110       \n",
      "                                                                 \n",
      " dense_3 (Dense)             (None, 10)                110       \n",
      "                                                                 \n",
      " dense_4 (Dense)             (None, 1)                 11        \n",
      "                                                                 \n",
      "=================================================================\n",
      "Total params: 371\n",
      "Trainable params: 371\n",
      "Non-trainable params: 0\n",
      "_________________________________________________________________\n"
     ]
    }
   ],
   "source": [
    "model = Sequential()\n",
    "\n",
    "model.add(Dense(10,activation='relu',input_dim=2,kernel_initializer='he_normal'))\n",
    "model.add(Dense(10,activation='relu',kernel_initializer='he_normal'))\n",
    "model.add(Dense(10,activation='relu',kernel_initializer='he_normal'))\n",
    "model.add(Dense(10,activation='relu',kernel_initializer='he_normal'))\n",
    "model.add(Dense(1,activation='sigmoid'))\n",
    "\n",
    "model.summary()"
   ]
  },
  {
   "cell_type": "code",
   "execution_count": 52,
   "id": "58f444fe",
   "metadata": {},
   "outputs": [],
   "source": [
    "initial_weights = model.get_weights()"
   ]
  },
  {
   "cell_type": "code",
   "execution_count": 53,
   "id": "8b35a9ed",
   "metadata": {},
   "outputs": [],
   "source": [
    "initial_weights[0] = np.random.randn(2,10)*np.sqrt(1/2)\n",
    "initial_weights[1] = np.zeros(model.get_weights()[1].shape)\n",
    "initial_weights[2] = np.random.randn(10,10)*np.sqrt(1/10)\n",
    "initial_weights[3] = np.zeros(model.get_weights()[3].shape)\n",
    "initial_weights[4] = np.random.randn(10,10)*np.sqrt(1/10)\n",
    "initial_weights[5] = np.zeros(model.get_weights()[5].shape)\n",
    "initial_weights[6] = np.random.randn(10,10)*np.sqrt(1/10)\n",
    "initial_weights[7] = np.zeros(model.get_weights()[7].shape)\n",
    "initial_weights[8] = np.random.randn(10,1)*np.sqrt(1/10)\n",
    "initial_weights[9] = np.zeros(model.get_weights()[9].shape)"
   ]
  },
  {
   "cell_type": "code",
   "execution_count": 54,
   "id": "fc18f166",
   "metadata": {},
   "outputs": [],
   "source": [
    "model.set_weights(initial_weights)"
   ]
  },
  {
   "cell_type": "code",
   "execution_count": 55,
   "id": "5bda0ced",
   "metadata": {},
   "outputs": [],
   "source": [
    "model.compile(loss='binary_crossentropy',optimizer='adam',metrics=['accuracy'])"
   ]
  },
  {
   "cell_type": "code",
   "execution_count": 56,
   "id": "3ce42298",
   "metadata": {},
   "outputs": [
    {
     "name": "stdout",
     "output_type": "stream",
     "text": [
      "Epoch 1/100\n",
      "71/71 [==============================] - 3s 9ms/step - loss: 0.6915 - accuracy: 0.5388 - val_loss: 0.6909 - val_accuracy: 0.5397\n",
      "Epoch 2/100\n",
      "71/71 [==============================] - 0s 4ms/step - loss: 0.6911 - accuracy: 0.5388 - val_loss: 0.6908 - val_accuracy: 0.5397\n",
      "Epoch 3/100\n",
      "71/71 [==============================] - 0s 4ms/step - loss: 0.6908 - accuracy: 0.5388 - val_loss: 0.6907 - val_accuracy: 0.5397\n",
      "Epoch 4/100\n",
      "71/71 [==============================] - 0s 4ms/step - loss: 0.6909 - accuracy: 0.5388 - val_loss: 0.6906 - val_accuracy: 0.5397\n",
      "Epoch 5/100\n",
      "71/71 [==============================] - 0s 4ms/step - loss: 0.6908 - accuracy: 0.5388 - val_loss: 0.6905 - val_accuracy: 0.5397\n",
      "Epoch 6/100\n",
      "71/71 [==============================] - 0s 5ms/step - loss: 0.6909 - accuracy: 0.5388 - val_loss: 0.6905 - val_accuracy: 0.5397\n",
      "Epoch 7/100\n",
      "71/71 [==============================] - 0s 4ms/step - loss: 0.6906 - accuracy: 0.5388 - val_loss: 0.6904 - val_accuracy: 0.5397\n",
      "Epoch 8/100\n",
      "71/71 [==============================] - 0s 4ms/step - loss: 0.6906 - accuracy: 0.5388 - val_loss: 0.6904 - val_accuracy: 0.5397\n",
      "Epoch 9/100\n",
      "71/71 [==============================] - 0s 4ms/step - loss: 0.6905 - accuracy: 0.5392 - val_loss: 0.6903 - val_accuracy: 0.5397\n",
      "Epoch 10/100\n",
      "71/71 [==============================] - 0s 6ms/step - loss: 0.6905 - accuracy: 0.5392 - val_loss: 0.6903 - val_accuracy: 0.5397\n",
      "Epoch 11/100\n",
      "71/71 [==============================] - 0s 5ms/step - loss: 0.6905 - accuracy: 0.5392 - val_loss: 0.6902 - val_accuracy: 0.5397\n",
      "Epoch 12/100\n",
      "71/71 [==============================] - 0s 5ms/step - loss: 0.6904 - accuracy: 0.5392 - val_loss: 0.6902 - val_accuracy: 0.5397\n",
      "Epoch 13/100\n",
      "71/71 [==============================] - 0s 4ms/step - loss: 0.6904 - accuracy: 0.5392 - val_loss: 0.6902 - val_accuracy: 0.5397\n",
      "Epoch 14/100\n",
      "71/71 [==============================] - 0s 5ms/step - loss: 0.6903 - accuracy: 0.5392 - val_loss: 0.6901 - val_accuracy: 0.5397\n",
      "Epoch 15/100\n",
      "71/71 [==============================] - 0s 5ms/step - loss: 0.6902 - accuracy: 0.5392 - val_loss: 0.6900 - val_accuracy: 0.5397\n",
      "Epoch 16/100\n",
      "71/71 [==============================] - 0s 4ms/step - loss: 0.6902 - accuracy: 0.5392 - val_loss: 0.6900 - val_accuracy: 0.5397\n",
      "Epoch 17/100\n",
      "71/71 [==============================] - 0s 5ms/step - loss: 0.6901 - accuracy: 0.5392 - val_loss: 0.6899 - val_accuracy: 0.5397\n",
      "Epoch 18/100\n",
      "71/71 [==============================] - 0s 5ms/step - loss: 0.6903 - accuracy: 0.5392 - val_loss: 0.6899 - val_accuracy: 0.5397\n",
      "Epoch 19/100\n",
      "71/71 [==============================] - 0s 7ms/step - loss: 0.6901 - accuracy: 0.5392 - val_loss: 0.6898 - val_accuracy: 0.5397\n",
      "Epoch 20/100\n",
      "71/71 [==============================] - 1s 8ms/step - loss: 0.6900 - accuracy: 0.5392 - val_loss: 0.6899 - val_accuracy: 0.5397\n",
      "Epoch 21/100\n",
      "71/71 [==============================] - 0s 5ms/step - loss: 0.6899 - accuracy: 0.5392 - val_loss: 0.6896 - val_accuracy: 0.5397\n",
      "Epoch 22/100\n",
      "71/71 [==============================] - 0s 6ms/step - loss: 0.6898 - accuracy: 0.5392 - val_loss: 0.6896 - val_accuracy: 0.5397\n",
      "Epoch 23/100\n",
      "71/71 [==============================] - 0s 5ms/step - loss: 0.6899 - accuracy: 0.5392 - val_loss: 0.6895 - val_accuracy: 0.5397\n",
      "Epoch 24/100\n",
      "71/71 [==============================] - 0s 5ms/step - loss: 0.6896 - accuracy: 0.5392 - val_loss: 0.6893 - val_accuracy: 0.5397\n",
      "Epoch 25/100\n",
      "71/71 [==============================] - 0s 4ms/step - loss: 0.6896 - accuracy: 0.5392 - val_loss: 0.6892 - val_accuracy: 0.5397\n",
      "Epoch 26/100\n",
      "71/71 [==============================] - 0s 4ms/step - loss: 0.6894 - accuracy: 0.5392 - val_loss: 0.6891 - val_accuracy: 0.5397\n",
      "Epoch 27/100\n",
      "71/71 [==============================] - 0s 4ms/step - loss: 0.6894 - accuracy: 0.5392 - val_loss: 0.6892 - val_accuracy: 0.5397\n",
      "Epoch 28/100\n",
      "71/71 [==============================] - 0s 4ms/step - loss: 0.6896 - accuracy: 0.5392 - val_loss: 0.6889 - val_accuracy: 0.5397\n",
      "Epoch 29/100\n",
      "71/71 [==============================] - 0s 4ms/step - loss: 0.6894 - accuracy: 0.5392 - val_loss: 0.6885 - val_accuracy: 0.5397\n",
      "Epoch 30/100\n",
      "71/71 [==============================] - 0s 4ms/step - loss: 0.6894 - accuracy: 0.5392 - val_loss: 0.6885 - val_accuracy: 0.5397\n",
      "Epoch 31/100\n",
      "71/71 [==============================] - 0s 4ms/step - loss: 0.6887 - accuracy: 0.5392 - val_loss: 0.6884 - val_accuracy: 0.5397\n",
      "Epoch 32/100\n",
      "71/71 [==============================] - 0s 4ms/step - loss: 0.6883 - accuracy: 0.5392 - val_loss: 0.6891 - val_accuracy: 0.5397\n",
      "Epoch 33/100\n",
      "71/71 [==============================] - 0s 4ms/step - loss: 0.6893 - accuracy: 0.5392 - val_loss: 0.6882 - val_accuracy: 0.5397\n",
      "Epoch 34/100\n",
      "71/71 [==============================] - 0s 4ms/step - loss: 0.6883 - accuracy: 0.5392 - val_loss: 0.6875 - val_accuracy: 0.5397\n",
      "Epoch 35/100\n",
      "71/71 [==============================] - 0s 4ms/step - loss: 0.6884 - accuracy: 0.5392 - val_loss: 0.6875 - val_accuracy: 0.5397\n",
      "Epoch 36/100\n",
      "71/71 [==============================] - 0s 4ms/step - loss: 0.6884 - accuracy: 0.5392 - val_loss: 0.6872 - val_accuracy: 0.5397\n",
      "Epoch 37/100\n",
      "71/71 [==============================] - 0s 5ms/step - loss: 0.6881 - accuracy: 0.5392 - val_loss: 0.6867 - val_accuracy: 0.5397\n",
      "Epoch 38/100\n",
      "71/71 [==============================] - 0s 4ms/step - loss: 0.6877 - accuracy: 0.5392 - val_loss: 0.6869 - val_accuracy: 0.5397\n",
      "Epoch 39/100\n",
      "71/71 [==============================] - 0s 4ms/step - loss: 0.6875 - accuracy: 0.5392 - val_loss: 0.6868 - val_accuracy: 0.5397\n",
      "Epoch 40/100\n",
      "71/71 [==============================] - 0s 4ms/step - loss: 0.6870 - accuracy: 0.5392 - val_loss: 0.6858 - val_accuracy: 0.5397\n",
      "Epoch 41/100\n",
      "71/71 [==============================] - 0s 3ms/step - loss: 0.6874 - accuracy: 0.5340 - val_loss: 0.6854 - val_accuracy: 0.5397\n",
      "Epoch 42/100\n",
      "71/71 [==============================] - 0s 4ms/step - loss: 0.6867 - accuracy: 0.5357 - val_loss: 0.6858 - val_accuracy: 0.5379\n",
      "Epoch 43/100\n",
      "71/71 [==============================] - 0s 4ms/step - loss: 0.6866 - accuracy: 0.5388 - val_loss: 0.6857 - val_accuracy: 0.5397\n",
      "Epoch 44/100\n",
      "71/71 [==============================] - 0s 5ms/step - loss: 0.6874 - accuracy: 0.5401 - val_loss: 0.6854 - val_accuracy: 0.5397\n",
      "Epoch 45/100\n",
      "71/71 [==============================] - 0s 6ms/step - loss: 0.6865 - accuracy: 0.5370 - val_loss: 0.6852 - val_accuracy: 0.5379\n",
      "Epoch 46/100\n",
      "71/71 [==============================] - 0s 5ms/step - loss: 0.6878 - accuracy: 0.5414 - val_loss: 0.6854 - val_accuracy: 0.5397\n",
      "Epoch 47/100\n",
      "71/71 [==============================] - 1s 8ms/step - loss: 0.6865 - accuracy: 0.5370 - val_loss: 0.6842 - val_accuracy: 0.5326\n",
      "Epoch 48/100\n",
      "71/71 [==============================] - 1s 7ms/step - loss: 0.6871 - accuracy: 0.5322 - val_loss: 0.6842 - val_accuracy: 0.5397\n",
      "Epoch 49/100\n",
      "71/71 [==============================] - 1s 8ms/step - loss: 0.6864 - accuracy: 0.5379 - val_loss: 0.6838 - val_accuracy: 0.5397\n",
      "Epoch 50/100\n",
      "71/71 [==============================] - 0s 5ms/step - loss: 0.6870 - accuracy: 0.5344 - val_loss: 0.6839 - val_accuracy: 0.5397\n",
      "Epoch 51/100\n",
      "71/71 [==============================] - 0s 4ms/step - loss: 0.6857 - accuracy: 0.5370 - val_loss: 0.6840 - val_accuracy: 0.5397\n",
      "Epoch 52/100\n",
      "71/71 [==============================] - 0s 4ms/step - loss: 0.6857 - accuracy: 0.5397 - val_loss: 0.6836 - val_accuracy: 0.5397\n",
      "Epoch 53/100\n",
      "71/71 [==============================] - 0s 6ms/step - loss: 0.6860 - accuracy: 0.5401 - val_loss: 0.6834 - val_accuracy: 0.5503\n",
      "Epoch 54/100\n",
      "71/71 [==============================] - 0s 4ms/step - loss: 0.6856 - accuracy: 0.5463 - val_loss: 0.6836 - val_accuracy: 0.5362\n",
      "Epoch 55/100\n",
      "71/71 [==============================] - 0s 4ms/step - loss: 0.6850 - accuracy: 0.5375 - val_loss: 0.6861 - val_accuracy: 0.5132\n",
      "Epoch 56/100\n",
      "71/71 [==============================] - 0s 4ms/step - loss: 0.6855 - accuracy: 0.5362 - val_loss: 0.6832 - val_accuracy: 0.5397\n",
      "Epoch 57/100\n",
      "71/71 [==============================] - 0s 4ms/step - loss: 0.6858 - accuracy: 0.5397 - val_loss: 0.6833 - val_accuracy: 0.5397\n",
      "Epoch 58/100\n",
      "71/71 [==============================] - 0s 5ms/step - loss: 0.6857 - accuracy: 0.5401 - val_loss: 0.6827 - val_accuracy: 0.5397\n"
     ]
    },
    {
     "name": "stdout",
     "output_type": "stream",
     "text": [
      "Epoch 59/100\n",
      "71/71 [==============================] - 0s 4ms/step - loss: 0.6851 - accuracy: 0.5370 - val_loss: 0.6827 - val_accuracy: 0.5379\n",
      "Epoch 60/100\n",
      "71/71 [==============================] - 0s 4ms/step - loss: 0.6850 - accuracy: 0.5335 - val_loss: 0.6827 - val_accuracy: 0.5432\n",
      "Epoch 61/100\n",
      "71/71 [==============================] - 0s 4ms/step - loss: 0.6849 - accuracy: 0.5353 - val_loss: 0.6823 - val_accuracy: 0.5379\n",
      "Epoch 62/100\n",
      "71/71 [==============================] - 0s 4ms/step - loss: 0.6850 - accuracy: 0.5472 - val_loss: 0.6855 - val_accuracy: 0.5132\n",
      "Epoch 63/100\n",
      "71/71 [==============================] - 0s 4ms/step - loss: 0.6849 - accuracy: 0.5256 - val_loss: 0.6820 - val_accuracy: 0.5397\n",
      "Epoch 64/100\n",
      "71/71 [==============================] - 0s 4ms/step - loss: 0.6845 - accuracy: 0.5379 - val_loss: 0.6822 - val_accuracy: 0.5397\n",
      "Epoch 65/100\n",
      "71/71 [==============================] - 0s 4ms/step - loss: 0.6854 - accuracy: 0.5419 - val_loss: 0.6833 - val_accuracy: 0.5362\n",
      "Epoch 66/100\n",
      "71/71 [==============================] - 0s 4ms/step - loss: 0.6847 - accuracy: 0.5335 - val_loss: 0.6819 - val_accuracy: 0.5432\n",
      "Epoch 67/100\n",
      "71/71 [==============================] - 0s 4ms/step - loss: 0.6855 - accuracy: 0.5322 - val_loss: 0.6821 - val_accuracy: 0.5379\n",
      "Epoch 68/100\n",
      "71/71 [==============================] - 0s 4ms/step - loss: 0.6846 - accuracy: 0.5388 - val_loss: 0.6817 - val_accuracy: 0.5397\n",
      "Epoch 69/100\n",
      "71/71 [==============================] - 0s 5ms/step - loss: 0.6843 - accuracy: 0.5392 - val_loss: 0.6822 - val_accuracy: 0.5397\n",
      "Epoch 70/100\n",
      "71/71 [==============================] - 0s 4ms/step - loss: 0.6845 - accuracy: 0.5384 - val_loss: 0.6819 - val_accuracy: 0.5397\n",
      "Epoch 71/100\n",
      "71/71 [==============================] - 0s 4ms/step - loss: 0.6842 - accuracy: 0.5392 - val_loss: 0.6819 - val_accuracy: 0.5397\n",
      "Epoch 72/100\n",
      "71/71 [==============================] - 0s 4ms/step - loss: 0.6844 - accuracy: 0.5392 - val_loss: 0.6819 - val_accuracy: 0.5397\n",
      "Epoch 73/100\n",
      "71/71 [==============================] - 0s 4ms/step - loss: 0.6841 - accuracy: 0.5392 - val_loss: 0.6817 - val_accuracy: 0.5397\n",
      "Epoch 74/100\n",
      "71/71 [==============================] - 0s 4ms/step - loss: 0.6843 - accuracy: 0.5401 - val_loss: 0.6823 - val_accuracy: 0.5362\n",
      "Epoch 75/100\n",
      "71/71 [==============================] - 0s 4ms/step - loss: 0.6841 - accuracy: 0.5392 - val_loss: 0.6819 - val_accuracy: 0.5397\n",
      "Epoch 76/100\n",
      "71/71 [==============================] - 0s 4ms/step - loss: 0.6839 - accuracy: 0.5353 - val_loss: 0.6809 - val_accuracy: 0.5397\n",
      "Epoch 77/100\n",
      "71/71 [==============================] - 0s 4ms/step - loss: 0.6840 - accuracy: 0.5392 - val_loss: 0.6817 - val_accuracy: 0.5397\n",
      "Epoch 78/100\n",
      "71/71 [==============================] - 0s 5ms/step - loss: 0.6837 - accuracy: 0.5392 - val_loss: 0.6814 - val_accuracy: 0.5397\n",
      "Epoch 79/100\n",
      "71/71 [==============================] - 0s 5ms/step - loss: 0.6836 - accuracy: 0.5392 - val_loss: 0.6811 - val_accuracy: 0.5397\n",
      "Epoch 80/100\n",
      "71/71 [==============================] - 0s 4ms/step - loss: 0.6832 - accuracy: 0.5392 - val_loss: 0.6807 - val_accuracy: 0.5397\n",
      "Epoch 81/100\n",
      "71/71 [==============================] - 0s 4ms/step - loss: 0.6832 - accuracy: 0.5392 - val_loss: 0.6816 - val_accuracy: 0.5397\n",
      "Epoch 82/100\n",
      "71/71 [==============================] - 0s 4ms/step - loss: 0.6832 - accuracy: 0.5392 - val_loss: 0.6807 - val_accuracy: 0.5397\n",
      "Epoch 83/100\n",
      "71/71 [==============================] - 0s 4ms/step - loss: 0.6829 - accuracy: 0.5392 - val_loss: 0.6801 - val_accuracy: 0.5397\n",
      "Epoch 84/100\n",
      "71/71 [==============================] - 0s 4ms/step - loss: 0.6830 - accuracy: 0.5392 - val_loss: 0.6801 - val_accuracy: 0.5397\n",
      "Epoch 85/100\n",
      "71/71 [==============================] - 0s 4ms/step - loss: 0.6833 - accuracy: 0.5392 - val_loss: 0.6802 - val_accuracy: 0.5397\n",
      "Epoch 86/100\n",
      "71/71 [==============================] - 0s 4ms/step - loss: 0.6827 - accuracy: 0.5392 - val_loss: 0.6795 - val_accuracy: 0.5397\n",
      "Epoch 87/100\n",
      "71/71 [==============================] - 0s 4ms/step - loss: 0.6827 - accuracy: 0.5392 - val_loss: 0.6802 - val_accuracy: 0.5397\n",
      "Epoch 88/100\n",
      "71/71 [==============================] - 0s 4ms/step - loss: 0.6829 - accuracy: 0.5392 - val_loss: 0.6796 - val_accuracy: 0.5397\n",
      "Epoch 89/100\n",
      "71/71 [==============================] - 0s 4ms/step - loss: 0.6827 - accuracy: 0.5392 - val_loss: 0.6796 - val_accuracy: 0.5397\n",
      "Epoch 90/100\n",
      "71/71 [==============================] - 0s 4ms/step - loss: 0.6824 - accuracy: 0.5392 - val_loss: 0.6799 - val_accuracy: 0.5397\n",
      "Epoch 91/100\n",
      "71/71 [==============================] - 0s 5ms/step - loss: 0.6826 - accuracy: 0.5392 - val_loss: 0.6796 - val_accuracy: 0.5397\n",
      "Epoch 92/100\n",
      "71/71 [==============================] - 0s 4ms/step - loss: 0.6823 - accuracy: 0.5397 - val_loss: 0.6793 - val_accuracy: 0.5397\n",
      "Epoch 93/100\n",
      "71/71 [==============================] - 0s 4ms/step - loss: 0.6824 - accuracy: 0.5392 - val_loss: 0.6808 - val_accuracy: 0.5397\n",
      "Epoch 94/100\n",
      "71/71 [==============================] - 0s 4ms/step - loss: 0.6823 - accuracy: 0.5392 - val_loss: 0.6788 - val_accuracy: 0.5397\n",
      "Epoch 95/100\n",
      "71/71 [==============================] - 0s 4ms/step - loss: 0.6821 - accuracy: 0.5392 - val_loss: 0.6790 - val_accuracy: 0.5397\n",
      "Epoch 96/100\n",
      "71/71 [==============================] - 0s 4ms/step - loss: 0.6822 - accuracy: 0.5392 - val_loss: 0.6789 - val_accuracy: 0.5397\n",
      "Epoch 97/100\n",
      "71/71 [==============================] - 0s 5ms/step - loss: 0.6823 - accuracy: 0.5392 - val_loss: 0.6794 - val_accuracy: 0.5397\n",
      "Epoch 98/100\n",
      "71/71 [==============================] - 0s 5ms/step - loss: 0.6827 - accuracy: 0.5428 - val_loss: 0.6787 - val_accuracy: 0.5397\n",
      "Epoch 99/100\n",
      "71/71 [==============================] - 0s 4ms/step - loss: 0.6825 - accuracy: 0.5392 - val_loss: 0.6785 - val_accuracy: 0.5397\n",
      "Epoch 100/100\n",
      "71/71 [==============================] - 0s 5ms/step - loss: 0.6825 - accuracy: 0.5419 - val_loss: 0.6796 - val_accuracy: 0.5397\n"
     ]
    }
   ],
   "source": [
    "history = model.fit(X,y,epochs=100,validation_split=0.2)"
   ]
  },
  {
   "cell_type": "code",
   "execution_count": 57,
   "id": "1408ac9c",
   "metadata": {},
   "outputs": [
    {
     "name": "stdout",
     "output_type": "stream",
     "text": [
      "9600/9600 [==============================] - 19s 2ms/step\n"
     ]
    },
    {
     "data": {
      "text/plain": [
       "<AxesSubplot: >"
      ]
     },
     "execution_count": 57,
     "metadata": {},
     "output_type": "execute_result"
    },
    {
     "data": {
      "image/png": "[encoded data removed]",
      "text/plain": [
       "<Figure size 640x480 with 1 Axes>"
      ]
     },
     "metadata": {},
     "output_type": "display_data"
    }
   ],
   "source": [
    "from mlxtend.plotting import plot_decision_regions\n",
    "plot_decision_regions(X,y.astype('int'), clf=model, legend=2)"
   ]
  },
  {
   "cell_type": "code",
   "execution_count": null,
   "id": "9c7b43c5",
   "metadata": {},
   "outputs": [],
   "source": []
  },
  {
   "cell_type": "code",
   "execution_count": null,
   "id": "44bdeffa",
   "metadata": {},
   "outputs": [],
   "source": []
  },
  {
   "cell_type": "code",
   "execution_count": null,
   "id": "4aa3e4d3",
   "metadata": {},
   "outputs": [],
   "source": []
  }
 ],
 "metadata": {
  "kernelspec": {
   "display_name": "Python 3 (ipykernel)",
   "language": "python",
   "name": "python3"
  },
  "language_info": {
   "codemirror_mode": {
    "name": "ipython",
    "version": 3
   },
   "file_extension": ".py",
   "mimetype": "text/x-python",
   "name": "python",
   "nbconvert_exporter": "python",
   "pygments_lexer": "ipython3",
   "version": "3.10.9"
  }
 },
 "nbformat": 4,
 "nbformat_minor": 5
}
