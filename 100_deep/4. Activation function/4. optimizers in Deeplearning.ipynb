{
 "cells": [
  {
   "cell_type": "markdown",
   "id": "588aea88",
   "metadata": {},
   "source": [
    "### Role of Optimizer\n",
    "When training a deep learning model, you must adapt every epoch's weight and minimize the loss function. An optimizer is an algorithm or function that adapts the neural network's attributes, like learning rate and weights. Hence, it assists in improving the accuracy and reduces the total loss.\n",
    "\n",
    "\n",
    "## Challenge in Gradient Descent\n",
    "- Learing rate :\n",
    "\\begin{gather*}\n",
    "W_n=W_n - \\eta\\frac{dW_n}{dx}\n",
    "\\end{gather*}\n",
    "       - learning rate scheduling(predefine)\n",
    "       \n",
    "- Same learning rate and direction\n",
    "- local minimum\n",
    "- saddle point "
   ]
  },
  {
   "cell_type": "markdown",
   "id": "63f78c15",
   "metadata": {},
   "source": [
    "## Optimzer\n",
    "- Momemtum\n",
    "- ADA-graud\n",
    "- NAG\n",
    "- RMSprop\n",
    "- Adam"
   ]
  },
  {
   "cell_type": "markdown",
   "id": "41ec0cb2",
   "metadata": {},
   "source": [
    "### Exponentially moving average\n",
    "- It is technique which find trends on time series data.\n",
    "- It is used in time series forcasting, financial forecasting, signal processing, Deep learning optimizers.\n",
    "- Wieghted of data point is reduce w.r.t time\n",
    "\n",
    "$$\n",
    "  V_{t} = \\beta.V_{t-1} + \\theta_{t}(1-\\beta)\n",
    "$$ \n",
    "\n",
    "- larger $\\beta$ value more will be weighted"
   ]
  },
  {
   "cell_type": "code",
   "execution_count": 2,
   "id": "4f6c1e9b",
   "metadata": {},
   "outputs": [],
   "source": [
    " "
   ]
  },
  {
   "cell_type": "code",
   "execution_count": 8,
   "id": "3ee03ee1",
   "metadata": {},
   "outputs": [
    {
     "data": {
      "text/html": [
       "<div>\n",
       "<style scoped>\n",
       "    .dataframe tbody tr th:only-of-type {\n",
       "        vertical-align: middle;\n",
       "    }\n",
       "\n",
       "    .dataframe tbody tr th {\n",
       "        vertical-align: top;\n",
       "    }\n",
       "\n",
       "    .dataframe thead th {\n",
       "        text-align: right;\n",
       "    }\n",
       "</style>\n",
       "<table border=\"1\" class=\"dataframe\">\n",
       "  <thead>\n",
       "    <tr style=\"text-align: right;\">\n",
       "      <th></th>\n",
       "      <th>Date</th>\n",
       "      <th>Daily minimum temperatures</th>\n",
       "    </tr>\n",
       "  </thead>\n",
       "  <tbody>\n",
       "    <tr>\n",
       "      <th>0</th>\n",
       "      <td>1/1/1981</td>\n",
       "      <td>20.7</td>\n",
       "    </tr>\n",
       "    <tr>\n",
       "      <th>1</th>\n",
       "      <td>1/2/1981</td>\n",
       "      <td>17.9</td>\n",
       "    </tr>\n",
       "    <tr>\n",
       "      <th>2</th>\n",
       "      <td>1/3/1981</td>\n",
       "      <td>18.8</td>\n",
       "    </tr>\n",
       "    <tr>\n",
       "      <th>3</th>\n",
       "      <td>1/4/1981</td>\n",
       "      <td>14.6</td>\n",
       "    </tr>\n",
       "    <tr>\n",
       "      <th>4</th>\n",
       "      <td>1/5/1981</td>\n",
       "      <td>15.8</td>\n",
       "    </tr>\n",
       "  </tbody>\n",
       "</table>\n",
       "</div>"
      ],
      "text/plain": [
       "       Date Daily minimum temperatures\n",
       "0  1/1/1981                       20.7\n",
       "1  1/2/1981                       17.9\n",
       "2  1/3/1981                       18.8\n",
       "3  1/4/1981                       14.6\n",
       "4  1/5/1981                       15.8"
      ]
     },
     "execution_count": 8,
     "metadata": {},
     "output_type": "execute_result"
    }
   ],
   "source": [
    "df = pd.read_csv(\"dailytemp.csv\",nrows=1000)\n",
    "df.head()"
   ]
  },
  {
   "cell_type": "code",
   "execution_count": 9,
   "id": "6c99111e",
   "metadata": {},
   "outputs": [],
   "source": [
    "df.columns = df.columns.str.replace(\"Daily minimum temperature\",\"temp\")"
   ]
  },
  {
   "cell_type": "code",
   "execution_count": 10,
   "id": "e6b50baa",
   "metadata": {},
   "outputs": [
    {
     "data": {
      "text/html": [
       "<div>\n",
       "<style scoped>\n",
       "    .dataframe tbody tr th:only-of-type {\n",
       "        vertical-align: middle;\n",
       "    }\n",
       "\n",
       "    .dataframe tbody tr th {\n",
       "        vertical-align: top;\n",
       "    }\n",
       "\n",
       "    .dataframe thead th {\n",
       "        text-align: right;\n",
       "    }\n",
       "</style>\n",
       "<table border=\"1\" class=\"dataframe\">\n",
       "  <thead>\n",
       "    <tr style=\"text-align: right;\">\n",
       "      <th></th>\n",
       "      <th>Date</th>\n",
       "      <th>temps</th>\n",
       "    </tr>\n",
       "  </thead>\n",
       "  <tbody>\n",
       "    <tr>\n",
       "      <th>0</th>\n",
       "      <td>1/1/1981</td>\n",
       "      <td>20.7</td>\n",
       "    </tr>\n",
       "    <tr>\n",
       "      <th>1</th>\n",
       "      <td>1/2/1981</td>\n",
       "      <td>17.9</td>\n",
       "    </tr>\n",
       "    <tr>\n",
       "      <th>2</th>\n",
       "      <td>1/3/1981</td>\n",
       "      <td>18.8</td>\n",
       "    </tr>\n",
       "    <tr>\n",
       "      <th>3</th>\n",
       "      <td>1/4/1981</td>\n",
       "      <td>14.6</td>\n",
       "    </tr>\n",
       "    <tr>\n",
       "      <th>4</th>\n",
       "      <td>1/5/1981</td>\n",
       "      <td>15.8</td>\n",
       "    </tr>\n",
       "    <tr>\n",
       "      <th>...</th>\n",
       "      <td>...</td>\n",
       "      <td>...</td>\n",
       "    </tr>\n",
       "    <tr>\n",
       "      <th>995</th>\n",
       "      <td>9/23/1983</td>\n",
       "      <td>12.9</td>\n",
       "    </tr>\n",
       "    <tr>\n",
       "      <th>996</th>\n",
       "      <td>9/24/1983</td>\n",
       "      <td>7.7</td>\n",
       "    </tr>\n",
       "    <tr>\n",
       "      <th>997</th>\n",
       "      <td>9/25/1983</td>\n",
       "      <td>7.6</td>\n",
       "    </tr>\n",
       "    <tr>\n",
       "      <th>998</th>\n",
       "      <td>9/26/1983</td>\n",
       "      <td>3.5</td>\n",
       "    </tr>\n",
       "    <tr>\n",
       "      <th>999</th>\n",
       "      <td>9/27/1983</td>\n",
       "      <td>10.4</td>\n",
       "    </tr>\n",
       "  </tbody>\n",
       "</table>\n",
       "<p>1000 rows × 2 columns</p>\n",
       "</div>"
      ],
      "text/plain": [
       "          Date temps\n",
       "0     1/1/1981  20.7\n",
       "1     1/2/1981  17.9\n",
       "2     1/3/1981  18.8\n",
       "3     1/4/1981  14.6\n",
       "4     1/5/1981  15.8\n",
       "..         ...   ...\n",
       "995  9/23/1983  12.9\n",
       "996  9/24/1983   7.7\n",
       "997  9/25/1983   7.6\n",
       "998  9/26/1983   3.5\n",
       "999  9/27/1983  10.4\n",
       "\n",
       "[1000 rows x 2 columns]"
      ]
     },
     "execution_count": 10,
     "metadata": {},
     "output_type": "execute_result"
    }
   ],
   "source": [
    "df"
   ]
  },
  {
   "cell_type": "code",
   "execution_count": 26,
   "id": "89e0bf91-40ab-41de-b4cb-6fe1739249fd",
   "metadata": {},
   "outputs": [
    {
     "data": {
      "text/html": [
       "<div>\n",
       "<style scoped>\n",
       "    .dataframe tbody tr th:only-of-type {\n",
       "        vertical-align: middle;\n",
       "    }\n",
       "\n",
       "    .dataframe tbody tr th {\n",
       "        vertical-align: top;\n",
       "    }\n",
       "\n",
       "    .dataframe thead th {\n",
       "        text-align: right;\n",
       "    }\n",
       "</style>\n",
       "<table border=\"1\" class=\"dataframe\">\n",
       "  <thead>\n",
       "    <tr style=\"text-align: right;\">\n",
       "      <th></th>\n",
       "      <th>Date</th>\n",
       "      <th>temps</th>\n",
       "    </tr>\n",
       "  </thead>\n",
       "  <tbody>\n",
       "    <tr>\n",
       "      <th>0</th>\n",
       "      <td>1981-01-01</td>\n",
       "      <td>20.7</td>\n",
       "    </tr>\n",
       "    <tr>\n",
       "      <th>1</th>\n",
       "      <td>1981-01-02</td>\n",
       "      <td>17.9</td>\n",
       "    </tr>\n",
       "    <tr>\n",
       "      <th>2</th>\n",
       "      <td>1981-01-03</td>\n",
       "      <td>18.8</td>\n",
       "    </tr>\n",
       "    <tr>\n",
       "      <th>3</th>\n",
       "      <td>1981-01-04</td>\n",
       "      <td>14.6</td>\n",
       "    </tr>\n",
       "    <tr>\n",
       "      <th>4</th>\n",
       "      <td>1981-01-05</td>\n",
       "      <td>15.8</td>\n",
       "    </tr>\n",
       "  </tbody>\n",
       "</table>\n",
       "</div>"
      ],
      "text/plain": [
       "        Date temps\n",
       "0 1981-01-01  20.7\n",
       "1 1981-01-02  17.9\n",
       "2 1981-01-03  18.8\n",
       "3 1981-01-04  14.6\n",
       "4 1981-01-05  15.8"
      ]
     },
     "execution_count": 26,
     "metadata": {},
     "output_type": "execute_result"
    }
   ],
   "source": [
    "df[\"Date\"]=pd.to_datetime(df[\"Date\"])\n",
    "df.head()"
   ]
  },
  {
   "cell_type": "code",
   "execution_count": 11,
   "id": "257033ca",
   "metadata": {},
   "outputs": [
    {
     "data": {
      "text/plain": [
       "<matplotlib.collections.PathCollection at 0x1dfc7980f10>"
      ]
     },
     "execution_count": 11,
     "metadata": {},
     "output_type": "execute_result"
    },
    {
     "data": {
      "image/png": "[encoded data removed]",
      "text/plain": [
       "<Figure size 640x480 with 1 Axes>"
      ]
     },
     "metadata": {},
     "output_type": "display_data"
    }
   ],
   "source": [
    "plt.scatter(df[\"Date\"],df[\"temps\"])"
   ]
  },
  {
   "cell_type": "code",
   "execution_count": 23,
   "id": "a0906d46",
   "metadata": {},
   "outputs": [],
   "source": [
    "x=df[\"temps\"].ewm(alpha=0.9).mean"
   ]
  },
  {
   "cell_type": "code",
   "execution_count": 25,
   "id": "bf8f9460",
   "metadata": {},
   "outputs": [
    {
     "data": {
      "text/plain": [
       "<bound method ExponentialMovingWindow.mean of ExponentialMovingWindow [alpha=0.9,min_periods=1,adjust=True,ignore_na=False,axis=0,method=single]>"
      ]
     },
     "execution_count": 25,
     "metadata": {},
     "output_type": "execute_result"
    }
   ],
   "source": [
    "x"
   ]
  },
  {
   "cell_type": "markdown",
   "id": "c0e3b98f",
   "metadata": {},
   "source": [
    "## Optimization technique\n",
    "### SGD momentum\n",
    "- $ W_{t+1} = W_t + \\eta\\Delta.W_t$\n",
    "- $ V_t = \\beta .V_{t+1} + \\eta\\Delta w_t $\n",
    " :where $\\beta$ ts called decaying velocity\n",
    " \n",
    "**Advantage of momentum**\n",
    "- momentum is faster \n",
    "- escape local minimum\n",
    "\n",
    "**Disadvantage**\n",
    "- slow near to optimum solution due to oscilation"
   ]
  },
  {
   "cell_type": "code",
   "execution_count": 32,
   "id": "541ec823",
   "metadata": {
    "scrolled": false
   },
   "outputs": [
    {
     "name": "stderr",
     "output_type": "stream",
     "text": [
      "C:\\Users\\Lenovo\\AppData\\Roaming\\Python\\Python310\\site-packages\\IPython\\core\\display.py:431: UserWarning: Consider using IPython.display.IFrame instead\n",
      "  warnings.warn(\"Consider using IPython.display.IFrame instead\")\n"
     ]
    },
    {
     "data": {
      "text/html": [
       "<iframe width=\"560\" height=\"315\" src=\"https://www.youtube.com/embed/GCvWD9zIF-s\" title=\"YouTube video player\" frameborder=\"0\" allow=\"accelerometer; autoplay; clipboard-write; encrypted-media; gyroscope; picture-in-picture; web-share\" allowfullscreen></iframe>"
      ],
      "text/plain": [
       "<IPython.core.display.HTML object>"
      ]
     },
     "execution_count": 32,
     "metadata": {},
     "output_type": "execute_result"
    }
   ],
   "source": [
    "from IPython.display import HTML\n",
    "HTML('<iframe width=\"560\" height=\"315\" src=\"https://www.youtube.com/embed/GCvWD9zIF-s\" title=\"YouTube video player\" frameborder=\"0\" allow=\"accelerometer; autoplay; clipboard-write; encrypted-media; gyroscope; picture-in-picture; web-share\" allowfullscreen></iframe>')"
   ]
  },
  {
   "cell_type": "markdown",
   "id": "c3982c8e",
   "metadata": {},
   "source": [
    "## NAG(Nesterov Accelerated Gradient)\n",
    "\n",
    "The acceleration of momentum can overshoot the minima at the bottom of basins or valleys. Nesterov momentum is an extension of momentum that involves calculating the decaying moving average of the gradients of projected positions in the search space rather than the actual positions themselves.\n",
    "\n",
    "This has the effect of harnessing the accelerating benefits of momentum whilst allowing the search to slow down when approaching the optima and reduce the likelihood of missing or overshooting it.\n",
    "\n",
    "- history of velocity\n",
    "- gradient at that point\n",
    "- look ahead terms\n",
    "\n",
    "**NAG Dammped in oscillatory leads to converge to local minmum**\n",
    "\n",
    "tf keras optimizers SGD{\n",
    "learning rate=0.01, momentum=0.1,nesterov=False, name=\"SGD\"\n",
    "}\n",
    "nestorov false for Momemtum, True for NAG "
   ]
  },
  {
   "cell_type": "markdown",
   "id": "3f8b1539",
   "metadata": {},
   "source": [
    "## AdaGrad (Adaptive Gradient)\n",
    "Adaptive Gradient Algorithm (Adagrad) is an algorithm for gradient-based optimization. The learning rate is adapted component-wise to the parameters by incorporating knowledge of past observations.\n",
    "\n",
    "features-> sparse {mean most of the values are zero}\n",
    "\n",
    "**BatchGD and Momentum could coverge slow in spare datasets, weight update in sparse columns is less in compare to non sparse columns**\n",
    "\n",
    "### AdaGrad Elongated bowl problem\n",
    "- due to presence of sparse feature forming  ellipsoid\n",
    "- In AdaGrad set different learning rate for different parameter \n",
    "\n",
    "\\begin{gather*} W_{t+1} = W_t - \\eta\\Delta.\\frac{W_t}{\\sqrt{v +\\epsilon }} \\end{gather*}\n",
    "\n",
    "\\begin{gather*} b_{t+1} = b_t - \\eta\\Delta.\\frac{b_t}{\\sqrt{v +\\epsilon }} \\end{gather*}\n",
    "\n",
    "## Disadvatage\n",
    "- Does not converge to solution due to oscillation at centre\n",
    "- it works on only convex problem like tnear regression"
   ]
  },
  {
   "cell_type": "markdown",
   "id": "166037ef",
   "metadata": {},
   "source": [
    "# Root Mean Square Prop\n",
    "Root Mean Squared Propagation, or RMSProp, is an extension of gradient descent and the AdaGrad version of gradient descent that uses a decaying average of partial gradients in the adaptation of the step size for each parameter.\n",
    "\n",
    "- It wotks also on non convex Problem\n",
    "- Its is an exponentially decaying weighted avearge\n",
    "\n",
    "- $ v_t = v_{t-1} + (\\Delta w_t)^2 $\n",
    "- $ w_{t-1} = w_t + \\eta\\Delta \\frac{\\Delta w_t}{\\sqrt{v_t +\\epsilon}} $"
   ]
  },
  {
   "cell_type": "markdown",
   "id": "57417694",
   "metadata": {},
   "source": [
    "## Adam(Adaptive momet Estimstion)\n",
    "Adaptive Moment Estimation is an algorithm for optimization technique for gradient descent. The method is really efficient when working with large problems involving a lot of data or parameters. It requires less memory and is efficient. Intuitively, it is a combination of the ‘gradient descent with momentum’ algorithm and the ‘RMSP’ algorithm.\n",
    "- uses both momemtum and Adagrad\n",
    "- $ w_{t-1} = w_t + \\frac{\\eta}{\\sqrt{v_t +\\epsilon}} m_t$\n",
    "\n",
    "**There are more optimizers like AdaDelta, AdaExpo**\n",
    "**It is wise to start with Ada then move to other**"
   ]
  },
  {
   "cell_type": "markdown",
   "id": "055d4439",
   "metadata": {},
   "source": []
  },
  {
   "cell_type": "code",
   "execution_count": null,
   "id": "25af5ff8",
   "metadata": {},
   "outputs": [],
   "source": []
  },
  {
   "cell_type": "code",
   "execution_count": null,
   "id": "20c8f3ef",
   "metadata": {},
   "outputs": [],
   "source": []
  }
 ],
 "metadata": {
  "kernelspec": {
   "display_name": "Python 3 (ipykernel)",
   "language": "python",
   "name": "python3"
  },
  "language_info": {
   "codemirror_mode": {
    "name": "ipython",
    "version": 3
   },
   "file_extension": ".py",
   "mimetype": "text/x-python",
   "name": "python",
   "nbconvert_exporter": "python",
   "pygments_lexer": "ipython3",
   "version": "3.10.9"
  }
 },
 "nbformat": 4,
 "nbformat_minor": 5
}
