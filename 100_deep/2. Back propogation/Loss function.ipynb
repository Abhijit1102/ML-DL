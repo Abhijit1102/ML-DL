{
 "cells": [
  {
   "cell_type": "markdown",
   "id": "12a0f00a",
   "metadata": {},
   "source": [
    "### Loss Function\n",
    "- Loss function ia method of evaluating how well your algorithm is modelin your datasets.\n",
    "\n",
    "### Loss Function in DL\n",
    "\n",
    "#### Regression\n",
    "- MSE\n",
    "- MAE\n",
    "- Huber Loss\n",
    "\n",
    "#### Classification\n",
    "- Binary cross entropy\n",
    "- Categorical cros entropy\n",
    "- Hinge loss\n",
    " \n",
    "#### Autoencoder\n",
    "- KL divergence\n",
    "\n",
    "#### GAN\n",
    "- Discrinator loss\n",
    "- minmax gan loss\n",
    "\n",
    "#### Embedding Triples loss\n",
    "#### object deteaction \n",
    "- facial loss\n",
    "\n",
    "<img src=\"https://miro.medium.com/max/640/1*3MsFzl7zRZE3TihIC9JmaQ.webp\">"
   ]
  },
  {
   "cell_type": "markdown",
   "id": "9f3119d5",
   "metadata": {},
   "source": [
    "#### Difference betwwen loss function and cost function(error fdunction)\n",
    "- In other words, the loss function is to capture the difference between the actual and predicted values for a single record whereas cost functions aggregate the difference for the entire training dataset. The Most commonly used loss functions are Mean-squared error and Hinge loss\n"
   ]
  },
  {
   "cell_type": "markdown",
   "id": "d83f2a90",
   "metadata": {},
   "source": [
    "## MSE\n",
    "### Advantage\n",
    "- Easy to interpret\n",
    "- differentiable(GD)\n",
    "- 1 local minima\n",
    "### Disadvatage\n",
    "- Error unit(squared)\n",
    "- not Robust to outlier\n",
    "\n",
    "#### In DL last nodes activation function then we can use MSE as loss function\n",
    "\n",
    "## MAE\n",
    "### Advantage\n",
    "- Easy to interpret\n",
    "- unit is ame as y\n",
    "- Robust to oulier or call handle outler\n",
    "\n",
    "### Disadvatages\n",
    "- functionis not differentiable, algo use differentiability\n",
    "\n",
    "### Huber loss\n",
    "\n",
    "<img src=\"https://pbs.twimg.com/media/FN_ixIPXEAQp04S?format=jpg&name=medium\">\n",
    "\n",
    "- if data contain 25% of outlier then Huber loss\n",
    "\n",
    "- if data is outlier it act like as mae & if not outlier then mae.\n",
    "\n",
    "### Binary Cross Entropyy(log-loss)\n",
    "- It is used for binary classification\n",
    "- In case of binary last hidden layer must be actication sigmoid.\n",
    "#### Didsadvatage\n",
    "- multi local\n",
    "- not intutive i.e. not interpretable\n",
    "\n",
    "### Categorical cross entropy\n",
    "- used in multi classifiaction\n",
    "- in multi class output layer noof node equal to class & activation is sigmoid\n",
    "\n",
    "<img src=\"https://gombru.github.io/assets/cross_entropy_loss/intro.png\">\n",
    "\n",
    "- Firstly onehot encoding  is done in data \n",
    "\n",
    "### Spare categorical cross entropy are almost simillar but use used integer encoding in case of sparse."
   ]
  },
  {
   "cell_type": "code",
   "execution_count": null,
   "id": "bb3f78e9",
   "metadata": {},
   "outputs": [],
   "source": []
  },
  {
   "cell_type": "code",
   "execution_count": null,
   "id": "04ca9dd6",
   "metadata": {},
   "outputs": [],
   "source": []
  },
  {
   "cell_type": "code",
   "execution_count": null,
   "id": "bed60188",
   "metadata": {},
   "outputs": [],
   "source": []
  },
  {
   "cell_type": "code",
   "execution_count": null,
   "id": "6c05adb6",
   "metadata": {},
   "outputs": [],
   "source": []
  },
  {
   "cell_type": "code",
   "execution_count": null,
   "id": "6f880ba9",
   "metadata": {},
   "outputs": [],
   "source": []
  },
  {
   "cell_type": "code",
   "execution_count": null,
   "id": "90bb3c19",
   "metadata": {},
   "outputs": [],
   "source": []
  }
 ],
 "metadata": {
  "kernelspec": {
   "display_name": "Python 3 (ipykernel)",
   "language": "python",
   "name": "python3"
  },
  "language_info": {
   "codemirror_mode": {
    "name": "ipython",
    "version": 3
   },
   "file_extension": ".py",
   "mimetype": "text/x-python",
   "name": "python",
   "nbconvert_exporter": "python",
   "pygments_lexer": "ipython3",
   "version": "3.10.9"
  }
 },
 "nbformat": 4,
 "nbformat_minor": 5
}
