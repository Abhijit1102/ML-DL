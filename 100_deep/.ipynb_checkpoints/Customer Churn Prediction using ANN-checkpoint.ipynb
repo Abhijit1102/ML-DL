{
 "cells": [
  {
   "cell_type": "code",
   "execution_count": 33,
   "id": "f71e9e68",
   "metadata": {},
   "outputs": [],
   "source": [
    "import pandas as pd\n",
    "import numpy as np"
   ]
  },
  {
   "cell_type": "code",
   "execution_count": 34,
   "id": "a609162e",
   "metadata": {},
   "outputs": [],
   "source": [
    "df = pd.read_csv(\"ChuRn_Modelling.csv\")"
   ]
  },
  {
   "cell_type": "code",
   "execution_count": 35,
   "id": "7b5f650c",
   "metadata": {},
   "outputs": [
    {
     "data": {
      "text/html": [
       "<div>\n",
       "<style scoped>\n",
       "    .dataframe tbody tr th:only-of-type {\n",
       "        vertical-align: middle;\n",
       "    }\n",
       "\n",
       "    .dataframe tbody tr th {\n",
       "        vertical-align: top;\n",
       "    }\n",
       "\n",
       "    .dataframe thead th {\n",
       "        text-align: right;\n",
       "    }\n",
       "</style>\n",
       "<table border=\"1\" class=\"dataframe\">\n",
       "  <thead>\n",
       "    <tr style=\"text-align: right;\">\n",
       "      <th></th>\n",
       "      <th>RowNumber</th>\n",
       "      <th>CustomerId</th>\n",
       "      <th>Surname</th>\n",
       "      <th>CreditScore</th>\n",
       "      <th>Geography</th>\n",
       "      <th>Gender</th>\n",
       "      <th>Age</th>\n",
       "      <th>Tenure</th>\n",
       "      <th>Balance</th>\n",
       "      <th>NumOfProducts</th>\n",
       "      <th>HasCrCard</th>\n",
       "      <th>IsActiveMember</th>\n",
       "      <th>EstimatedSalary</th>\n",
       "      <th>Exited</th>\n",
       "    </tr>\n",
       "  </thead>\n",
       "  <tbody>\n",
       "    <tr>\n",
       "      <th>0</th>\n",
       "      <td>1</td>\n",
       "      <td>15634602</td>\n",
       "      <td>Hargrave</td>\n",
       "      <td>619</td>\n",
       "      <td>France</td>\n",
       "      <td>Female</td>\n",
       "      <td>42</td>\n",
       "      <td>2</td>\n",
       "      <td>0.00</td>\n",
       "      <td>1</td>\n",
       "      <td>1</td>\n",
       "      <td>1</td>\n",
       "      <td>101348.88</td>\n",
       "      <td>1</td>\n",
       "    </tr>\n",
       "    <tr>\n",
       "      <th>1</th>\n",
       "      <td>2</td>\n",
       "      <td>15647311</td>\n",
       "      <td>Hill</td>\n",
       "      <td>608</td>\n",
       "      <td>Spain</td>\n",
       "      <td>Female</td>\n",
       "      <td>41</td>\n",
       "      <td>1</td>\n",
       "      <td>83807.86</td>\n",
       "      <td>1</td>\n",
       "      <td>0</td>\n",
       "      <td>1</td>\n",
       "      <td>112542.58</td>\n",
       "      <td>0</td>\n",
       "    </tr>\n",
       "  </tbody>\n",
       "</table>\n",
       "</div>"
      ],
      "text/plain": [
       "   RowNumber  CustomerId   Surname  CreditScore Geography  Gender  Age  \\\n",
       "0          1    15634602  Hargrave          619    France  Female   42   \n",
       "1          2    15647311      Hill          608     Spain  Female   41   \n",
       "\n",
       "   Tenure   Balance  NumOfProducts  HasCrCard  IsActiveMember  \\\n",
       "0       2      0.00              1          1               1   \n",
       "1       1  83807.86              1          0               1   \n",
       "\n",
       "   EstimatedSalary  Exited  \n",
       "0        101348.88       1  \n",
       "1        112542.58       0  "
      ]
     },
     "execution_count": 35,
     "metadata": {},
     "output_type": "execute_result"
    }
   ],
   "source": [
    "df.head(2)"
   ]
  },
  {
   "cell_type": "code",
   "execution_count": 36,
   "id": "6a138a1f",
   "metadata": {
    "scrolled": true
   },
   "outputs": [
    {
     "name": "stdout",
     "output_type": "stream",
     "text": [
      "<class 'pandas.core.frame.DataFrame'>\n",
      "RangeIndex: 10000 entries, 0 to 9999\n",
      "Data columns (total 14 columns):\n",
      " #   Column           Non-Null Count  Dtype  \n",
      "---  ------           --------------  -----  \n",
      " 0   RowNumber        10000 non-null  int64  \n",
      " 1   CustomerId       10000 non-null  int64  \n",
      " 2   Surname          10000 non-null  object \n",
      " 3   CreditScore      10000 non-null  int64  \n",
      " 4   Geography        10000 non-null  object \n",
      " 5   Gender           10000 non-null  object \n",
      " 6   Age              10000 non-null  int64  \n",
      " 7   Tenure           10000 non-null  int64  \n",
      " 8   Balance          10000 non-null  float64\n",
      " 9   NumOfProducts    10000 non-null  int64  \n",
      " 10  HasCrCard        10000 non-null  int64  \n",
      " 11  IsActiveMember   10000 non-null  int64  \n",
      " 12  EstimatedSalary  10000 non-null  float64\n",
      " 13  Exited           10000 non-null  int64  \n",
      "dtypes: float64(2), int64(9), object(3)\n",
      "memory usage: 1.1+ MB\n"
     ]
    }
   ],
   "source": [
    "df.info()"
   ]
  },
  {
   "cell_type": "code",
   "execution_count": 37,
   "id": "915178a9",
   "metadata": {},
   "outputs": [],
   "source": [
    "df.drop(columns=[\"RowNumber\", \"CustomerId\",\"Surname\"],inplace =True)"
   ]
  },
  {
   "cell_type": "code",
   "execution_count": 38,
   "id": "5dc75a03",
   "metadata": {},
   "outputs": [
    {
     "data": {
      "text/html": [
       "<div>\n",
       "<style scoped>\n",
       "    .dataframe tbody tr th:only-of-type {\n",
       "        vertical-align: middle;\n",
       "    }\n",
       "\n",
       "    .dataframe tbody tr th {\n",
       "        vertical-align: top;\n",
       "    }\n",
       "\n",
       "    .dataframe thead th {\n",
       "        text-align: right;\n",
       "    }\n",
       "</style>\n",
       "<table border=\"1\" class=\"dataframe\">\n",
       "  <thead>\n",
       "    <tr style=\"text-align: right;\">\n",
       "      <th></th>\n",
       "      <th>CreditScore</th>\n",
       "      <th>Geography</th>\n",
       "      <th>Gender</th>\n",
       "      <th>Age</th>\n",
       "      <th>Tenure</th>\n",
       "      <th>Balance</th>\n",
       "      <th>NumOfProducts</th>\n",
       "      <th>HasCrCard</th>\n",
       "      <th>IsActiveMember</th>\n",
       "      <th>EstimatedSalary</th>\n",
       "      <th>Exited</th>\n",
       "    </tr>\n",
       "  </thead>\n",
       "  <tbody>\n",
       "    <tr>\n",
       "      <th>0</th>\n",
       "      <td>619</td>\n",
       "      <td>France</td>\n",
       "      <td>Female</td>\n",
       "      <td>42</td>\n",
       "      <td>2</td>\n",
       "      <td>0.00</td>\n",
       "      <td>1</td>\n",
       "      <td>1</td>\n",
       "      <td>1</td>\n",
       "      <td>101348.88</td>\n",
       "      <td>1</td>\n",
       "    </tr>\n",
       "    <tr>\n",
       "      <th>1</th>\n",
       "      <td>608</td>\n",
       "      <td>Spain</td>\n",
       "      <td>Female</td>\n",
       "      <td>41</td>\n",
       "      <td>1</td>\n",
       "      <td>83807.86</td>\n",
       "      <td>1</td>\n",
       "      <td>0</td>\n",
       "      <td>1</td>\n",
       "      <td>112542.58</td>\n",
       "      <td>0</td>\n",
       "    </tr>\n",
       "    <tr>\n",
       "      <th>2</th>\n",
       "      <td>502</td>\n",
       "      <td>France</td>\n",
       "      <td>Female</td>\n",
       "      <td>42</td>\n",
       "      <td>8</td>\n",
       "      <td>159660.80</td>\n",
       "      <td>3</td>\n",
       "      <td>1</td>\n",
       "      <td>0</td>\n",
       "      <td>113931.57</td>\n",
       "      <td>1</td>\n",
       "    </tr>\n",
       "    <tr>\n",
       "      <th>3</th>\n",
       "      <td>699</td>\n",
       "      <td>France</td>\n",
       "      <td>Female</td>\n",
       "      <td>39</td>\n",
       "      <td>1</td>\n",
       "      <td>0.00</td>\n",
       "      <td>2</td>\n",
       "      <td>0</td>\n",
       "      <td>0</td>\n",
       "      <td>93826.63</td>\n",
       "      <td>0</td>\n",
       "    </tr>\n",
       "    <tr>\n",
       "      <th>4</th>\n",
       "      <td>850</td>\n",
       "      <td>Spain</td>\n",
       "      <td>Female</td>\n",
       "      <td>43</td>\n",
       "      <td>2</td>\n",
       "      <td>125510.82</td>\n",
       "      <td>1</td>\n",
       "      <td>1</td>\n",
       "      <td>1</td>\n",
       "      <td>79084.10</td>\n",
       "      <td>0</td>\n",
       "    </tr>\n",
       "  </tbody>\n",
       "</table>\n",
       "</div>"
      ],
      "text/plain": [
       "   CreditScore Geography  Gender  Age  Tenure    Balance  NumOfProducts  \\\n",
       "0          619    France  Female   42       2       0.00              1   \n",
       "1          608     Spain  Female   41       1   83807.86              1   \n",
       "2          502    France  Female   42       8  159660.80              3   \n",
       "3          699    France  Female   39       1       0.00              2   \n",
       "4          850     Spain  Female   43       2  125510.82              1   \n",
       "\n",
       "   HasCrCard  IsActiveMember  EstimatedSalary  Exited  \n",
       "0          1               1        101348.88       1  \n",
       "1          0               1        112542.58       0  \n",
       "2          1               0        113931.57       1  \n",
       "3          0               0         93826.63       0  \n",
       "4          1               1         79084.10       0  "
      ]
     },
     "execution_count": 38,
     "metadata": {},
     "output_type": "execute_result"
    }
   ],
   "source": [
    "df.head()"
   ]
  },
  {
   "cell_type": "code",
   "execution_count": 41,
   "id": "6397b6d9",
   "metadata": {},
   "outputs": [],
   "source": [
    "df =pd.get_dummies(df, columns=[\"Geography\", \"Gender\"], drop_first=True)"
   ]
  },
  {
   "cell_type": "code",
   "execution_count": 42,
   "id": "ed572d40",
   "metadata": {},
   "outputs": [
    {
     "name": "stdout",
     "output_type": "stream",
     "text": [
      "<class 'pandas.core.frame.DataFrame'>\n",
      "RangeIndex: 10000 entries, 0 to 9999\n",
      "Data columns (total 12 columns):\n",
      " #   Column             Non-Null Count  Dtype  \n",
      "---  ------             --------------  -----  \n",
      " 0   CreditScore        10000 non-null  int64  \n",
      " 1   Age                10000 non-null  int64  \n",
      " 2   Tenure             10000 non-null  int64  \n",
      " 3   Balance            10000 non-null  float64\n",
      " 4   NumOfProducts      10000 non-null  int64  \n",
      " 5   HasCrCard          10000 non-null  int64  \n",
      " 6   IsActiveMember     10000 non-null  int64  \n",
      " 7   EstimatedSalary    10000 non-null  float64\n",
      " 8   Exited             10000 non-null  int64  \n",
      " 9   Geography_Germany  10000 non-null  uint8  \n",
      " 10  Geography_Spain    10000 non-null  uint8  \n",
      " 11  Gender_Male        10000 non-null  uint8  \n",
      "dtypes: float64(2), int64(7), uint8(3)\n",
      "memory usage: 732.5 KB\n"
     ]
    }
   ],
   "source": [
    "df.info()"
   ]
  },
  {
   "cell_type": "code",
   "execution_count": 43,
   "id": "6f4613c5",
   "metadata": {},
   "outputs": [],
   "source": [
    "X = df.drop(columns=['Exited'])\n",
    "y = df['Exited'].values\n",
    "\n",
    "from sklearn.model_selection import train_test_split\n",
    "X_train,X_test,y_train,y_test = train_test_split(X,y,test_size=0.2,random_state=0)"
   ]
  },
  {
   "cell_type": "code",
   "execution_count": 44,
   "id": "8202d52c",
   "metadata": {},
   "outputs": [
    {
     "name": "stdout",
     "output_type": "stream",
     "text": [
      "<class 'pandas.core.frame.DataFrame'>\n",
      "Int64Index: 8000 entries, 7389 to 2732\n",
      "Data columns (total 11 columns):\n",
      " #   Column             Non-Null Count  Dtype  \n",
      "---  ------             --------------  -----  \n",
      " 0   CreditScore        8000 non-null   int64  \n",
      " 1   Age                8000 non-null   int64  \n",
      " 2   Tenure             8000 non-null   int64  \n",
      " 3   Balance            8000 non-null   float64\n",
      " 4   NumOfProducts      8000 non-null   int64  \n",
      " 5   HasCrCard          8000 non-null   int64  \n",
      " 6   IsActiveMember     8000 non-null   int64  \n",
      " 7   EstimatedSalary    8000 non-null   float64\n",
      " 8   Geography_Germany  8000 non-null   uint8  \n",
      " 9   Geography_Spain    8000 non-null   uint8  \n",
      " 10  Gender_Male        8000 non-null   uint8  \n",
      "dtypes: float64(2), int64(6), uint8(3)\n",
      "memory usage: 585.9 KB\n"
     ]
    }
   ],
   "source": [
    "X_train.info()"
   ]
  },
  {
   "cell_type": "code",
   "execution_count": 45,
   "id": "d8b00e7b",
   "metadata": {},
   "outputs": [],
   "source": [
    "from sklearn.preprocessing import StandardScaler\n",
    "scaler = StandardScaler()"
   ]
  },
  {
   "cell_type": "code",
   "execution_count": 46,
   "id": "2a77240b",
   "metadata": {},
   "outputs": [],
   "source": [
    "X_train_trf = scaler.fit_transform(X_train)\n",
    "X_test_trf = scaler.transform(X_test)"
   ]
  },
  {
   "cell_type": "code",
   "execution_count": 47,
   "id": "28007cae",
   "metadata": {},
   "outputs": [
    {
     "data": {
      "text/plain": [
       "array([[ 0.16958176, -0.46460796,  0.00666099, ..., -0.5698444 ,\n",
       "         1.74309049, -1.09168714],\n",
       "       [-2.30455945,  0.30102557, -1.37744033, ...,  1.75486502,\n",
       "        -0.57369368,  0.91601335],\n",
       "       [-1.19119591, -0.94312892, -1.031415  , ..., -0.5698444 ,\n",
       "        -0.57369368, -1.09168714],\n",
       "       ...,\n",
       "       [ 0.9015152 , -0.36890377,  0.00666099, ..., -0.5698444 ,\n",
       "        -0.57369368,  0.91601335],\n",
       "       [-0.62420521, -0.08179119,  1.39076231, ..., -0.5698444 ,\n",
       "         1.74309049, -1.09168714],\n",
       "       [-0.28401079,  0.87525072, -1.37744033, ...,  1.75486502,\n",
       "        -0.57369368, -1.09168714]])"
      ]
     },
     "execution_count": 47,
     "metadata": {},
     "output_type": "execute_result"
    }
   ],
   "source": [
    "X_train_trf"
   ]
  },
  {
   "cell_type": "code",
   "execution_count": 50,
   "id": "eca75833",
   "metadata": {},
   "outputs": [],
   "source": [
    "import tensorflow\n",
    "from tensorflow import keras\n",
    "from tensorflow.keras import Sequential\n",
    "from tensorflow.keras.layers import Dense"
   ]
  },
  {
   "cell_type": "code",
   "execution_count": 55,
   "id": "c008ac31",
   "metadata": {},
   "outputs": [],
   "source": [
    "model = Sequential()\n",
    "\n",
    "model.add(Dense(3, activation =\"sigmoid\", input_dim = 11))\n",
    "model.add(Dense(1, activation =\"sigmoid\"))\n"
   ]
  },
  {
   "cell_type": "code",
   "execution_count": 57,
   "id": "ec82403a",
   "metadata": {},
   "outputs": [
    {
     "name": "stdout",
     "output_type": "stream",
     "text": [
      "Model: \"sequential_3\"\n",
      "_________________________________________________________________\n",
      " Layer (type)                Output Shape              Param #   \n",
      "=================================================================\n",
      " dense_3 (Dense)             (None, 3)                 36        \n",
      "                                                                 \n",
      " dense_4 (Dense)             (None, 1)                 4         \n",
      "                                                                 \n",
      "=================================================================\n",
      "Total params: 40\n",
      "Trainable params: 40\n",
      "Non-trainable params: 0\n",
      "_________________________________________________________________\n"
     ]
    }
   ],
   "source": [
    "model.summary()"
   ]
  },
  {
   "cell_type": "code",
   "execution_count": 60,
   "id": "b2a6b9ea",
   "metadata": {},
   "outputs": [],
   "source": [
    "model.compile(loss=\"binary_crossentropy\", optimizer= \"Adam\")"
   ]
  },
  {
   "cell_type": "code",
   "execution_count": 62,
   "id": "b31122f5",
   "metadata": {},
   "outputs": [
    {
     "name": "stdout",
     "output_type": "stream",
     "text": [
      "Epoch 1/30\n",
      "250/250 [==============================] - 1s 2ms/step - loss: 0.4192\n",
      "Epoch 2/30\n",
      "250/250 [==============================] - 1s 2ms/step - loss: 0.4174\n",
      "Epoch 3/30\n",
      "250/250 [==============================] - 1s 2ms/step - loss: 0.4157\n",
      "Epoch 4/30\n",
      "250/250 [==============================] - 1s 2ms/step - loss: 0.4142\n",
      "Epoch 5/30\n",
      "250/250 [==============================] - 1s 2ms/step - loss: 0.4126\n",
      "Epoch 6/30\n",
      "250/250 [==============================] - 1s 2ms/step - loss: 0.4112\n",
      "Epoch 7/30\n",
      "250/250 [==============================] - 1s 2ms/step - loss: 0.4098\n",
      "Epoch 8/30\n",
      "250/250 [==============================] - 1s 2ms/step - loss: 0.4086\n",
      "Epoch 9/30\n",
      "250/250 [==============================] - 1s 2ms/step - loss: 0.4074\n",
      "Epoch 10/30\n",
      "250/250 [==============================] - 1s 2ms/step - loss: 0.4063\n",
      "Epoch 11/30\n",
      "250/250 [==============================] - 1s 2ms/step - loss: 0.4053\n",
      "Epoch 12/30\n",
      "250/250 [==============================] - 1s 2ms/step - loss: 0.4043\n",
      "Epoch 13/30\n",
      "250/250 [==============================] - 1s 2ms/step - loss: 0.4034\n",
      "Epoch 14/30\n",
      "250/250 [==============================] - 1s 2ms/step - loss: 0.4026\n",
      "Epoch 15/30\n",
      "250/250 [==============================] - 1s 2ms/step - loss: 0.4018\n",
      "Epoch 16/30\n",
      "250/250 [==============================] - 1s 2ms/step - loss: 0.4012\n",
      "Epoch 17/30\n",
      "250/250 [==============================] - 1s 2ms/step - loss: 0.4005\n",
      "Epoch 18/30\n",
      "250/250 [==============================] - 1s 2ms/step - loss: 0.3999\n",
      "Epoch 19/30\n",
      "250/250 [==============================] - 1s 2ms/step - loss: 0.3994\n",
      "Epoch 20/30\n",
      "250/250 [==============================] - 1s 2ms/step - loss: 0.3988\n",
      "Epoch 21/30\n",
      "250/250 [==============================] - 1s 2ms/step - loss: 0.3983\n",
      "Epoch 22/30\n",
      "250/250 [==============================] - 1s 2ms/step - loss: 0.3979\n",
      "Epoch 23/30\n",
      "250/250 [==============================] - 1s 3ms/step - loss: 0.3974\n",
      "Epoch 24/30\n",
      "250/250 [==============================] - 1s 2ms/step - loss: 0.3971\n",
      "Epoch 25/30\n",
      "250/250 [==============================] - 1s 2ms/step - loss: 0.3966\n",
      "Epoch 26/30\n",
      "250/250 [==============================] - 1s 2ms/step - loss: 0.3963\n",
      "Epoch 27/30\n",
      "250/250 [==============================] - 1s 2ms/step - loss: 0.3960\n",
      "Epoch 28/30\n",
      "250/250 [==============================] - 1s 3ms/step - loss: 0.3956\n",
      "Epoch 29/30\n",
      "250/250 [==============================] - 1s 2ms/step - loss: 0.3953\n",
      "Epoch 30/30\n",
      "250/250 [==============================] - 1s 2ms/step - loss: 0.3951\n"
     ]
    },
    {
     "data": {
      "text/plain": [
       "<keras.callbacks.History at 0x20308e25ea0>"
      ]
     },
     "execution_count": 62,
     "metadata": {},
     "output_type": "execute_result"
    }
   ],
   "source": [
    "model.fit(X_train_trf, y_train, epochs=30)"
   ]
  },
  {
   "cell_type": "code",
   "execution_count": 64,
   "id": "dbc343fc",
   "metadata": {},
   "outputs": [
    {
     "data": {
      "text/plain": [
       "[array([[ 0.06857753, -0.07198168,  0.14600399],\n",
       "        [-2.887658  , -0.25292018,  0.2355494 ],\n",
       "        [ 0.09149953, -0.15094993,  0.03835619],\n",
       "        [-0.46723896, -0.6994014 ,  0.74210054],\n",
       "        [-0.8672941 , -2.4352036 ,  2.3662686 ],\n",
       "        [ 0.05372165,  0.0548563 ,  0.00599041],\n",
       "        [ 0.06599106, -0.9376013 ,  0.7520134 ],\n",
       "        [ 0.14133166,  0.24185081, -0.1420205 ],\n",
       "        [-0.2563103 ,  0.7741481 , -0.7930214 ],\n",
       "        [-0.13592134, -0.04809799,  0.09243073],\n",
       "        [ 0.35782173, -0.1590834 ,  0.32887548]], dtype=float32),\n",
       " array([ 0.45704997, -1.6112916 ,  1.5945967 ], dtype=float32)]"
      ]
     },
     "execution_count": 64,
     "metadata": {},
     "output_type": "execute_result"
    }
   ],
   "source": [
    "model.layers[0].get_weights() # wieght"
   ]
  },
  {
   "cell_type": "code",
   "execution_count": 65,
   "id": "799467c9",
   "metadata": {},
   "outputs": [
    {
     "data": {
      "text/plain": [
       "[array([[-2.822381 ],\n",
       "        [ 1.5584743],\n",
       "        [-1.0607431]], dtype=float32),\n",
       " array([0.1806032], dtype=float32)]"
      ]
     },
     "execution_count": 65,
     "metadata": {},
     "output_type": "execute_result"
    }
   ],
   "source": [
    "model.layers[1].get_weights() # bias"
   ]
  },
  {
   "cell_type": "code",
   "execution_count": 68,
   "id": "419fe440",
   "metadata": {},
   "outputs": [
    {
     "name": "stdout",
     "output_type": "stream",
     "text": [
      "63/63 [==============================] - 0s 2ms/step\n"
     ]
    }
   ],
   "source": [
    "y_log = model.predict(X_test_trf)"
   ]
  },
  {
   "cell_type": "code",
   "execution_count": 71,
   "id": "80863b25",
   "metadata": {},
   "outputs": [
    {
     "data": {
      "text/plain": [
       "array([[0],\n",
       "       [0],\n",
       "       [0],\n",
       "       ...,\n",
       "       [0],\n",
       "       [0],\n",
       "       [0]])"
      ]
     },
     "execution_count": 71,
     "metadata": {},
     "output_type": "execute_result"
    }
   ],
   "source": [
    "y_pred = np.where(y_log>0.5, 1, 0)\n",
    "y_pred"
   ]
  },
  {
   "cell_type": "code",
   "execution_count": 73,
   "id": "cc5fa1ab",
   "metadata": {},
   "outputs": [
    {
     "data": {
      "text/plain": [
       "0.8355"
      ]
     },
     "execution_count": 73,
     "metadata": {},
     "output_type": "execute_result"
    }
   ],
   "source": [
    "from sklearn.metrics import accuracy_score\n",
    "accuracy_score(y_test, y_pred)"
   ]
  },
  {
   "cell_type": "code",
   "execution_count": null,
   "id": "532f3c29",
   "metadata": {},
   "outputs": [],
   "source": [
    "########"
   ]
  },
  {
   "cell_type": "code",
   "execution_count": 74,
   "id": "bb97e016",
   "metadata": {},
   "outputs": [],
   "source": [
    "model = Sequential()\n",
    "\n",
    "model.add(Dense(11, activation =\"relu\", input_dim = 11))\n",
    "model.add(Dense(11, activation =\"relu\"))\n",
    "model.add(Dense(1, activation =\"sigmoid\"))"
   ]
  },
  {
   "cell_type": "code",
   "execution_count": 75,
   "id": "e54b2767",
   "metadata": {},
   "outputs": [
    {
     "name": "stdout",
     "output_type": "stream",
     "text": [
      "Model: \"sequential_4\"\n",
      "_________________________________________________________________\n",
      " Layer (type)                Output Shape              Param #   \n",
      "=================================================================\n",
      " dense_5 (Dense)             (None, 11)                132       \n",
      "                                                                 \n",
      " dense_6 (Dense)             (None, 11)                132       \n",
      "                                                                 \n",
      " dense_7 (Dense)             (None, 1)                 12        \n",
      "                                                                 \n",
      "=================================================================\n",
      "Total params: 276\n",
      "Trainable params: 276\n",
      "Non-trainable params: 0\n",
      "_________________________________________________________________\n"
     ]
    }
   ],
   "source": [
    "model.summary()"
   ]
  },
  {
   "cell_type": "code",
   "execution_count": 76,
   "id": "90096aac",
   "metadata": {},
   "outputs": [],
   "source": [
    "model.compile(loss=\"binary_crossentropy\", optimizer= \"Adam\", metrics=[\"accuracy\"])"
   ]
  },
  {
   "cell_type": "code",
   "execution_count": 81,
   "id": "b1aac41a",
   "metadata": {},
   "outputs": [
    {
     "name": "stdout",
     "output_type": "stream",
     "text": [
      "Epoch 1/100\n",
      "200/200 [==============================] - 1s 3ms/step - loss: 0.3293 - accuracy: 0.8645 - val_loss: 0.3535 - val_accuracy: 0.8650\n",
      "Epoch 2/100\n",
      "200/200 [==============================] - 1s 3ms/step - loss: 0.3286 - accuracy: 0.8655 - val_loss: 0.3534 - val_accuracy: 0.8650\n",
      "Epoch 3/100\n",
      "200/200 [==============================] - 1s 3ms/step - loss: 0.3283 - accuracy: 0.8659 - val_loss: 0.3540 - val_accuracy: 0.8644\n",
      "Epoch 4/100\n",
      "200/200 [==============================] - 1s 3ms/step - loss: 0.3283 - accuracy: 0.8653 - val_loss: 0.3547 - val_accuracy: 0.8600\n",
      "Epoch 5/100\n",
      "200/200 [==============================] - 1s 3ms/step - loss: 0.3281 - accuracy: 0.8653 - val_loss: 0.3534 - val_accuracy: 0.8650\n",
      "Epoch 6/100\n",
      "200/200 [==============================] - 1s 3ms/step - loss: 0.3282 - accuracy: 0.8653 - val_loss: 0.3534 - val_accuracy: 0.8612\n",
      "Epoch 7/100\n",
      "200/200 [==============================] - 1s 3ms/step - loss: 0.3272 - accuracy: 0.8645 - val_loss: 0.3538 - val_accuracy: 0.8625\n",
      "Epoch 8/100\n",
      "200/200 [==============================] - 1s 3ms/step - loss: 0.3266 - accuracy: 0.8672 - val_loss: 0.3541 - val_accuracy: 0.8619\n",
      "Epoch 9/100\n",
      "200/200 [==============================] - 1s 3ms/step - loss: 0.3266 - accuracy: 0.8644 - val_loss: 0.3540 - val_accuracy: 0.8594\n",
      "Epoch 10/100\n",
      "200/200 [==============================] - 1s 3ms/step - loss: 0.3263 - accuracy: 0.8658 - val_loss: 0.3543 - val_accuracy: 0.8625\n",
      "Epoch 11/100\n",
      "200/200 [==============================] - 1s 3ms/step - loss: 0.3267 - accuracy: 0.8655 - val_loss: 0.3540 - val_accuracy: 0.8619\n",
      "Epoch 12/100\n",
      "200/200 [==============================] - 1s 3ms/step - loss: 0.3260 - accuracy: 0.8669 - val_loss: 0.3538 - val_accuracy: 0.8594\n",
      "Epoch 13/100\n",
      "200/200 [==============================] - 1s 3ms/step - loss: 0.3257 - accuracy: 0.8675 - val_loss: 0.3560 - val_accuracy: 0.8619\n",
      "Epoch 14/100\n",
      "200/200 [==============================] - 1s 3ms/step - loss: 0.3256 - accuracy: 0.8650 - val_loss: 0.3546 - val_accuracy: 0.8606\n",
      "Epoch 15/100\n",
      "200/200 [==============================] - 1s 3ms/step - loss: 0.3257 - accuracy: 0.8634 - val_loss: 0.3535 - val_accuracy: 0.8625\n",
      "Epoch 16/100\n",
      "200/200 [==============================] - 1s 3ms/step - loss: 0.3248 - accuracy: 0.8650 - val_loss: 0.3544 - val_accuracy: 0.8619\n",
      "Epoch 17/100\n",
      "200/200 [==============================] - 1s 3ms/step - loss: 0.3248 - accuracy: 0.8656 - val_loss: 0.3548 - val_accuracy: 0.8631\n",
      "Epoch 18/100\n",
      "200/200 [==============================] - 1s 3ms/step - loss: 0.3246 - accuracy: 0.8659 - val_loss: 0.3541 - val_accuracy: 0.8631\n",
      "Epoch 19/100\n",
      "200/200 [==============================] - 1s 4ms/step - loss: 0.3243 - accuracy: 0.8653 - val_loss: 0.3545 - val_accuracy: 0.8631\n",
      "Epoch 20/100\n",
      "200/200 [==============================] - 1s 3ms/step - loss: 0.3250 - accuracy: 0.8672 - val_loss: 0.3549 - val_accuracy: 0.8631\n",
      "Epoch 21/100\n",
      "200/200 [==============================] - 1s 3ms/step - loss: 0.3246 - accuracy: 0.8645 - val_loss: 0.3546 - val_accuracy: 0.8606\n",
      "Epoch 22/100\n",
      "200/200 [==============================] - 1s 3ms/step - loss: 0.3241 - accuracy: 0.8658 - val_loss: 0.3540 - val_accuracy: 0.8612\n",
      "Epoch 23/100\n",
      "200/200 [==============================] - 1s 3ms/step - loss: 0.3236 - accuracy: 0.8667 - val_loss: 0.3541 - val_accuracy: 0.8606\n",
      "Epoch 24/100\n",
      "200/200 [==============================] - 1s 3ms/step - loss: 0.3241 - accuracy: 0.8647 - val_loss: 0.3550 - val_accuracy: 0.8575\n",
      "Epoch 25/100\n",
      "200/200 [==============================] - 1s 4ms/step - loss: 0.3239 - accuracy: 0.8648 - val_loss: 0.3543 - val_accuracy: 0.8612\n",
      "Epoch 26/100\n",
      "200/200 [==============================] - 1s 4ms/step - loss: 0.3233 - accuracy: 0.8653 - val_loss: 0.3540 - val_accuracy: 0.8631\n",
      "Epoch 27/100\n",
      "200/200 [==============================] - 1s 4ms/step - loss: 0.3235 - accuracy: 0.8655 - val_loss: 0.3548 - val_accuracy: 0.8612\n",
      "Epoch 28/100\n",
      "200/200 [==============================] - 1s 4ms/step - loss: 0.3231 - accuracy: 0.8655 - val_loss: 0.3554 - val_accuracy: 0.8631\n",
      "Epoch 29/100\n",
      "200/200 [==============================] - 1s 4ms/step - loss: 0.3236 - accuracy: 0.8648 - val_loss: 0.3553 - val_accuracy: 0.8612\n",
      "Epoch 30/100\n",
      "200/200 [==============================] - 1s 3ms/step - loss: 0.3230 - accuracy: 0.8661 - val_loss: 0.3537 - val_accuracy: 0.8619\n",
      "Epoch 31/100\n",
      "200/200 [==============================] - 1s 3ms/step - loss: 0.3228 - accuracy: 0.8667 - val_loss: 0.3556 - val_accuracy: 0.8625\n",
      "Epoch 32/100\n",
      "200/200 [==============================] - 1s 4ms/step - loss: 0.3227 - accuracy: 0.8648 - val_loss: 0.3539 - val_accuracy: 0.8637\n",
      "Epoch 33/100\n",
      "200/200 [==============================] - 1s 3ms/step - loss: 0.3228 - accuracy: 0.8669 - val_loss: 0.3539 - val_accuracy: 0.8625\n",
      "Epoch 34/100\n",
      "200/200 [==============================] - 1s 3ms/step - loss: 0.3229 - accuracy: 0.8673 - val_loss: 0.3544 - val_accuracy: 0.8625\n",
      "Epoch 35/100\n",
      "200/200 [==============================] - 1s 3ms/step - loss: 0.3226 - accuracy: 0.8645 - val_loss: 0.3550 - val_accuracy: 0.8606\n",
      "Epoch 36/100\n",
      "200/200 [==============================] - 1s 3ms/step - loss: 0.3226 - accuracy: 0.8655 - val_loss: 0.3547 - val_accuracy: 0.8631\n",
      "Epoch 37/100\n",
      "200/200 [==============================] - 1s 3ms/step - loss: 0.3219 - accuracy: 0.8664 - val_loss: 0.3566 - val_accuracy: 0.8575\n",
      "Epoch 38/100\n",
      "200/200 [==============================] - 1s 3ms/step - loss: 0.3223 - accuracy: 0.8653 - val_loss: 0.3540 - val_accuracy: 0.8644\n",
      "Epoch 39/100\n",
      "200/200 [==============================] - 1s 3ms/step - loss: 0.3222 - accuracy: 0.8656 - val_loss: 0.3550 - val_accuracy: 0.8637\n",
      "Epoch 40/100\n",
      "200/200 [==============================] - 1s 3ms/step - loss: 0.3219 - accuracy: 0.8662 - val_loss: 0.3566 - val_accuracy: 0.8612\n",
      "Epoch 41/100\n",
      "200/200 [==============================] - 1s 3ms/step - loss: 0.3227 - accuracy: 0.8647 - val_loss: 0.3561 - val_accuracy: 0.8619\n",
      "Epoch 42/100\n",
      "200/200 [==============================] - 1s 3ms/step - loss: 0.3222 - accuracy: 0.8653 - val_loss: 0.3549 - val_accuracy: 0.8587\n",
      "Epoch 43/100\n",
      "200/200 [==============================] - 1s 3ms/step - loss: 0.3219 - accuracy: 0.8647 - val_loss: 0.3564 - val_accuracy: 0.8600\n",
      "Epoch 44/100\n",
      "200/200 [==============================] - 1s 3ms/step - loss: 0.3217 - accuracy: 0.8659 - val_loss: 0.3551 - val_accuracy: 0.8587\n",
      "Epoch 45/100\n",
      "200/200 [==============================] - 1s 3ms/step - loss: 0.3214 - accuracy: 0.8661 - val_loss: 0.3547 - val_accuracy: 0.8612\n",
      "Epoch 46/100\n",
      "200/200 [==============================] - 1s 3ms/step - loss: 0.3215 - accuracy: 0.8666 - val_loss: 0.3554 - val_accuracy: 0.8600\n",
      "Epoch 47/100\n",
      "200/200 [==============================] - 1s 3ms/step - loss: 0.3213 - accuracy: 0.8652 - val_loss: 0.3560 - val_accuracy: 0.8625\n",
      "Epoch 48/100\n",
      "200/200 [==============================] - 1s 3ms/step - loss: 0.3212 - accuracy: 0.8661 - val_loss: 0.3552 - val_accuracy: 0.8625\n",
      "Epoch 49/100\n",
      "200/200 [==============================] - 1s 3ms/step - loss: 0.3215 - accuracy: 0.8647 - val_loss: 0.3545 - val_accuracy: 0.8625\n",
      "Epoch 50/100\n",
      "200/200 [==============================] - 1s 3ms/step - loss: 0.3215 - accuracy: 0.8658 - val_loss: 0.3552 - val_accuracy: 0.8637\n",
      "Epoch 51/100\n",
      "200/200 [==============================] - 1s 3ms/step - loss: 0.3214 - accuracy: 0.8656 - val_loss: 0.3553 - val_accuracy: 0.8650\n",
      "Epoch 52/100\n",
      "200/200 [==============================] - 1s 4ms/step - loss: 0.3214 - accuracy: 0.8655 - val_loss: 0.3554 - val_accuracy: 0.8619\n",
      "Epoch 53/100\n",
      "200/200 [==============================] - 1s 3ms/step - loss: 0.3213 - accuracy: 0.8652 - val_loss: 0.3563 - val_accuracy: 0.8606\n",
      "Epoch 54/100\n",
      "200/200 [==============================] - 1s 3ms/step - loss: 0.3208 - accuracy: 0.8662 - val_loss: 0.3554 - val_accuracy: 0.8575\n",
      "Epoch 55/100\n",
      "200/200 [==============================] - 1s 3ms/step - loss: 0.3210 - accuracy: 0.8639 - val_loss: 0.3563 - val_accuracy: 0.8569\n",
      "Epoch 56/100\n",
      "200/200 [==============================] - 1s 3ms/step - loss: 0.3212 - accuracy: 0.8633 - val_loss: 0.3557 - val_accuracy: 0.8600\n",
      "Epoch 57/100\n",
      "200/200 [==============================] - 1s 3ms/step - loss: 0.3210 - accuracy: 0.8669 - val_loss: 0.3564 - val_accuracy: 0.8612\n"
     ]
    },
    {
     "name": "stdout",
     "output_type": "stream",
     "text": [
      "Epoch 58/100\n",
      "200/200 [==============================] - 1s 3ms/step - loss: 0.3209 - accuracy: 0.8667 - val_loss: 0.3559 - val_accuracy: 0.8637\n",
      "Epoch 59/100\n",
      "200/200 [==============================] - 1s 3ms/step - loss: 0.3206 - accuracy: 0.8653 - val_loss: 0.3566 - val_accuracy: 0.8637\n",
      "Epoch 60/100\n",
      "200/200 [==============================] - 1s 3ms/step - loss: 0.3208 - accuracy: 0.8684 - val_loss: 0.3570 - val_accuracy: 0.8631\n",
      "Epoch 61/100\n",
      "200/200 [==============================] - 1s 3ms/step - loss: 0.3208 - accuracy: 0.8670 - val_loss: 0.3554 - val_accuracy: 0.8662\n",
      "Epoch 62/100\n",
      "200/200 [==============================] - 1s 3ms/step - loss: 0.3203 - accuracy: 0.8644 - val_loss: 0.3565 - val_accuracy: 0.8606\n",
      "Epoch 63/100\n",
      "200/200 [==============================] - 1s 3ms/step - loss: 0.3198 - accuracy: 0.8664 - val_loss: 0.3571 - val_accuracy: 0.8612\n",
      "Epoch 64/100\n",
      "200/200 [==============================] - 1s 3ms/step - loss: 0.3205 - accuracy: 0.8656 - val_loss: 0.3568 - val_accuracy: 0.8637\n",
      "Epoch 65/100\n",
      "200/200 [==============================] - 1s 3ms/step - loss: 0.3201 - accuracy: 0.8666 - val_loss: 0.3553 - val_accuracy: 0.8600\n",
      "Epoch 66/100\n",
      "200/200 [==============================] - 1s 3ms/step - loss: 0.3200 - accuracy: 0.8664 - val_loss: 0.3560 - val_accuracy: 0.8612\n",
      "Epoch 67/100\n",
      "200/200 [==============================] - 1s 3ms/step - loss: 0.3200 - accuracy: 0.8655 - val_loss: 0.3568 - val_accuracy: 0.8606\n",
      "Epoch 68/100\n",
      "200/200 [==============================] - 1s 3ms/step - loss: 0.3201 - accuracy: 0.8642 - val_loss: 0.3562 - val_accuracy: 0.8600\n",
      "Epoch 69/100\n",
      "200/200 [==============================] - 1s 3ms/step - loss: 0.3201 - accuracy: 0.8652 - val_loss: 0.3560 - val_accuracy: 0.8594\n",
      "Epoch 70/100\n",
      "200/200 [==============================] - 1s 3ms/step - loss: 0.3198 - accuracy: 0.8645 - val_loss: 0.3555 - val_accuracy: 0.8600\n",
      "Epoch 71/100\n",
      "200/200 [==============================] - 1s 3ms/step - loss: 0.3196 - accuracy: 0.8667 - val_loss: 0.3570 - val_accuracy: 0.8625\n",
      "Epoch 72/100\n",
      "200/200 [==============================] - 1s 3ms/step - loss: 0.3192 - accuracy: 0.8669 - val_loss: 0.3569 - val_accuracy: 0.8625\n",
      "Epoch 73/100\n",
      "200/200 [==============================] - 1s 3ms/step - loss: 0.3196 - accuracy: 0.8662 - val_loss: 0.3563 - val_accuracy: 0.8619\n",
      "Epoch 74/100\n",
      "200/200 [==============================] - 1s 3ms/step - loss: 0.3194 - accuracy: 0.8656 - val_loss: 0.3569 - val_accuracy: 0.8656\n",
      "Epoch 75/100\n",
      "200/200 [==============================] - 1s 3ms/step - loss: 0.3192 - accuracy: 0.8670 - val_loss: 0.3563 - val_accuracy: 0.8612\n",
      "Epoch 76/100\n",
      "200/200 [==============================] - 1s 3ms/step - loss: 0.3195 - accuracy: 0.8661 - val_loss: 0.3559 - val_accuracy: 0.8575\n",
      "Epoch 77/100\n",
      "200/200 [==============================] - 1s 3ms/step - loss: 0.3187 - accuracy: 0.8655 - val_loss: 0.3567 - val_accuracy: 0.8631\n",
      "Epoch 78/100\n",
      "200/200 [==============================] - 1s 3ms/step - loss: 0.3192 - accuracy: 0.8648 - val_loss: 0.3574 - val_accuracy: 0.8569\n",
      "Epoch 79/100\n",
      "200/200 [==============================] - 1s 3ms/step - loss: 0.3189 - accuracy: 0.8658 - val_loss: 0.3570 - val_accuracy: 0.8656\n",
      "Epoch 80/100\n",
      "200/200 [==============================] - 1s 3ms/step - loss: 0.3187 - accuracy: 0.8680 - val_loss: 0.3564 - val_accuracy: 0.8606\n",
      "Epoch 81/100\n",
      "200/200 [==============================] - 1s 3ms/step - loss: 0.3188 - accuracy: 0.8659 - val_loss: 0.3560 - val_accuracy: 0.8587\n",
      "Epoch 82/100\n",
      "200/200 [==============================] - 1s 3ms/step - loss: 0.3186 - accuracy: 0.8667 - val_loss: 0.3563 - val_accuracy: 0.8587\n",
      "Epoch 83/100\n",
      "200/200 [==============================] - 1s 3ms/step - loss: 0.3185 - accuracy: 0.8680 - val_loss: 0.3582 - val_accuracy: 0.8562\n",
      "Epoch 84/100\n",
      "200/200 [==============================] - 1s 3ms/step - loss: 0.3187 - accuracy: 0.8662 - val_loss: 0.3563 - val_accuracy: 0.8619\n",
      "Epoch 85/100\n",
      "200/200 [==============================] - 1s 4ms/step - loss: 0.3184 - accuracy: 0.8655 - val_loss: 0.3563 - val_accuracy: 0.8575\n",
      "Epoch 86/100\n",
      "200/200 [==============================] - 1s 3ms/step - loss: 0.3189 - accuracy: 0.8672 - val_loss: 0.3563 - val_accuracy: 0.8594\n",
      "Epoch 87/100\n",
      "200/200 [==============================] - 1s 3ms/step - loss: 0.3181 - accuracy: 0.8669 - val_loss: 0.3567 - val_accuracy: 0.8550\n",
      "Epoch 88/100\n",
      "200/200 [==============================] - 1s 3ms/step - loss: 0.3183 - accuracy: 0.8661 - val_loss: 0.3571 - val_accuracy: 0.8612\n",
      "Epoch 89/100\n",
      "200/200 [==============================] - 1s 3ms/step - loss: 0.3186 - accuracy: 0.8661 - val_loss: 0.3571 - val_accuracy: 0.8619\n",
      "Epoch 90/100\n",
      "200/200 [==============================] - 1s 3ms/step - loss: 0.3184 - accuracy: 0.8664 - val_loss: 0.3571 - val_accuracy: 0.8575\n",
      "Epoch 91/100\n",
      "200/200 [==============================] - 1s 3ms/step - loss: 0.3176 - accuracy: 0.8659 - val_loss: 0.3598 - val_accuracy: 0.8662\n",
      "Epoch 92/100\n",
      "200/200 [==============================] - 1s 3ms/step - loss: 0.3175 - accuracy: 0.8673 - val_loss: 0.3578 - val_accuracy: 0.8650\n",
      "Epoch 93/100\n",
      "200/200 [==============================] - 1s 3ms/step - loss: 0.3181 - accuracy: 0.8669 - val_loss: 0.3574 - val_accuracy: 0.8587\n",
      "Epoch 94/100\n",
      "200/200 [==============================] - 1s 3ms/step - loss: 0.3176 - accuracy: 0.8664 - val_loss: 0.3579 - val_accuracy: 0.8581\n",
      "Epoch 95/100\n",
      "200/200 [==============================] - 1s 3ms/step - loss: 0.3177 - accuracy: 0.8669 - val_loss: 0.3572 - val_accuracy: 0.8644\n",
      "Epoch 96/100\n",
      "200/200 [==============================] - 1s 3ms/step - loss: 0.3171 - accuracy: 0.8675 - val_loss: 0.3593 - val_accuracy: 0.8594\n",
      "Epoch 97/100\n",
      "200/200 [==============================] - 1s 3ms/step - loss: 0.3174 - accuracy: 0.8681 - val_loss: 0.3584 - val_accuracy: 0.8594\n",
      "Epoch 98/100\n",
      "200/200 [==============================] - 1s 3ms/step - loss: 0.3171 - accuracy: 0.8667 - val_loss: 0.3573 - val_accuracy: 0.8600\n",
      "Epoch 99/100\n",
      "200/200 [==============================] - 1s 3ms/step - loss: 0.3178 - accuracy: 0.8686 - val_loss: 0.3577 - val_accuracy: 0.8569\n",
      "Epoch 100/100\n",
      "200/200 [==============================] - 1s 3ms/step - loss: 0.3166 - accuracy: 0.8669 - val_loss: 0.3618 - val_accuracy: 0.8619\n"
     ]
    }
   ],
   "source": [
    "history = model.fit(X_train_trf, y_train, epochs=100, validation_split=0.2)"
   ]
  },
  {
   "cell_type": "code",
   "execution_count": 78,
   "id": "6d01a812",
   "metadata": {},
   "outputs": [
    {
     "data": {
      "text/plain": [
       "[array([[-0.04210479, -0.03643036, -0.24869499, -0.0486979 , -0.29283568,\n",
       "         -0.0616452 , -0.7451148 ,  0.42518365,  0.03542108, -0.27902228,\n",
       "          0.40833852],\n",
       "        [ 0.44346905,  0.70479643, -0.39126912,  0.90210086,  0.29987356,\n",
       "          0.71842784,  0.01483325, -0.10110172,  0.04498993,  0.08357172,\n",
       "         -0.59007245],\n",
       "        [-0.30440444,  0.07198853,  0.08588726,  0.21472584, -0.4417097 ,\n",
       "         -0.27946758,  0.20883137, -0.10101451,  0.10214286,  0.03216406,\n",
       "          0.09212195],\n",
       "        [ 0.07201689, -0.34454203, -0.08187747,  0.02113717, -0.2986174 ,\n",
       "         -0.17154656, -0.30547497, -0.03814818, -0.07705098,  0.3145023 ,\n",
       "         -0.02145734],\n",
       "        [ 0.86701363, -0.51483965,  0.4587795 ,  1.1401962 ,  0.11184717,\n",
       "         -0.24750187, -0.3096491 ,  0.10410186,  0.21117294,  1.0015862 ,\n",
       "         -0.14383681],\n",
       "        [-0.22024143,  0.05016971,  0.0805754 , -0.00621853, -0.2655891 ,\n",
       "         -0.10483824, -0.21948174, -0.00808168, -0.51903015, -0.13477926,\n",
       "         -0.2684791 ],\n",
       "        [ 0.13085657, -0.28806844,  0.17972115,  0.51755685,  0.6420014 ,\n",
       "          0.22311589, -0.17379145, -0.34110004, -0.7723178 , -0.6795318 ,\n",
       "          0.67221785],\n",
       "        [-0.08702743, -0.09839936,  0.08023529, -0.17039627, -0.11913749,\n",
       "         -0.0241613 ,  0.25597546, -0.3089415 , -0.5572206 ,  0.07642311,\n",
       "          0.4673156 ],\n",
       "        [ 0.12449732,  0.21729785, -0.15922032, -0.10427209, -0.02182209,\n",
       "          0.0488511 , -0.35778707, -0.6288233 ,  0.65259236, -0.10878804,\n",
       "          0.19955598],\n",
       "        [-0.00832603,  0.33176893,  0.16242622,  0.23856932, -0.02802154,\n",
       "         -0.12665373, -0.31570917, -0.0280802 ,  0.34418803,  0.3088027 ,\n",
       "          0.0421083 ],\n",
       "        [-0.2086642 ,  0.04840775,  0.18880288,  0.07929891,  0.01458329,\n",
       "         -0.050486  ,  0.06512225,  0.33253673, -0.2630144 ,  0.01501015,\n",
       "          0.01411632]], dtype=float32),\n",
       " array([-4.4091737e-01,  1.7806226e-01,  6.3601309e-01,  2.6766819e-04,\n",
       "         2.2808479e-01, -1.2551163e-01,  9.7385511e-02,  6.6510415e-01,\n",
       "         1.6428579e-01, -3.3561933e-01,  8.2601449e-03], dtype=float32)]"
      ]
     },
     "execution_count": 78,
     "metadata": {},
     "output_type": "execute_result"
    }
   ],
   "source": [
    "model.layers[0].get_weights() # wieght"
   ]
  },
  {
   "cell_type": "code",
   "execution_count": 79,
   "id": "49dde6dd",
   "metadata": {
    "scrolled": true
   },
   "outputs": [
    {
     "data": {
      "text/plain": [
       "[array([[ 3.48528862e-01, -3.97762507e-01, -1.50345951e-01,\n",
       "         -3.49801630e-01, -9.70794559e-02,  3.83832335e-01,\n",
       "         -3.58998507e-01, -9.25419331e-02,  3.47006202e-01,\n",
       "         -9.81485665e-01,  7.16308057e-01],\n",
       "        [-6.76352084e-01,  6.65299773e-01, -5.46438992e-01,\n",
       "          5.88116124e-02,  3.10952246e-01,  2.75442660e-01,\n",
       "         -5.34490757e-02,  9.90552604e-02,  2.16953102e-02,\n",
       "          2.08202228e-02, -4.09661829e-01],\n",
       "        [-1.82023749e-01, -2.09645048e-01,  6.82906330e-01,\n",
       "         -1.21827126e-01,  1.59678414e-01, -5.34454128e-03,\n",
       "          3.98638278e-01,  6.04670960e-04, -4.45443749e-01,\n",
       "         -6.20226599e-02,  1.49364218e-01],\n",
       "        [ 7.63116062e-01, -4.41296369e-01, -5.98629534e-01,\n",
       "         -6.23205185e-01, -6.33179486e-01, -2.04068422e-01,\n",
       "          5.48393667e-01,  5.29677689e-01, -3.36553119e-02,\n",
       "         -3.44958484e-01,  2.41367534e-01],\n",
       "        [-2.20723361e-01, -2.49997362e-01,  3.93032394e-02,\n",
       "          3.72943133e-02, -3.19076419e-01,  1.67409062e-01,\n",
       "         -2.72077143e-01,  5.39304137e-01, -5.57908475e-01,\n",
       "          3.54936361e-01, -2.42103890e-01],\n",
       "        [-4.93615299e-01,  1.16299979e-01, -6.40054703e-01,\n",
       "          5.18894732e-01,  9.39501226e-02,  2.40542162e-02,\n",
       "         -1.54425532e-01, -2.44962141e-01,  3.29402208e-01,\n",
       "         -4.81133629e-03, -5.33278048e-01],\n",
       "        [ 1.32305130e-01, -1.34645000e-01,  2.19211012e-01,\n",
       "          5.18100500e-01,  5.75603664e-01,  1.73703879e-01,\n",
       "          4.21267658e-01, -1.34123608e-01,  1.76250145e-01,\n",
       "          3.55039269e-01, -3.20324332e-01],\n",
       "        [ 5.53801917e-02,  2.88887709e-01,  6.62315786e-01,\n",
       "         -1.32391214e-01, -2.26612777e-01,  3.64131480e-01,\n",
       "          1.88571066e-01, -6.67181239e-02, -1.02478147e-01,\n",
       "         -5.97774088e-01,  3.25392514e-01],\n",
       "        [-1.51660398e-01,  3.04161489e-01,  4.83406752e-01,\n",
       "         -3.58560085e-01, -6.23304009e-01, -1.66420445e-01,\n",
       "         -1.30547717e-01, -3.61173600e-01,  2.12543339e-01,\n",
       "          2.29208976e-01, -3.76752317e-01],\n",
       "        [ 5.67791581e-01, -2.78952599e-01,  3.84594113e-01,\n",
       "         -5.93872741e-02, -1.63106129e-01,  4.49067384e-01,\n",
       "         -4.77470130e-01, -4.56273377e-01,  6.30825818e-01,\n",
       "         -1.80969462e-02,  3.03178608e-01],\n",
       "        [-4.94826250e-02, -1.19088562e-02,  3.49907652e-02,\n",
       "          4.43498313e-01,  3.45006704e-01, -2.32360184e-01,\n",
       "          3.65178324e-02,  4.46389139e-01,  2.89265066e-01,\n",
       "          2.06909701e-01, -9.13470164e-02]], dtype=float32),\n",
       " array([-0.35056537,  0.12020873,  0.5134367 , -0.11265761, -0.15850012,\n",
       "        -0.19336092,  0.47794402,  0.31754154, -0.21974617, -0.00859468,\n",
       "        -0.33354986], dtype=float32)]"
      ]
     },
     "execution_count": 79,
     "metadata": {},
     "output_type": "execute_result"
    }
   ],
   "source": [
    "model.layers[1].get_weights() # bias"
   ]
  },
  {
   "cell_type": "code",
   "execution_count": null,
   "id": "25479637",
   "metadata": {},
   "outputs": [],
   "source": []
  },
  {
   "cell_type": "code",
   "execution_count": null,
   "id": "b1a13f62",
   "metadata": {},
   "outputs": [],
   "source": []
  },
  {
   "cell_type": "code",
   "execution_count": 80,
   "id": "11bc68c7",
   "metadata": {},
   "outputs": [
    {
     "name": "stdout",
     "output_type": "stream",
     "text": [
      "63/63 [==============================] - 0s 2ms/step\n"
     ]
    }
   ],
   "source": [
    "y_log = model.predict(X_test_trf)"
   ]
  },
  {
   "cell_type": "code",
   "execution_count": null,
   "id": "668bc7fb",
   "metadata": {},
   "outputs": [],
   "source": []
  },
  {
   "cell_type": "code",
   "execution_count": 83,
   "id": "8683418e",
   "metadata": {},
   "outputs": [],
   "source": [
    "import matplotlib.pyplot as plt"
   ]
  },
  {
   "cell_type": "code",
   "execution_count": 84,
   "id": "b80224c5",
   "metadata": {},
   "outputs": [
    {
     "data": {
      "text/plain": [
       "[<matplotlib.lines.Line2D at 0x2030e59fdc0>]"
      ]
     },
     "execution_count": 84,
     "metadata": {},
     "output_type": "execute_result"
    },
    {
     "data": {
      "image/png": "[encoded data removed]",
      "text/plain": [
       "<Figure size 640x480 with 1 Axes>"
      ]
     },
     "metadata": {},
     "output_type": "display_data"
    }
   ],
   "source": [
    "plt.plot(history.history[\"loss\"])\n",
    "plt.plot(history.history[\"val_loss\"])"
   ]
  },
  {
   "cell_type": "code",
   "execution_count": 86,
   "id": "d6b0f861",
   "metadata": {},
   "outputs": [
    {
     "data": {
      "text/plain": [
       "[<matplotlib.lines.Line2D at 0x2030e751600>]"
      ]
     },
     "execution_count": 86,
     "metadata": {},
     "output_type": "execute_result"
    },
    {
     "data": {
      "image/png": "[encoded data removed]",
      "text/plain": [
       "<Figure size 640x480 with 1 Axes>"
      ]
     },
     "metadata": {},
     "output_type": "display_data"
    }
   ],
   "source": [
    "plt.plot(history.history[\"accuracy\"])\n",
    "plt.plot(history.history[\"val_accuracy\"])"
   ]
  },
  {
   "cell_type": "code",
   "execution_count": null,
   "id": "98482ad6",
   "metadata": {},
   "outputs": [],
   "source": []
  },
  {
   "cell_type": "code",
   "execution_count": null,
   "id": "711e1abf",
   "metadata": {},
   "outputs": [],
   "source": []
  },
  {
   "cell_type": "code",
   "execution_count": null,
   "id": "8f2eb75f",
   "metadata": {},
   "outputs": [],
   "source": []
  },
  {
   "cell_type": "code",
   "execution_count": null,
   "id": "ba793a04",
   "metadata": {},
   "outputs": [],
   "source": []
  },
  {
   "cell_type": "code",
   "execution_count": null,
   "id": "e955626b",
   "metadata": {},
   "outputs": [],
   "source": []
  },
  {
   "cell_type": "code",
   "execution_count": null,
   "id": "c2e9472c",
   "metadata": {},
   "outputs": [],
   "source": []
  },
  {
   "cell_type": "code",
   "execution_count": null,
   "id": "00875e76",
   "metadata": {},
   "outputs": [],
   "source": []
  }
 ],
 "metadata": {
  "kernelspec": {
   "display_name": "Python 3 (ipykernel)",
   "language": "python",
   "name": "python3"
  },
  "language_info": {
   "codemirror_mode": {
    "name": "ipython",
    "version": 3
   },
   "file_extension": ".py",
   "mimetype": "text/x-python",
   "name": "python",
   "nbconvert_exporter": "python",
   "pygments_lexer": "ipython3",
   "version": "3.10.9"
  }
 },
 "nbformat": 4,
 "nbformat_minor": 5
}
