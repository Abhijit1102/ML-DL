{
 "cells": [
  {
   "cell_type": "markdown",
   "id": "6c39e12a",
   "metadata": {},
   "source": [
    "## LeNET5 CNN\n",
    "## AlexNET\n",
    "## GoogNET\n",
    "## VggNET\n",
    "## RESNTE\n",
    "## Inception"
   ]
  },
  {
   "cell_type": "markdown",
   "id": "6e5e4c4e",
   "metadata": {},
   "source": [
    "## CNN Architecture\n",
    "- Convolution -> padding/stride -> Pooling\n",
    "\n",
    "- 1st layer input(32,32,channel=3)\n",
    "- con1_layer1\n",
    "- feature_map(channel=3)\n",
    "- pol_1\n",
    "- tensor_1\n",
    "- con_2\n",
    "- pool_2\n",
    "- flattern_layer(1D)\n",
    "- output\n",
    "<img src=\"https://miro.medium.com/max/720/1*XbuW8WuRrAY5pC4t-9DZAQ.webp\">"
   ]
  },
  {
   "cell_type": "markdown",
   "id": "5810e6c7",
   "metadata": {},
   "source": [
    "## LeNET(1998) by Yiengliko\n",
    "\n",
    "-(32,32) -> con(6(5,5)) -> filter(2,2)(stride=2)->con(6(5,5)) -> filter(16)(2,2)(stride=2)->flattened(120 neurons)->fully connected layer->ouput(sofmax)"
   ]
  },
  {
   "cell_type": "code",
   "execution_count": 2,
   "id": "6bf63470",
   "metadata": {},
   "outputs": [],
   "source": [
    "import tensorflow\n",
    "from tensorflow import keras\n",
    "from keras.layers import Dense,Conv2D,Flatten,AveragePooling2D\n",
    "from keras import Sequential\n",
    "from keras.datasets import mnist"
   ]
  },
  {
   "cell_type": "code",
   "execution_count": 3,
   "id": "11c88d3c",
   "metadata": {},
   "outputs": [],
   "source": [
    "(X_train, y_train),(X_test, y_test) = mnist.load_data()"
   ]
  },
  {
   "cell_type": "markdown",
   "id": "59726366",
   "metadata": {},
   "source": [
    "# LeNET Architecture"
   ]
  },
  {
   "cell_type": "code",
   "execution_count": 5,
   "id": "b3681cd1",
   "metadata": {},
   "outputs": [],
   "source": [
    "model = Sequential()\n",
    "\n",
    "model.add(Conv2D(6,kernel_size=(5,5),padding=\"valid\",activation=\"tanh\", input_shape=(32,32,1)))\n",
    "model.add(AveragePooling2D(pool_size=(2,2), strides=2, padding=\"valid\"))\n",
    "\n",
    "model.add(Conv2D(16,kernel_size=(5,5),padding=\"valid\", activation=\"tanh\"))\n",
    "model.add(AveragePooling2D(pool_size=(2,2,),strides=2, padding=\"valid\"))\n",
    "\n",
    "model.add(Flatten())\n",
    "\n",
    "model.add(Dense(120, activation=\"tanh\"))\n",
    "model.add(Dense(84, activation=\"tanh\"))\n",
    "model.add(Dense(10, activation=\"softmax\"))"
   ]
  },
  {
   "cell_type": "code",
   "execution_count": 6,
   "id": "9a9c05f0",
   "metadata": {},
   "outputs": [
    {
     "name": "stdout",
     "output_type": "stream",
     "text": [
      "Model: \"sequential_1\"\n",
      "_________________________________________________________________\n",
      " Layer (type)                Output Shape              Param #   \n",
      "=================================================================\n",
      " conv2d_2 (Conv2D)           (None, 28, 28, 6)         156       \n",
      "                                                                 \n",
      " average_pooling2d_2 (Averag  (None, 14, 14, 6)        0         \n",
      " ePooling2D)                                                     \n",
      "                                                                 \n",
      " conv2d_3 (Conv2D)           (None, 10, 10, 16)        2416      \n",
      "                                                                 \n",
      " average_pooling2d_3 (Averag  (None, 5, 5, 16)         0         \n",
      " ePooling2D)                                                     \n",
      "                                                                 \n",
      " flatten_1 (Flatten)         (None, 400)               0         \n",
      "                                                                 \n",
      " dense_3 (Dense)             (None, 120)               48120     \n",
      "                                                                 \n",
      " dense_4 (Dense)             (None, 84)                10164     \n",
      "                                                                 \n",
      " dense_5 (Dense)             (None, 10)                850       \n",
      "                                                                 \n",
      "=================================================================\n",
      "Total params: 61,706\n",
      "Trainable params: 61,706\n",
      "Non-trainable params: 0\n",
      "_________________________________________________________________\n"
     ]
    }
   ],
   "source": [
    "model.summary()"
   ]
  },
  {
   "cell_type": "markdown",
   "id": "e8f4e815",
   "metadata": {},
   "source": [
    "## ANN vs CNN\n",
    "**Disadvantages of CNN**\n",
    "- Computational Cost\n",
    "- Overfitting\n",
    "- Loss of imp features like arragment of pixels\n",
    "\n",
    "**learnable parameter and trainable parameter**\n",
    "- In ANN parameter increase with respect to inputs\n",
    "- In CNN parameter remain constant with change in outputs"
   ]
  },
  {
   "cell_type": "markdown",
   "id": "ae75433c",
   "metadata": {},
   "source": [
    "## Backpropogation in CNN\n",
    "\n",
    "-  2D input(6x6) ->convolution(3x3) + bais ->  feature_map(4x4) -> relu(2x2) -> max_pooling(2x2) ->feature_map -> flatten_layer -> Output\n",
    "\n",
    "**Trainable Parameters**\n",
    "- $$ w_1 =(3,3) w_2=(1,4) \n",
    ", b_1=(1,1) , b_2=(1,1) $$\n",
    "- 15 trainable parameter \n",
    "\n",
    "`Logical flow`:\n",
    "$  X ->  *(w_1, b_1) -> z_1 (relu)-> A_1(max pooling ->p_1(flatten) -> F -> z_1(sigmoid) -> A_2 -> L $\n",
    "\n",
    "**Forward prop**\n",
    "- $ z_1 = con(x,w) + b_1 $\n",
    "- $ A_1 = relu(z_1) $\n",
    "- $ p_1 = maxpool(A_1) $\n",
    "- $ F =Flatten(p_1) $\n",
    "- $ z_2 = w_2F + b_2 $\n",
    "- $ A_2 = \\sigma(z_2) $\n",
    "\n",
    "**Gardient Desent**\n",
    "- $ w_1 = w_1 - \\eta\\frac{\\delta L}{\\delta w_1} $\n",
    "- $ b_1 = b_1 - \\eta\\frac{\\delta L}{\\delta b_1} $ \n",
    "\n",
    "\n",
    "- $ w_2 = w_2 - \\eta\\frac{\\delta L}{\\delta w_2} $\n",
    "- $ b_2 = b_2 - \\eta\\frac{\\delta L}{\\delta b_2} $"
   ]
  },
  {
   "cell_type": "code",
   "execution_count": null,
   "id": "6193b319",
   "metadata": {},
   "outputs": [],
   "source": []
  },
  {
   "cell_type": "code",
   "execution_count": null,
   "id": "ece17050",
   "metadata": {},
   "outputs": [],
   "source": []
  },
  {
   "cell_type": "code",
   "execution_count": null,
   "id": "6e334e9f",
   "metadata": {},
   "outputs": [],
   "source": []
  },
  {
   "cell_type": "code",
   "execution_count": null,
   "id": "2924f5c9",
   "metadata": {},
   "outputs": [],
   "source": []
  },
  {
   "cell_type": "code",
   "execution_count": null,
   "id": "f49922bf",
   "metadata": {},
   "outputs": [],
   "source": []
  },
  {
   "cell_type": "code",
   "execution_count": null,
   "id": "ed74c0e9",
   "metadata": {},
   "outputs": [],
   "source": []
  },
  {
   "cell_type": "code",
   "execution_count": null,
   "id": "1a3f77f2",
   "metadata": {},
   "outputs": [],
   "source": []
  },
  {
   "cell_type": "code",
   "execution_count": null,
   "id": "9dfb2e45",
   "metadata": {},
   "outputs": [],
   "source": []
  },
  {
   "cell_type": "code",
   "execution_count": null,
   "id": "2177f37b",
   "metadata": {},
   "outputs": [],
   "source": []
  },
  {
   "cell_type": "code",
   "execution_count": null,
   "id": "f3eaa423",
   "metadata": {},
   "outputs": [],
   "source": []
  },
  {
   "cell_type": "code",
   "execution_count": null,
   "id": "3caef185",
   "metadata": {},
   "outputs": [],
   "source": []
  },
  {
   "cell_type": "code",
   "execution_count": null,
   "id": "f10ef2b9",
   "metadata": {},
   "outputs": [],
   "source": []
  }
 ],
 "metadata": {
  "kernelspec": {
   "display_name": "Python 3 (ipykernel)",
   "language": "python",
   "name": "python3"
  },
  "language_info": {
   "codemirror_mode": {
    "name": "ipython",
    "version": 3
   },
   "file_extension": ".py",
   "mimetype": "text/x-python",
   "name": "python",
   "nbconvert_exporter": "python",
   "pygments_lexer": "ipython3",
   "version": "3.10.9"
  }
 },
 "nbformat": 4,
 "nbformat_minor": 5
}
