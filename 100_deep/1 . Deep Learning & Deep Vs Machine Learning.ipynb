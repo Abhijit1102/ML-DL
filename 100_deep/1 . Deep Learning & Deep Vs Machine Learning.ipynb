{
 "cells": [
  {
   "cell_type": "markdown",
   "id": "9b62cb62",
   "metadata": {},
   "source": [
    "## Definition of Deep Learning\n",
    "- Deep Learning is a subfield of machine learning concerned with algorithms inspired by the structure and function of the brain called artificial neural networks.\n",
    "\n",
    "<img src=\"https://www.codesansar.com/storage/app/media/deep-learning/deep-learning-introduction.png\">"
   ]
  },
  {
   "cell_type": "markdown",
   "id": "07c43849",
   "metadata": {},
   "source": [
    "## Draw Gram of Neural Network\n"
   ]
  },
  {
   "attachments": {},
   "cell_type": "markdown",
   "id": "c505773d",
   "metadata": {},
   "source": [
    "## Different Type of Neural Network\n",
    "- ANN\n",
    "- CNN(image)\n",
    "- RNN(spech, textual)\n",
    "- GAN(text, generation)\n",
    "\n",
    "<img src=\"https://machinelearningmastery.com/wp-content/uploads/2021/08/neural_networks_21-768x656.png\">"
   ]
  },
  {
   "cell_type": "markdown",
   "id": "6c8f8c49",
   "metadata": {},
   "source": [
    "## Salient Feature of deeplearning\n",
    "- Applicability :Deep learning applications are used in industries from automated driving to medical devices. Automated Driving: Automotive researchers are using deep learning to automatically detect objects such as stop signs and traffic lights. \n",
    "- Perfortmance : State of the Art\n",
    "- Deep learning is board family of machine learning methods based on Artifical Neural Newtorks with representation learning.\n",
    "- Note: Feature learning or representation learning is aset of technique that allows a system to automatically repesentation need for feature detection and classification from raw data.\n",
    "- Deep Learning algorithm use multiple layer to progressively extract high-level features from the raw input.\n",
    "- For Example, in image processing, lower layers may identify edges, while higher layer may identifly the concept relevant to human such asdigit, letter or face."
   ]
  },
  {
   "cell_type": "markdown",
   "id": "4915bbb6",
   "metadata": {},
   "source": [
    "## Deep learning Vs Machine Learning\n",
    "<img src=\"https://jelvix.com/wp-content/uploads/2020/05/deep-learning-vs-machine-learning-difference.jpg\">\n",
    "\n",
    "### Data Dependency\n",
    "<img src=\"https://dz2cdn1.dzone.com/storage/temp/12804131-screen-shot-2019-12-04-at-110339-am.png\">"
   ]
  },
  {
   "cell_type": "markdown",
   "id": "bbada154",
   "metadata": {},
   "source": [
    "### Popularirty of Deep Learning\n",
    "- DataSet: It is a data hungery, atleast 100K rows, From 2010 with increase use of NET, we generate Data but labeling was an issue. For Labeling Big tech giant like Google, Microsoft Label the data set by publicing the Dataset. Example, for image data set Microsoft coco, text data squad from wikipedia, Audio of google Audios.\n",
    "- Secondly Hardware, According to Morse law, cheaper processing cost. Deep Learning need powerful matrix operation which are used in GPU(RTX) which reduce 10-20 times than CPU by parallel processing, further FPGA but they are expensive, ASIC Application Specific Integrated surface, TPU (Tensor Processing Unit) Of google, EDGE-TPU for Drone and smart watch, NPU(Neutral processing units) in mobile device.\n",
    "- Thirdly frame work and libraries, Two famous libraies In 2015 tensorflow by google, pytorch by facebook. As tensorflow has very difficult google introduce keras which is intermediate used. In AI research pyTorch is used, facebook 2018 caffee used in sever, so google made complete frame work\n",
    "- Now, drop down GUI is used convert one code to another, Export option like auto ML, Microsoft Custom vision AL.\n",
    "- forth factors, Deep learning Architechture, Neutral network has node and edges for different architecture, To figure out the architecture, its time taking and effort to overcome this we used architecture by researcher which is called transfer learning. Example: image classification - Resnet, Text classification - BERG, Object ditection - YONO, spech rekignation -Wavenet.\n",
    "- Community, from 1960's people are working on it , many of them fail but gain sucessful in 2010's."
   ]
  },
  {
   "cell_type": "markdown",
   "id": "6a5b4714",
   "metadata": {},
   "source": [
    "## Type of Neural Network\n",
    "- Multilayer Preceptron: \n",
    "- Convolutional Neural NetworK :\n",
    "- Recurent Neural Network:\n",
    "- Auto Encoders:\n",
    "- Generative Advesarive Network:"
   ]
  },
  {
   "cell_type": "markdown",
   "id": "ebc284c4",
   "metadata": {},
   "source": [
    "## History of Deep Learning\n",
    "- The perceptron, which is the basic building block of the neural network, was invented by Frank Rosenblatt in January 1957 at Cornell Aeronautical Laboratory, Inc at Buffalo, New York. But in 1960's researcher found that perceptron can not read XOR function: which is a non learn function. \n",
    "- In 1986's paper release \"learning representation by backprogation error\", states that bunch of preceptron with enough hidden layers we can converge to any mathematical function which is universal approximation theorem.\n",
    "- In 1990's winter in Backprogation researchers found that at that time no label data has available, secondly computational power to calculates the wieghts of function and adding of layer, andf aslo intialization of weight. with increase of SMV and Random forest.\n",
    "- In 2006 with increase of computational power and label data a new algo was introduced called Unsupervised pre traing for initiatizing wieghts. due to this approach neural network can be used in layer after layer so its called deep learning.\n",
    "- In 2012, image classification with deeplearning algo and GPU reduce error to 16% as half of tradition machine learning."
   ]
  },
  {
   "cell_type": "markdown",
   "id": "01bf12eb",
   "metadata": {},
   "source": [
    "## Application of Deep Learning\n",
    "### Self driving car, Game playing agents, Virtual Assiatant,  \n"
   ]
  },
  {
   "cell_type": "code",
   "execution_count": null,
   "id": "f249405d",
   "metadata": {},
   "outputs": [],
   "source": []
  },
  {
   "cell_type": "code",
   "execution_count": null,
   "id": "5259699e",
   "metadata": {},
   "outputs": [],
   "source": []
  },
  {
   "cell_type": "code",
   "execution_count": null,
   "id": "aa1fe8c8",
   "metadata": {},
   "outputs": [],
   "source": []
  },
  {
   "cell_type": "code",
   "execution_count": null,
   "id": "8b138562",
   "metadata": {},
   "outputs": [],
   "source": []
  },
  {
   "cell_type": "code",
   "execution_count": null,
   "id": "2c02c0a3",
   "metadata": {},
   "outputs": [],
   "source": []
  },
  {
   "cell_type": "code",
   "execution_count": null,
   "id": "d1918cdb",
   "metadata": {},
   "outputs": [],
   "source": []
  },
  {
   "cell_type": "code",
   "execution_count": null,
   "id": "b43594ad",
   "metadata": {},
   "outputs": [],
   "source": []
  },
  {
   "cell_type": "code",
   "execution_count": null,
   "id": "41d2d21c",
   "metadata": {},
   "outputs": [],
   "source": []
  },
  {
   "cell_type": "code",
   "execution_count": null,
   "id": "449a4cb8",
   "metadata": {},
   "outputs": [],
   "source": []
  },
  {
   "cell_type": "code",
   "execution_count": null,
   "id": "62a8a9bb",
   "metadata": {},
   "outputs": [],
   "source": []
  },
  {
   "cell_type": "code",
   "execution_count": null,
   "id": "44673c99",
   "metadata": {},
   "outputs": [],
   "source": []
  },
  {
   "cell_type": "code",
   "execution_count": null,
   "id": "622fb2d8",
   "metadata": {},
   "outputs": [],
   "source": []
  },
  {
   "cell_type": "code",
   "execution_count": null,
   "id": "8864b944",
   "metadata": {},
   "outputs": [],
   "source": []
  },
  {
   "cell_type": "code",
   "execution_count": null,
   "id": "9d4950fc",
   "metadata": {},
   "outputs": [],
   "source": []
  },
  {
   "cell_type": "code",
   "execution_count": null,
   "id": "64c33c96",
   "metadata": {},
   "outputs": [],
   "source": []
  },
  {
   "cell_type": "code",
   "execution_count": null,
   "id": "b1ad7612",
   "metadata": {},
   "outputs": [],
   "source": []
  },
  {
   "cell_type": "code",
   "execution_count": null,
   "id": "c2ad8256",
   "metadata": {},
   "outputs": [],
   "source": []
  },
  {
   "cell_type": "code",
   "execution_count": null,
   "id": "64899662",
   "metadata": {},
   "outputs": [],
   "source": []
  },
  {
   "cell_type": "code",
   "execution_count": null,
   "id": "c56adcd3",
   "metadata": {},
   "outputs": [],
   "source": []
  },
  {
   "cell_type": "code",
   "execution_count": null,
   "id": "c2a31c96",
   "metadata": {},
   "outputs": [],
   "source": []
  },
  {
   "cell_type": "code",
   "execution_count": null,
   "id": "c0b7c9e3",
   "metadata": {},
   "outputs": [],
   "source": []
  },
  {
   "cell_type": "code",
   "execution_count": null,
   "id": "c2b8beac",
   "metadata": {},
   "outputs": [],
   "source": []
  }
 ],
 "metadata": {
  "kernelspec": {
   "display_name": "Python 3 (ipykernel)",
   "language": "python",
   "name": "python3"
  },
  "language_info": {
   "codemirror_mode": {
    "name": "ipython",
    "version": 3
   },
   "file_extension": ".py",
   "mimetype": "text/x-python",
   "name": "python",
   "nbconvert_exporter": "python",
   "pygments_lexer": "ipython3",
   "version": "3.10.9"
  }
 },
 "nbformat": 4,
 "nbformat_minor": 5
}
