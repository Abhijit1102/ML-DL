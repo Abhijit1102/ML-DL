{
 "cells": [
  {
   "cell_type": "code",
   "execution_count": 2,
   "id": "feacde68",
   "metadata": {
    "ExecuteTime": {
     "end_time": "2022-11-26T05:21:35.870876Z",
     "start_time": "2022-11-26T05:21:35.862877Z"
    }
   },
   "outputs": [],
   "source": [
    "import numpy as np"
   ]
  },
  {
   "cell_type": "code",
   "execution_count": 3,
   "id": "020e6d05",
   "metadata": {
    "ExecuteTime": {
     "end_time": "2022-11-26T05:21:57.166554Z",
     "start_time": "2022-11-26T05:21:57.150551Z"
    }
   },
   "outputs": [],
   "source": [
    "a = np.array(4)"
   ]
  },
  {
   "cell_type": "code",
   "execution_count": 4,
   "id": "c9ce6e0a",
   "metadata": {
    "ExecuteTime": {
     "end_time": "2022-11-26T05:22:01.887457Z",
     "start_time": "2022-11-26T05:22:01.854498Z"
    }
   },
   "outputs": [
    {
     "data": {
      "text/plain": [
       "array(4)"
      ]
     },
     "execution_count": 4,
     "metadata": {},
     "output_type": "execute_result"
    }
   ],
   "source": [
    "a"
   ]
  },
  {
   "cell_type": "code",
   "execution_count": 7,
   "id": "a5268b6d",
   "metadata": {
    "ExecuteTime": {
     "end_time": "2022-11-26T05:23:19.857910Z",
     "start_time": "2022-11-26T05:23:19.829890Z"
    }
   },
   "outputs": [
    {
     "data": {
      "text/plain": [
       "0"
      ]
     },
     "execution_count": 7,
     "metadata": {},
     "output_type": "execute_result"
    }
   ],
   "source": [
    "a.ndim"
   ]
  },
  {
   "cell_type": "code",
   "execution_count": 11,
   "id": "5ed9720c",
   "metadata": {
    "ExecuteTime": {
     "end_time": "2022-11-26T05:25:35.443784Z",
     "start_time": "2022-11-26T05:25:35.419778Z"
    }
   },
   "outputs": [
    {
     "data": {
      "text/plain": [
       "1"
      ]
     },
     "execution_count": 11,
     "metadata": {},
     "output_type": "execute_result"
    }
   ],
   "source": [
    "arr = np.array([1,2,3,4])\n",
    "arr.ndim"
   ]
  },
  {
   "cell_type": "code",
   "execution_count": 13,
   "id": "ec5ce4e2",
   "metadata": {
    "ExecuteTime": {
     "end_time": "2022-11-26T05:29:42.483809Z",
     "start_time": "2022-11-26T05:29:42.459811Z"
    }
   },
   "outputs": [
    {
     "data": {
      "text/plain": [
       "2"
      ]
     },
     "execution_count": 13,
     "metadata": {},
     "output_type": "execute_result"
    }
   ],
   "source": [
    "mat= np.array([[1,2,3],[3,4,5],[7,8,9]])\n",
    "mat.ndim"
   ]
  },
  {
   "cell_type": "code",
   "execution_count": 14,
   "id": "7b410789",
   "metadata": {
    "ExecuteTime": {
     "end_time": "2022-11-26T05:29:59.360613Z",
     "start_time": "2022-11-26T05:29:59.340881Z"
    }
   },
   "outputs": [
    {
     "data": {
      "text/plain": [
       "array([[1, 2, 3],\n",
       "       [3, 4, 5],\n",
       "       [7, 8, 9]])"
      ]
     },
     "execution_count": 14,
     "metadata": {},
     "output_type": "execute_result"
    }
   ],
   "source": [
    "mat"
   ]
  },
  {
   "cell_type": "code",
   "execution_count": null,
   "id": "d3eee023",
   "metadata": {},
   "outputs": [],
   "source": []
  },
  {
   "cell_type": "code",
   "execution_count": null,
   "id": "adf76f06",
   "metadata": {},
   "outputs": [],
   "source": []
  },
  {
   "cell_type": "code",
   "execution_count": null,
   "id": "0070ccd6",
   "metadata": {},
   "outputs": [],
   "source": []
  },
  {
   "cell_type": "code",
   "execution_count": null,
   "id": "dc1ce089",
   "metadata": {},
   "outputs": [],
   "source": []
  },
  {
   "cell_type": "code",
   "execution_count": null,
   "id": "032bdbb2",
   "metadata": {},
   "outputs": [],
   "source": []
  },
  {
   "cell_type": "code",
   "execution_count": null,
   "id": "668a1167",
   "metadata": {},
   "outputs": [],
   "source": []
  },
  {
   "cell_type": "code",
   "execution_count": null,
   "id": "c5729e84",
   "metadata": {},
   "outputs": [],
   "source": []
  }
 ],
 "metadata": {
  "kernelspec": {
   "display_name": "Python 3 (ipykernel)",
   "language": "python",
   "name": "python3"
  },
  "language_info": {
   "codemirror_mode": {
    "name": "ipython",
    "version": 3
   },
   "file_extension": ".py",
   "mimetype": "text/x-python",
   "name": "python",
   "nbconvert_exporter": "python",
   "pygments_lexer": "ipython3",
   "version": "3.10.6"
  }
 },
 "nbformat": 4,
 "nbformat_minor": 5
}
