{
 "cells": [
  {
   "cell_type": "code",
   "execution_count": 2,
   "id": "901290b9",
   "metadata": {
    "ExecuteTime": {
     "end_time": "2022-11-27T12:41:32.704663Z",
     "start_time": "2022-11-27T12:41:29.362639Z"
    }
   },
   "outputs": [],
   "source": [
    "import pandas as pd"
   ]
  },
  {
   "cell_type": "code",
   "execution_count": 4,
   "id": "4a1f1801",
   "metadata": {
    "ExecuteTime": {
     "end_time": "2022-11-27T12:43:00.534528Z",
     "start_time": "2022-11-27T12:43:00.522536Z"
    }
   },
   "outputs": [],
   "source": [
    "#df =  pd.read_csv(\"https://github.com/campusx-official/100-days-of-machine-learning/blob/main/day15%20-%20working%20with%20csv%20files/working-with-csv.ipynb\")"
   ]
  },
  {
   "cell_type": "code",
   "execution_count": 69,
   "id": "c3097871",
   "metadata": {
    "ExecuteTime": {
     "end_time": "2022-11-27T13:42:58.035369Z",
     "start_time": "2022-11-27T13:42:30.002376Z"
    }
   },
   "outputs": [],
   "source": [
    "## import from url\n",
    "import requests\n",
    "from io import StringIO\n",
    "\n",
    "url=\"https://raw.githubusercontent.com/campusx-official/100-days-of-machine-learning/main/day15%20-%20working%20with%20csv%20files/aug_train.csv\"\n",
    "\n",
    "headers={'User-agent': 'Morzilla/5.0 (Windows NT 6.3; Win64; x64) AppleWebkit/537.36 (KHTML, like Gecko) Chrome/80.0.3987.162 Safari/537.36'}\n",
    "\n",
    "req = requests.get(url, headers=headers)\n",
    "data = StringIO(req.text)\n",
    "\n",
    "df = pd.read_csv(data)"
   ]
  },
  {
   "cell_type": "code",
   "execution_count": 23,
   "id": "2434da2b",
   "metadata": {
    "ExecuteTime": {
     "end_time": "2022-11-27T13:08:26.422338Z",
     "start_time": "2022-11-27T13:08:26.374955Z"
    }
   },
   "outputs": [
    {
     "data": {
      "text/html": [
       "<div>\n",
       "<style scoped>\n",
       "    .dataframe tbody tr th:only-of-type {\n",
       "        vertical-align: middle;\n",
       "    }\n",
       "\n",
       "    .dataframe tbody tr th {\n",
       "        vertical-align: top;\n",
       "    }\n",
       "\n",
       "    .dataframe thead th {\n",
       "        text-align: right;\n",
       "    }\n",
       "</style>\n",
       "<table border=\"1\" class=\"dataframe\">\n",
       "  <thead>\n",
       "    <tr style=\"text-align: right;\">\n",
       "      <th></th>\n",
       "      <th>enrollee_id</th>\n",
       "      <th>city</th>\n",
       "      <th>city_development_index</th>\n",
       "      <th>gender</th>\n",
       "      <th>relevent_experience</th>\n",
       "      <th>enrolled_university</th>\n",
       "      <th>education_level</th>\n",
       "      <th>major_discipline</th>\n",
       "      <th>experience</th>\n",
       "      <th>company_size</th>\n",
       "      <th>company_type</th>\n",
       "      <th>last_new_job</th>\n",
       "      <th>training_hours</th>\n",
       "      <th>target</th>\n",
       "    </tr>\n",
       "  </thead>\n",
       "  <tbody>\n",
       "    <tr>\n",
       "      <th>0</th>\n",
       "      <td>8949</td>\n",
       "      <td>city_103</td>\n",
       "      <td>0.920</td>\n",
       "      <td>Male</td>\n",
       "      <td>Has relevent experience</td>\n",
       "      <td>no_enrollment</td>\n",
       "      <td>Graduate</td>\n",
       "      <td>STEM</td>\n",
       "      <td>&gt;20</td>\n",
       "      <td>NaN</td>\n",
       "      <td>NaN</td>\n",
       "      <td>1</td>\n",
       "      <td>36</td>\n",
       "      <td>1.0</td>\n",
       "    </tr>\n",
       "    <tr>\n",
       "      <th>1</th>\n",
       "      <td>29725</td>\n",
       "      <td>city_40</td>\n",
       "      <td>0.776</td>\n",
       "      <td>Male</td>\n",
       "      <td>No relevent experience</td>\n",
       "      <td>no_enrollment</td>\n",
       "      <td>Graduate</td>\n",
       "      <td>STEM</td>\n",
       "      <td>15</td>\n",
       "      <td>50-99</td>\n",
       "      <td>Pvt Ltd</td>\n",
       "      <td>&gt;4</td>\n",
       "      <td>47</td>\n",
       "      <td>0.0</td>\n",
       "    </tr>\n",
       "  </tbody>\n",
       "</table>\n",
       "</div>"
      ],
      "text/plain": [
       "   enrollee_id      city  city_development_index gender  \\\n",
       "0         8949  city_103                   0.920   Male   \n",
       "1        29725   city_40                   0.776   Male   \n",
       "\n",
       "       relevent_experience enrolled_university education_level  \\\n",
       "0  Has relevent experience       no_enrollment        Graduate   \n",
       "1   No relevent experience       no_enrollment        Graduate   \n",
       "\n",
       "  major_discipline experience company_size company_type last_new_job  \\\n",
       "0             STEM        >20          NaN          NaN            1   \n",
       "1             STEM         15        50-99      Pvt Ltd           >4   \n",
       "\n",
       "   training_hours  target  \n",
       "0              36     1.0  \n",
       "1              47     0.0  "
      ]
     },
     "execution_count": 23,
     "metadata": {},
     "output_type": "execute_result"
    }
   ],
   "source": [
    "df.head(2)"
   ]
  },
  {
   "cell_type": "code",
   "execution_count": 8,
   "id": "9075a84a",
   "metadata": {
    "ExecuteTime": {
     "end_time": "2022-11-27T12:52:13.067599Z",
     "start_time": "2022-11-27T12:52:13.050608Z"
    }
   },
   "outputs": [],
   "source": [
    "### Tab seperated values"
   ]
  },
  {
   "cell_type": "code",
   "execution_count": null,
   "id": "2396faa7",
   "metadata": {},
   "outputs": [],
   "source": [
    "# pd.read_csv(file, sep='\\t', name=['serial_no', 'release_year', \"vote\", \"yoner\"]) #if columns name are not given#"
   ]
  },
  {
   "cell_type": "code",
   "execution_count": 12,
   "id": "3397d646",
   "metadata": {
    "ExecuteTime": {
     "end_time": "2022-11-27T12:57:18.030502Z",
     "start_time": "2022-11-27T12:57:18.009514Z"
    }
   },
   "outputs": [
    {
     "data": {
      "text/plain": [
       "Index(['enrollee_id', 'city', 'city_development_index', 'gender',\n",
       "       'relevent_experience', 'enrolled_university', 'education_level',\n",
       "       'major_discipline', 'experience', 'company_size', 'company_type',\n",
       "       'last_new_job', 'training_hours', 'target'],\n",
       "      dtype='object')"
      ]
     },
     "execution_count": 12,
     "metadata": {},
     "output_type": "execute_result"
    }
   ],
   "source": [
    "df.columns"
   ]
  },
  {
   "cell_type": "code",
   "execution_count": 13,
   "id": "6766bcd3",
   "metadata": {
    "ExecuteTime": {
     "end_time": "2022-11-27T12:57:45.314367Z",
     "start_time": "2022-11-27T12:57:45.282389Z"
    }
   },
   "outputs": [
    {
     "data": {
      "text/html": [
       "<div>\n",
       "<style scoped>\n",
       "    .dataframe tbody tr th:only-of-type {\n",
       "        vertical-align: middle;\n",
       "    }\n",
       "\n",
       "    .dataframe tbody tr th {\n",
       "        vertical-align: top;\n",
       "    }\n",
       "\n",
       "    .dataframe thead th {\n",
       "        text-align: right;\n",
       "    }\n",
       "</style>\n",
       "<table border=\"1\" class=\"dataframe\">\n",
       "  <thead>\n",
       "    <tr style=\"text-align: right;\">\n",
       "      <th></th>\n",
       "      <th>enrollee_id</th>\n",
       "      <th>city</th>\n",
       "      <th>city_development_index</th>\n",
       "      <th>gender</th>\n",
       "      <th>relevent_experience</th>\n",
       "      <th>enrolled_university</th>\n",
       "      <th>education_level</th>\n",
       "      <th>major_discipline</th>\n",
       "      <th>experience</th>\n",
       "      <th>company_size</th>\n",
       "      <th>company_type</th>\n",
       "      <th>last_new_job</th>\n",
       "      <th>training_hours</th>\n",
       "      <th>target</th>\n",
       "    </tr>\n",
       "  </thead>\n",
       "  <tbody>\n",
       "    <tr>\n",
       "      <th>0</th>\n",
       "      <td>8949</td>\n",
       "      <td>city_103</td>\n",
       "      <td>0.920</td>\n",
       "      <td>Male</td>\n",
       "      <td>Has relevent experience</td>\n",
       "      <td>no_enrollment</td>\n",
       "      <td>Graduate</td>\n",
       "      <td>STEM</td>\n",
       "      <td>&gt;20</td>\n",
       "      <td>NaN</td>\n",
       "      <td>NaN</td>\n",
       "      <td>1</td>\n",
       "      <td>36</td>\n",
       "      <td>1.0</td>\n",
       "    </tr>\n",
       "    <tr>\n",
       "      <th>1</th>\n",
       "      <td>29725</td>\n",
       "      <td>city_40</td>\n",
       "      <td>0.776</td>\n",
       "      <td>Male</td>\n",
       "      <td>No relevent experience</td>\n",
       "      <td>no_enrollment</td>\n",
       "      <td>Graduate</td>\n",
       "      <td>STEM</td>\n",
       "      <td>15</td>\n",
       "      <td>50-99</td>\n",
       "      <td>Pvt Ltd</td>\n",
       "      <td>&gt;4</td>\n",
       "      <td>47</td>\n",
       "      <td>0.0</td>\n",
       "    </tr>\n",
       "  </tbody>\n",
       "</table>\n",
       "</div>"
      ],
      "text/plain": [
       "   enrollee_id      city  city_development_index gender  \\\n",
       "0         8949  city_103                   0.920   Male   \n",
       "1        29725   city_40                   0.776   Male   \n",
       "\n",
       "       relevent_experience enrolled_university education_level  \\\n",
       "0  Has relevent experience       no_enrollment        Graduate   \n",
       "1   No relevent experience       no_enrollment        Graduate   \n",
       "\n",
       "  major_discipline experience company_size company_type last_new_job  \\\n",
       "0             STEM        >20          NaN          NaN            1   \n",
       "1             STEM         15        50-99      Pvt Ltd           >4   \n",
       "\n",
       "   training_hours  target  \n",
       "0              36     1.0  \n",
       "1              47     0.0  "
      ]
     },
     "execution_count": 13,
     "metadata": {},
     "output_type": "execute_result"
    }
   ],
   "source": [
    "df.head(2)"
   ]
  },
  {
   "cell_type": "code",
   "execution_count": 17,
   "id": "0edf8609",
   "metadata": {
    "ExecuteTime": {
     "end_time": "2022-11-27T12:59:35.538344Z",
     "start_time": "2022-11-27T12:59:35.532352Z"
    }
   },
   "outputs": [],
   "source": [
    "#df = pd.read_csv(data, index_col='enrollee_id')"
   ]
  },
  {
   "cell_type": "code",
   "execution_count": 18,
   "id": "860c5a85",
   "metadata": {
    "ExecuteTime": {
     "end_time": "2022-11-27T13:01:07.484943Z",
     "start_time": "2022-11-27T13:01:07.473946Z"
    }
   },
   "outputs": [],
   "source": [
    "## if no header\n",
    "# pd.read(file, header=1)"
   ]
  },
  {
   "cell_type": "code",
   "execution_count": 19,
   "id": "9d292638",
   "metadata": {
    "ExecuteTime": {
     "end_time": "2022-11-27T13:02:51.863179Z",
     "start_time": "2022-11-27T13:02:51.857180Z"
    }
   },
   "outputs": [],
   "source": [
    "#use cols parameter\n",
    "# pd.read(filename, usecols=['gender', 'education', 'enroled_id'])"
   ]
  },
  {
   "cell_type": "code",
   "execution_count": null,
   "id": "67cf248a",
   "metadata": {},
   "outputs": [],
   "source": [
    "#Sequese parameter\n",
    "# pd.read(filename, usecols=['gender'], sequese=True)"
   ]
  },
  {
   "cell_type": "code",
   "execution_count": null,
   "id": "e161c94a",
   "metadata": {},
   "outputs": [],
   "source": [
    "## skip rows\n",
    "## pd.read(filename, skiprows=[0,1])"
   ]
  },
  {
   "cell_type": "code",
   "execution_count": 47,
   "id": "fdb0d94c",
   "metadata": {
    "ExecuteTime": {
     "end_time": "2022-11-27T13:17:14.598086Z",
     "start_time": "2022-11-27T13:17:14.577102Z"
    }
   },
   "outputs": [
    {
     "name": "stdout",
     "output_type": "stream",
     "text": [
      "0\n",
      "2\n",
      "4\n",
      "6\n",
      "8\n",
      "10\n"
     ]
    }
   ],
   "source": [
    " for i in range(0,11,2):\n",
    "        print(i)"
   ]
  },
  {
   "cell_type": "code",
   "execution_count": 52,
   "id": "ff6a8fa0",
   "metadata": {
    "ExecuteTime": {
     "end_time": "2022-11-27T13:19:58.646996Z",
     "start_time": "2022-11-27T13:19:58.610010Z"
    }
   },
   "outputs": [
    {
     "data": {
      "text/html": [
       "<div>\n",
       "<style scoped>\n",
       "    .dataframe tbody tr th:only-of-type {\n",
       "        vertical-align: middle;\n",
       "    }\n",
       "\n",
       "    .dataframe tbody tr th {\n",
       "        vertical-align: top;\n",
       "    }\n",
       "\n",
       "    .dataframe thead th {\n",
       "        text-align: right;\n",
       "    }\n",
       "</style>\n",
       "<table border=\"1\" class=\"dataframe\">\n",
       "  <thead>\n",
       "    <tr style=\"text-align: right;\">\n",
       "      <th></th>\n",
       "      <th>0</th>\n",
       "      <th>1</th>\n",
       "      <th>Kolkata Knight Riders</th>\n",
       "    </tr>\n",
       "  </thead>\n",
       "  <tbody>\n",
       "    <tr>\n",
       "      <th>0</th>\n",
       "      <td>2</td>\n",
       "      <td>3</td>\n",
       "      <td>Chennai Super Kings</td>\n",
       "    </tr>\n",
       "    <tr>\n",
       "      <th>1</th>\n",
       "      <td>4</td>\n",
       "      <td>5</td>\n",
       "      <td>Rajasthan Royals</td>\n",
       "    </tr>\n",
       "    <tr>\n",
       "      <th>2</th>\n",
       "      <td>6</td>\n",
       "      <td>7</td>\n",
       "      <td>Mumbai Indians</td>\n",
       "    </tr>\n",
       "    <tr>\n",
       "      <th>3</th>\n",
       "      <td>8</td>\n",
       "      <td>9</td>\n",
       "      <td>Kochi Tuskers Kerala</td>\n",
       "    </tr>\n",
       "    <tr>\n",
       "      <th>4</th>\n",
       "      <td>10</td>\n",
       "      <td>11</td>\n",
       "      <td>Sunrisers Hyderabad</td>\n",
       "    </tr>\n",
       "    <tr>\n",
       "      <th>5</th>\n",
       "      <td>11</td>\n",
       "      <td>12</td>\n",
       "      <td>Rising Pune Supergiants</td>\n",
       "    </tr>\n",
       "    <tr>\n",
       "      <th>6</th>\n",
       "      <td>12</td>\n",
       "      <td>13</td>\n",
       "      <td>Gujarat Lions</td>\n",
       "    </tr>\n",
       "  </tbody>\n",
       "</table>\n",
       "</div>"
      ],
      "text/plain": [
       "    0   1    Kolkata Knight Riders\n",
       "0   2   3      Chennai Super Kings\n",
       "1   4   5         Rajasthan Royals\n",
       "2   6   7           Mumbai Indians\n",
       "3   8   9     Kochi Tuskers Kerala\n",
       "4  10  11      Sunrisers Hyderabad\n",
       "5  11  12  Rising Pune Supergiants\n",
       "6  12  13            Gujarat Lions"
      ]
     },
     "execution_count": 52,
     "metadata": {},
     "output_type": "execute_result"
    }
   ],
   "source": [
    "pd.read_csv('E:\\Data\\Team.csv', skiprows=[i for i in range(0,11,2)])"
   ]
  },
  {
   "cell_type": "code",
   "execution_count": 54,
   "id": "809cea86",
   "metadata": {
    "ExecuteTime": {
     "end_time": "2022-11-27T13:20:57.959812Z",
     "start_time": "2022-11-27T13:20:57.938805Z"
    }
   },
   "outputs": [
    {
     "data": {
      "text/html": [
       "<div>\n",
       "<style scoped>\n",
       "    .dataframe tbody tr th:only-of-type {\n",
       "        vertical-align: middle;\n",
       "    }\n",
       "\n",
       "    .dataframe tbody tr th {\n",
       "        vertical-align: top;\n",
       "    }\n",
       "\n",
       "    .dataframe thead th {\n",
       "        text-align: right;\n",
       "    }\n",
       "</style>\n",
       "<table border=\"1\" class=\"dataframe\">\n",
       "  <thead>\n",
       "    <tr style=\"text-align: right;\">\n",
       "      <th></th>\n",
       "      <th>Team_SK</th>\n",
       "      <th>Team_Id</th>\n",
       "      <th>Team_Name</th>\n",
       "    </tr>\n",
       "  </thead>\n",
       "  <tbody>\n",
       "    <tr>\n",
       "      <th>0</th>\n",
       "      <td>0</td>\n",
       "      <td>1</td>\n",
       "      <td>Kolkata Knight Riders</td>\n",
       "    </tr>\n",
       "    <tr>\n",
       "      <th>1</th>\n",
       "      <td>1</td>\n",
       "      <td>2</td>\n",
       "      <td>Royal Challengers Bangalore</td>\n",
       "    </tr>\n",
       "    <tr>\n",
       "      <th>2</th>\n",
       "      <td>2</td>\n",
       "      <td>3</td>\n",
       "      <td>Chennai Super Kings</td>\n",
       "    </tr>\n",
       "    <tr>\n",
       "      <th>3</th>\n",
       "      <td>3</td>\n",
       "      <td>4</td>\n",
       "      <td>Kings XI Punjab</td>\n",
       "    </tr>\n",
       "    <tr>\n",
       "      <th>4</th>\n",
       "      <td>4</td>\n",
       "      <td>5</td>\n",
       "      <td>Rajasthan Royals</td>\n",
       "    </tr>\n",
       "  </tbody>\n",
       "</table>\n",
       "</div>"
      ],
      "text/plain": [
       "   Team_SK  Team_Id                    Team_Name\n",
       "0        0        1        Kolkata Knight Riders\n",
       "1        1        2  Royal Challengers Bangalore\n",
       "2        2        3          Chennai Super Kings\n",
       "3        3        4              Kings XI Punjab\n",
       "4        4        5             Rajasthan Royals"
      ]
     },
     "execution_count": 54,
     "metadata": {},
     "output_type": "execute_result"
    }
   ],
   "source": [
    "pd.read_csv('E:\\Data\\Team.csv', nrows=5)"
   ]
  },
  {
   "cell_type": "code",
   "execution_count": 56,
   "id": "3b6257d6",
   "metadata": {
    "ExecuteTime": {
     "end_time": "2022-11-27T13:23:22.784599Z",
     "start_time": "2022-11-27T13:23:22.764610Z"
    }
   },
   "outputs": [],
   "source": [
    "## Encoding parameter\n",
    "# utf-8 is normal\n",
    "# e.g. contain emoji, laguage, hence cause unicode error"
   ]
  },
  {
   "cell_type": "code",
   "execution_count": 57,
   "id": "b91dd3b2",
   "metadata": {
    "ExecuteTime": {
     "end_time": "2022-11-27T13:25:06.393193Z",
     "start_time": "2022-11-27T13:24:37.691456Z"
    }
   },
   "outputs": [],
   "source": [
    "import requests\n",
    "from io import StringIO\n",
    "\n",
    "url = \"https://raw.githubusercontent.com/campusx-official/100-days-of-machine-learning/main/day15%20-%20working%20with%20csv%20files/zomato.csv\"\n",
    "\n",
    "headers={'User-agent': 'Morzilla/5.0 (Windows NT 6.3; Win64; x64) AppleWebkit/537.36 (KHTML, like Gecko) Chrome/80.0.3987.162 Safari/537.36'}\n",
    "\n",
    "req = requests.get(url, headers=headers)\n",
    "data = StringIO(req.text)\n",
    "\n",
    "df = pd.read_csv(data) ##encoding= 'latin-1'"
   ]
  },
  {
   "cell_type": "code",
   "execution_count": 59,
   "id": "7f1cfda6",
   "metadata": {
    "ExecuteTime": {
     "end_time": "2022-11-27T13:25:54.743686Z",
     "start_time": "2022-11-27T13:25:54.698715Z"
    }
   },
   "outputs": [
    {
     "data": {
      "text/html": [
       "<div>\n",
       "<style scoped>\n",
       "    .dataframe tbody tr th:only-of-type {\n",
       "        vertical-align: middle;\n",
       "    }\n",
       "\n",
       "    .dataframe tbody tr th {\n",
       "        vertical-align: top;\n",
       "    }\n",
       "\n",
       "    .dataframe thead th {\n",
       "        text-align: right;\n",
       "    }\n",
       "</style>\n",
       "<table border=\"1\" class=\"dataframe\">\n",
       "  <thead>\n",
       "    <tr style=\"text-align: right;\">\n",
       "      <th></th>\n",
       "      <th>Restaurant ID</th>\n",
       "      <th>Restaurant Name</th>\n",
       "      <th>Country Code</th>\n",
       "      <th>City</th>\n",
       "      <th>Address</th>\n",
       "      <th>Locality</th>\n",
       "      <th>Locality Verbose</th>\n",
       "      <th>Longitude</th>\n",
       "      <th>Latitude</th>\n",
       "      <th>Cuisines</th>\n",
       "      <th>...</th>\n",
       "      <th>Currency</th>\n",
       "      <th>Has Table booking</th>\n",
       "      <th>Has Online delivery</th>\n",
       "      <th>Is delivering now</th>\n",
       "      <th>Switch to order menu</th>\n",
       "      <th>Price range</th>\n",
       "      <th>Aggregate rating</th>\n",
       "      <th>Rating color</th>\n",
       "      <th>Rating text</th>\n",
       "      <th>Votes</th>\n",
       "    </tr>\n",
       "  </thead>\n",
       "  <tbody>\n",
       "    <tr>\n",
       "      <th>0</th>\n",
       "      <td>6317637</td>\n",
       "      <td>Le Petit Souffle</td>\n",
       "      <td>162</td>\n",
       "      <td>Makati City</td>\n",
       "      <td>Third Floor, Century City Mall, Kalayaan Avenu...</td>\n",
       "      <td>Century City Mall, Poblacion, Makati City</td>\n",
       "      <td>Century City Mall, Poblacion, Makati City, Mak...</td>\n",
       "      <td>121.027535</td>\n",
       "      <td>14.565443</td>\n",
       "      <td>French, Japanese, Desserts</td>\n",
       "      <td>...</td>\n",
       "      <td>Botswana Pula(P)</td>\n",
       "      <td>Yes</td>\n",
       "      <td>No</td>\n",
       "      <td>No</td>\n",
       "      <td>No</td>\n",
       "      <td>3</td>\n",
       "      <td>4.8</td>\n",
       "      <td>Dark Green</td>\n",
       "      <td>Excellent</td>\n",
       "      <td>314</td>\n",
       "    </tr>\n",
       "    <tr>\n",
       "      <th>1</th>\n",
       "      <td>6304287</td>\n",
       "      <td>Izakaya Kikufuji</td>\n",
       "      <td>162</td>\n",
       "      <td>Makati City</td>\n",
       "      <td>Little Tokyo, 2277 Chino Roces Avenue, Legaspi...</td>\n",
       "      <td>Little Tokyo, Legaspi Village, Makati City</td>\n",
       "      <td>Little Tokyo, Legaspi Village, Makati City, Ma...</td>\n",
       "      <td>121.014101</td>\n",
       "      <td>14.553708</td>\n",
       "      <td>Japanese</td>\n",
       "      <td>...</td>\n",
       "      <td>Botswana Pula(P)</td>\n",
       "      <td>Yes</td>\n",
       "      <td>No</td>\n",
       "      <td>No</td>\n",
       "      <td>No</td>\n",
       "      <td>3</td>\n",
       "      <td>4.5</td>\n",
       "      <td>Dark Green</td>\n",
       "      <td>Excellent</td>\n",
       "      <td>591</td>\n",
       "    </tr>\n",
       "  </tbody>\n",
       "</table>\n",
       "<p>2 rows × 21 columns</p>\n",
       "</div>"
      ],
      "text/plain": [
       "   Restaurant ID   Restaurant Name  Country Code         City  \\\n",
       "0        6317637  Le Petit Souffle           162  Makati City   \n",
       "1        6304287  Izakaya Kikufuji           162  Makati City   \n",
       "\n",
       "                                             Address  \\\n",
       "0  Third Floor, Century City Mall, Kalayaan Avenu...   \n",
       "1  Little Tokyo, 2277 Chino Roces Avenue, Legaspi...   \n",
       "\n",
       "                                     Locality  \\\n",
       "0   Century City Mall, Poblacion, Makati City   \n",
       "1  Little Tokyo, Legaspi Village, Makati City   \n",
       "\n",
       "                                    Locality Verbose   Longitude   Latitude  \\\n",
       "0  Century City Mall, Poblacion, Makati City, Mak...  121.027535  14.565443   \n",
       "1  Little Tokyo, Legaspi Village, Makati City, Ma...  121.014101  14.553708   \n",
       "\n",
       "                     Cuisines  ...          Currency Has Table booking  \\\n",
       "0  French, Japanese, Desserts  ...  Botswana Pula(P)               Yes   \n",
       "1                    Japanese  ...  Botswana Pula(P)               Yes   \n",
       "\n",
       "  Has Online delivery Is delivering now Switch to order menu Price range  \\\n",
       "0                  No                No                   No           3   \n",
       "1                  No                No                   No           3   \n",
       "\n",
       "   Aggregate rating  Rating color Rating text Votes  \n",
       "0               4.8    Dark Green   Excellent   314  \n",
       "1               4.5    Dark Green   Excellent   591  \n",
       "\n",
       "[2 rows x 21 columns]"
      ]
     },
     "execution_count": 59,
     "metadata": {},
     "output_type": "execute_result"
    }
   ],
   "source": [
    "df.head(2) "
   ]
  },
  {
   "cell_type": "code",
   "execution_count": 60,
   "id": "6c3bb1cc",
   "metadata": {
    "ExecuteTime": {
     "end_time": "2022-11-27T13:28:16.917577Z",
     "start_time": "2022-11-27T13:28:16.897592Z"
    }
   },
   "outputs": [],
   "source": [
    "## skiping bal lines\n",
    "#parsar error i.e. some data having  more colums\n",
    "#pd.read_csv(folename, error_bad_lines=True)"
   ]
  },
  {
   "cell_type": "code",
   "execution_count": 61,
   "id": "e5dcbc65",
   "metadata": {
    "ExecuteTime": {
     "end_time": "2022-11-27T13:30:30.637051Z",
     "start_time": "2022-11-27T13:30:30.618063Z"
    }
   },
   "outputs": [],
   "source": [
    "#dtypes parameter\n",
    "#pd.read(filename, dtype={target: int})"
   ]
  },
  {
   "cell_type": "code",
   "execution_count": 63,
   "id": "8682212e",
   "metadata": {
    "ExecuteTime": {
     "end_time": "2022-11-27T13:33:58.101294Z",
     "start_time": "2022-11-27T13:33:58.091284Z"
    }
   },
   "outputs": [],
   "source": [
    "# handaling Dates\n",
    "# pd.read_csv(filename, parse_dates=['date']) ## [colname:[[1,2,3]]] for single dates"
   ]
  },
  {
   "cell_type": "code",
   "execution_count": null,
   "id": "5c698441",
   "metadata": {},
   "outputs": [],
   "source": [
    "# def rename(name):\n",
    "   #  if name ='Royal..':\n",
    "   #     return \"RBC\"\n",
    "   # else:\n",
    "   #     name"
   ]
  },
  {
   "cell_type": "code",
   "execution_count": 64,
   "id": "2b2d73b0",
   "metadata": {
    "ExecuteTime": {
     "end_time": "2022-11-27T13:37:50.473224Z",
     "start_time": "2022-11-27T13:37:50.466228Z"
    }
   },
   "outputs": [],
   "source": [
    "## Converters\n",
    "#pd.read_csv(filename, convereters={team1: rename} )"
   ]
  },
  {
   "cell_type": "code",
   "execution_count": 65,
   "id": "e4b4c283",
   "metadata": {
    "ExecuteTime": {
     "end_time": "2022-11-27T13:39:26.442677Z",
     "start_time": "2022-11-27T13:39:26.426683Z"
    }
   },
   "outputs": [],
   "source": [
    "# na_values parameters\n",
    "# pd.read(filename, na_values=['male','transgender'])"
   ]
  },
  {
   "cell_type": "code",
   "execution_count": 94,
   "id": "9d080a1d",
   "metadata": {
    "ExecuteTime": {
     "end_time": "2022-11-27T13:48:18.728846Z",
     "start_time": "2022-11-27T13:48:18.707839Z"
    }
   },
   "outputs": [],
   "source": [
    "## Loading huge data sets in chunks\n",
    "df= pd.read_csv(\"E:\\Data\\housing.csv\", chunksize=5000)"
   ]
  },
  {
   "cell_type": "code",
   "execution_count": 95,
   "id": "197f8c44",
   "metadata": {
    "ExecuteTime": {
     "end_time": "2022-11-27T13:48:19.648317Z",
     "start_time": "2022-11-27T13:48:19.553262Z"
    }
   },
   "outputs": [
    {
     "name": "stdout",
     "output_type": "stream",
     "text": [
      "(5000, 10)\n",
      "(5000, 10)\n",
      "(5000, 10)\n",
      "(5000, 10)\n",
      "(640, 10)\n"
     ]
    }
   ],
   "source": [
    "for chunks in df:\n",
    "    print(chunks.shape)"
   ]
  },
  {
   "cell_type": "code",
   "execution_count": 96,
   "id": "58b4df4c",
   "metadata": {
    "ExecuteTime": {
     "end_time": "2022-11-27T13:49:51.187690Z",
     "start_time": "2022-11-27T13:49:51.177695Z"
    }
   },
   "outputs": [],
   "source": [
    "### Json and sql data set"
   ]
  },
  {
   "cell_type": "code",
   "execution_count": null,
   "id": "93297573",
   "metadata": {},
   "outputs": [],
   "source": [
    "# import pandas as pd\n",
    "# pd.read_json(file.json) #as same as csv"
   ]
  },
  {
   "cell_type": "code",
   "execution_count": null,
   "id": "573c27b3",
   "metadata": {},
   "outputs": [],
   "source": []
  },
  {
   "cell_type": "code",
   "execution_count": null,
   "id": "f955d259",
   "metadata": {},
   "outputs": [],
   "source": []
  },
  {
   "cell_type": "code",
   "execution_count": null,
   "id": "3a4db19d",
   "metadata": {},
   "outputs": [],
   "source": []
  },
  {
   "cell_type": "code",
   "execution_count": null,
   "id": "9f955594",
   "metadata": {},
   "outputs": [],
   "source": []
  },
  {
   "cell_type": "code",
   "execution_count": null,
   "id": "6867953e",
   "metadata": {},
   "outputs": [],
   "source": []
  },
  {
   "cell_type": "code",
   "execution_count": null,
   "id": "e7d0e70e",
   "metadata": {},
   "outputs": [],
   "source": []
  },
  {
   "cell_type": "code",
   "execution_count": null,
   "id": "962eed20",
   "metadata": {},
   "outputs": [],
   "source": []
  },
  {
   "cell_type": "code",
   "execution_count": null,
   "id": "03af95f8",
   "metadata": {},
   "outputs": [],
   "source": []
  },
  {
   "cell_type": "code",
   "execution_count": null,
   "id": "768f1271",
   "metadata": {},
   "outputs": [],
   "source": []
  },
  {
   "cell_type": "code",
   "execution_count": null,
   "id": "260bbd00",
   "metadata": {},
   "outputs": [],
   "source": []
  },
  {
   "cell_type": "code",
   "execution_count": null,
   "id": "21598c4d",
   "metadata": {},
   "outputs": [],
   "source": []
  },
  {
   "cell_type": "code",
   "execution_count": null,
   "id": "297627c5",
   "metadata": {},
   "outputs": [],
   "source": []
  },
  {
   "cell_type": "code",
   "execution_count": null,
   "id": "fd4da4cf",
   "metadata": {},
   "outputs": [],
   "source": []
  },
  {
   "cell_type": "code",
   "execution_count": null,
   "id": "a0201a64",
   "metadata": {},
   "outputs": [],
   "source": []
  },
  {
   "cell_type": "code",
   "execution_count": null,
   "id": "8ddfb590",
   "metadata": {},
   "outputs": [],
   "source": []
  }
 ],
 "metadata": {
  "kernelspec": {
   "display_name": "Python 3 (ipykernel)",
   "language": "python",
   "name": "python3"
  },
  "language_info": {
   "codemirror_mode": {
    "name": "ipython",
    "version": 3
   },
   "file_extension": ".py",
   "mimetype": "text/x-python",
   "name": "python",
   "nbconvert_exporter": "python",
   "pygments_lexer": "ipython3",
   "version": "3.10.9"
  }
 },
 "nbformat": 4,
 "nbformat_minor": 5
}
