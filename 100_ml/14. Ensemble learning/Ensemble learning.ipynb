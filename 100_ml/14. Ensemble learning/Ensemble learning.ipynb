{
 "cells": [
  {
   "cell_type": "markdown",
   "id": "eb565d19",
   "metadata": {},
   "source": [
    "### Wisdom of crowd\n",
    "- Wisdom of the crowd is a theory that assumes large crowds are collectively smarter than individual experts. It believes that the collective knowledge and opinions of a group are better at decision-making, problem-solving, and innovating than an individual."
   ]
  },
  {
   "cell_type": "markdown",
   "id": "32835346",
   "metadata": {},
   "source": [
    "### Core ideas\n",
    "- In statistics and machine learning, ensemble methods use multiple learning algorithms to obtain better predictive performance.\n",
    "\n",
    "<img src=\"https://www.jcchouinard.com/wp-content/uploads/2021/11/image-10.png.webp\">"
   ]
  },
  {
   "cell_type": "markdown",
   "id": "cd9b38be",
   "metadata": {},
   "source": [
    "### Type of Ensemble learning\n",
    "- Voting\n",
    "- Bagging (Random forest)\n",
    "- Boosting (Adabosting, Gradient Bossting, Xgboost)\n",
    "- Stackling"
   ]
  },
  {
   "cell_type": "markdown",
   "id": "bd43443f",
   "metadata": {},
   "source": [
    "- Voting : Base models are different Algorithm having same importance\n",
    "- Stacking : Base on weighted of prediction of base model\n",
    "- Bagging stands for bootstrap aggregation: giving  different data at random to same model -> query point ( Random forest is particular technique of  base model is decession tree)\n",
    "- Boosting: same model -> no of incorectness at 1st model -> same 2nd model also incorect -> eventually it stops incorectness."
   ]
  },
  {
   "cell_type": "markdown",
   "id": "7c0dff40",
   "metadata": {},
   "source": [
    "## Ensemble learning in terms of classification\n",
    "\n",
    "<img src=\"http://www.scholarpedia.org/w/images/thumb/8/82/Combining_classifiers2.jpg/545px-Combining_classifiers2.jpg\">"
   ]
  },
  {
   "cell_type": "markdown",
   "id": "ce4190e5",
   "metadata": {},
   "source": [
    "### Ensemble learning in terms of regression\n",
    "\n",
    "<img src=\"https://machinelearningmastery.com/wp-content/uploads/2020/07/Example-of-Combining-Hyperplanes-Using-an-Ensemble-1024x768.png\">"
   ]
  },
  {
   "cell_type": "markdown",
   "id": "5c76012b",
   "metadata": {},
   "source": [
    "### Advantage & disavatages\n",
    "- Imoprtance of performance but computaiuonal complexcibilty.\n",
    "- Bais-Variance: It help goal is low bais & low variance.\n",
    "- Robustness: Algorithm become more robust"
   ]
  },
  {
   "cell_type": "code",
   "execution_count": null,
   "id": "9625bea7",
   "metadata": {},
   "outputs": [],
   "source": []
  },
  {
   "cell_type": "code",
   "execution_count": null,
   "id": "49218760",
   "metadata": {},
   "outputs": [],
   "source": []
  },
  {
   "cell_type": "code",
   "execution_count": null,
   "id": "fcb7ec88",
   "metadata": {},
   "outputs": [],
   "source": []
  },
  {
   "cell_type": "code",
   "execution_count": null,
   "id": "3d2ca4d0",
   "metadata": {},
   "outputs": [],
   "source": []
  },
  {
   "cell_type": "code",
   "execution_count": null,
   "id": "5bc14f94",
   "metadata": {},
   "outputs": [],
   "source": []
  },
  {
   "cell_type": "code",
   "execution_count": null,
   "id": "e77d7b52",
   "metadata": {},
   "outputs": [],
   "source": []
  },
  {
   "cell_type": "code",
   "execution_count": null,
   "id": "2d443219",
   "metadata": {},
   "outputs": [],
   "source": []
  },
  {
   "cell_type": "code",
   "execution_count": null,
   "id": "877e14f7",
   "metadata": {},
   "outputs": [],
   "source": []
  },
  {
   "cell_type": "code",
   "execution_count": null,
   "id": "ff020e73",
   "metadata": {},
   "outputs": [],
   "source": []
  }
 ],
 "metadata": {
  "kernelspec": {
   "display_name": "Python 3 (ipykernel)",
   "language": "python",
   "name": "python3"
  },
  "language_info": {
   "codemirror_mode": {
    "name": "ipython",
    "version": 3
   },
   "file_extension": ".py",
   "mimetype": "text/x-python",
   "name": "python",
   "nbconvert_exporter": "python",
   "pygments_lexer": "ipython3",
   "version": "3.10.9"
  }
 },
 "nbformat": 4,
 "nbformat_minor": 5
}
