{
 "cells": [
  {
   "cell_type": "code",
   "execution_count": 1,
   "id": "2aad7130",
   "metadata": {
    "ExecuteTime": {
     "end_time": "2022-12-01T08:15:07.351400Z",
     "start_time": "2022-12-01T08:15:07.137030Z"
    }
   },
   "outputs": [],
   "source": [
    "import pickle\n",
    "import numpy as np"
   ]
  },
  {
   "cell_type": "code",
   "execution_count": 2,
   "id": "2a50975a",
   "metadata": {
    "ExecuteTime": {
     "end_time": "2022-12-01T08:15:30.139360Z",
     "start_time": "2022-12-01T08:15:27.990912Z"
    }
   },
   "outputs": [],
   "source": [
    "ohe_sex = pickle.load(open('ohe_sex.pkl','rb'))\n",
    "ohe_embarked = pickle.load(open('ohe_embarked.pkl','rb'))\n",
    "clf = pickle.load(open('clf.pkl','rb'))"
   ]
  },
  {
   "cell_type": "code",
   "execution_count": 3,
   "id": "5666f2be",
   "metadata": {
    "ExecuteTime": {
     "end_time": "2022-12-01T08:15:45.373176Z",
     "start_time": "2022-12-01T08:15:45.357181Z"
    }
   },
   "outputs": [],
   "source": [
    "# Assume user input\n",
    "# Pclass/gender/age/SibSp/Parch/Fare/Embarked\n",
    "test_input = np.array([2, 'male', 31.0, 0, 0, 10.5, 'S'],dtype=object).reshape(1,7)\n"
   ]
  },
  {
   "cell_type": "code",
   "execution_count": 4,
   "id": "fdb2a52d",
   "metadata": {
    "ExecuteTime": {
     "end_time": "2022-12-01T08:15:54.599561Z",
     "start_time": "2022-12-01T08:15:54.572936Z"
    }
   },
   "outputs": [
    {
     "data": {
      "text/plain": [
       "array([[2, 'male', 31.0, 0, 0, 10.5, 'S']], dtype=object)"
      ]
     },
     "execution_count": 4,
     "metadata": {},
     "output_type": "execute_result"
    }
   ],
   "source": [
    "test_input"
   ]
  },
  {
   "cell_type": "code",
   "execution_count": 5,
   "id": "294983c6",
   "metadata": {
    "ExecuteTime": {
     "end_time": "2022-12-01T08:16:20.319702Z",
     "start_time": "2022-12-01T08:16:20.269025Z"
    }
   },
   "outputs": [
    {
     "name": "stderr",
     "output_type": "stream",
     "text": [
      "C:\\Users\\Lenovo\\AppData\\Local\\Programs\\Python\\Python310\\lib\\site-packages\\sklearn\\base.py:450: UserWarning: X does not have valid feature names, but OneHotEncoder was fitted with feature names\n",
      "  warnings.warn(\n"
     ]
    }
   ],
   "source": [
    "test_input_sex = ohe_sex.transform(test_input[:,1].reshape(1,1))"
   ]
  },
  {
   "cell_type": "code",
   "execution_count": 6,
   "id": "654fc496",
   "metadata": {
    "ExecuteTime": {
     "end_time": "2022-12-01T08:16:32.701007Z",
     "start_time": "2022-12-01T08:16:32.677016Z"
    }
   },
   "outputs": [
    {
     "data": {
      "text/plain": [
       "array([[0., 1.]])"
      ]
     },
     "execution_count": 6,
     "metadata": {},
     "output_type": "execute_result"
    }
   ],
   "source": [
    "test_input_sex"
   ]
  },
  {
   "cell_type": "code",
   "execution_count": 7,
   "id": "aee4aa14",
   "metadata": {
    "ExecuteTime": {
     "end_time": "2022-12-01T08:16:41.467115Z",
     "start_time": "2022-12-01T08:16:41.449883Z"
    }
   },
   "outputs": [],
   "source": [
    "test_input_embarked = ohe_embarked.transform(test_input[:,-1].reshape(1,1))"
   ]
  },
  {
   "cell_type": "code",
   "execution_count": 8,
   "id": "cf8b9c8d",
   "metadata": {
    "ExecuteTime": {
     "end_time": "2022-12-01T08:17:00.585073Z",
     "start_time": "2022-12-01T08:17:00.569077Z"
    }
   },
   "outputs": [
    {
     "data": {
      "text/plain": [
       "array([[0., 0., 1.]])"
      ]
     },
     "execution_count": 8,
     "metadata": {},
     "output_type": "execute_result"
    }
   ],
   "source": [
    "test_input_embarked"
   ]
  },
  {
   "cell_type": "code",
   "execution_count": 9,
   "id": "23414fb4",
   "metadata": {
    "ExecuteTime": {
     "end_time": "2022-12-01T08:17:14.439336Z",
     "start_time": "2022-12-01T08:17:14.420827Z"
    }
   },
   "outputs": [],
   "source": [
    "test_input_age = test_input[:,2].reshape(1,1)"
   ]
  },
  {
   "cell_type": "code",
   "execution_count": 10,
   "id": "5cbcca12",
   "metadata": {
    "ExecuteTime": {
     "end_time": "2022-12-01T08:17:23.979227Z",
     "start_time": "2022-12-01T08:17:23.962578Z"
    }
   },
   "outputs": [],
   "source": [
    "test_input_transformed = np.concatenate((test_input[:,[0,3,4,5]],test_input_age,test_input_sex,test_input_embarked),axis=1)"
   ]
  },
  {
   "cell_type": "code",
   "execution_count": 11,
   "id": "65d45fc6",
   "metadata": {
    "ExecuteTime": {
     "end_time": "2022-12-01T08:17:37.589591Z",
     "start_time": "2022-12-01T08:17:37.574239Z"
    }
   },
   "outputs": [
    {
     "data": {
      "text/plain": [
       "(1, 10)"
      ]
     },
     "execution_count": 11,
     "metadata": {},
     "output_type": "execute_result"
    }
   ],
   "source": [
    "test_input_transformed.shape"
   ]
  },
  {
   "cell_type": "code",
   "execution_count": 12,
   "id": "2811788c",
   "metadata": {
    "ExecuteTime": {
     "end_time": "2022-12-01T08:17:50.939139Z",
     "start_time": "2022-12-01T08:17:50.911835Z"
    }
   },
   "outputs": [
    {
     "data": {
      "text/plain": [
       "array([1], dtype=int64)"
      ]
     },
     "execution_count": 12,
     "metadata": {},
     "output_type": "execute_result"
    }
   ],
   "source": [
    "clf.predict(test_input_transformed)"
   ]
  },
  {
   "cell_type": "code",
   "execution_count": null,
   "id": "5e323763",
   "metadata": {},
   "outputs": [],
   "source": []
  },
  {
   "cell_type": "code",
   "execution_count": null,
   "id": "6d53e1dd",
   "metadata": {},
   "outputs": [],
   "source": []
  },
  {
   "cell_type": "code",
   "execution_count": null,
   "id": "fb32097b",
   "metadata": {},
   "outputs": [],
   "source": []
  },
  {
   "cell_type": "code",
   "execution_count": null,
   "id": "147da31d",
   "metadata": {},
   "outputs": [],
   "source": []
  },
  {
   "cell_type": "code",
   "execution_count": null,
   "id": "b23d0f66",
   "metadata": {},
   "outputs": [],
   "source": []
  }
 ],
 "metadata": {
  "kernelspec": {
   "display_name": "Python 3 (ipykernel)",
   "language": "python",
   "name": "python3"
  },
  "language_info": {
   "codemirror_mode": {
    "name": "ipython",
    "version": 3
   },
   "file_extension": ".py",
   "mimetype": "text/x-python",
   "name": "python",
   "nbconvert_exporter": "python",
   "pygments_lexer": "ipython3",
   "version": "3.10.6"
  }
 },
 "nbformat": 4,
 "nbformat_minor": 5
}
