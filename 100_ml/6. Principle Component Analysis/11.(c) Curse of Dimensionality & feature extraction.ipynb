{
 "cells": [
  {
   "cell_type": "code",
   "execution_count": 1,
   "id": "a0d3a463",
   "metadata": {
    "collapsed": true
   },
   "outputs": [],
   "source": [
    "# In ML feature is called dimension \n",
    "# after some time with the increase of feature, model could not be optimised"
   ]
  },
  {
   "cell_type": "code",
   "execution_count": 2,
   "id": "a86cc360",
   "metadata": {
    "collapsed": true
   },
   "outputs": [],
   "source": [
    "# let n be no. of optimal  features\n",
    "# if my feature m > n then this phenonmen of decrease in optimality with increase of feature\n",
    "# is called curse of dimensionality"
   ]
  },
  {
   "cell_type": "code",
   "execution_count": null,
   "id": "9a765e53",
   "metadata": {},
   "outputs": [],
   "source": [
    "# Example of high dimensional data\n",
    "# image processing, textualdata\n",
    "# Definition: Sparse data\n",
    "#Controlled sparsity occurs when a range of values of one or more dimensions has no data; for example,\n",
    "# a new variable dimensioned by MONTH for which you do not have data for past months. \n",
    "# The cells exist because you have past months in the MONTH dimension, but the data is NA."
   ]
  },
  {
   "cell_type": "code",
   "execution_count": 4,
   "id": "9c0c8d65",
   "metadata": {},
   "outputs": [],
   "source": [
    "# due to increase is dimension data point become sparse or alway from each other"
   ]
  },
  {
   "cell_type": "code",
   "execution_count": 5,
   "id": "77032598",
   "metadata": {},
   "outputs": [],
   "source": [
    "# Solution of sparecity is Called Dimensionality Reduction\n",
    "## Type of Dimensionality Reduction\n",
    "# feature selection ( forward selection, backward selection, Bi-dimensional selection)\n",
    "# feature extraction ( PCA (new feature is linear combination of  old feature), LDA(linear Dimensionality Analysis), TNSE)"
   ]
  },
  {
   "cell_type": "code",
   "execution_count": 1,
   "id": "807c524c",
   "metadata": {},
   "outputs": [],
   "source": [
    "# PCA is unsupervised learning technique\n",
    "# It can reduce the demension of data without extraction of essence of data as much as possible\n",
    "# adv: faster execussion of algo, vistualization(e.g. 10D to 3D)\n",
    "# feature selection: projection mapping where spread is high it axis or columns that columns we are selecting\n",
    "# if spread or projection a is same in both axis, then we apply feature extraction\n",
    "# in situatiuon above the new feature is extracted using both columns above\n",
    "# PCA moves the axis in such a way-that by shifting the relation of columns now the columns become \n",
    "# principle component1 and principle component2, pc1 has more projection dispersion"
   ]
  },
  {
   "cell_type": "code",
   "execution_count": null,
   "id": "da5db4e0",
   "metadata": {
    "collapsed": true
   },
   "outputs": [],
   "source": [
    "# variance or spared of projection on axis(or columns)"
   ]
  },
  {
   "cell_type": "code",
   "execution_count": 2,
   "id": "a20aed51",
   "metadata": {},
   "outputs": [],
   "source": [
    "# u is unit vector\n",
    "# find u s.t. max of (summation sqr(tr(u)xi -tr(u)bar(x)): mathematical objective function"
   ]
  },
  {
   "cell_type": "code",
   "execution_count": 3,
   "id": "75d19365",
   "metadata": {},
   "outputs": [],
   "source": [
    "#Matrix cov(x,y,z) = Vx ,     cor(x,y),  cor(x,z)\n",
    "#                    cor(y,x), Vy    ,   cor(y,z)\n",
    "#                    cor(z,x), cor(z,y), Vz"
   ]
  },
  {
   "cell_type": "code",
   "execution_count": 5,
   "id": "8f4fba09",
   "metadata": {},
   "outputs": [],
   "source": [
    "# Matrices are linear transformation \n",
    "# linear transformation changes span or direction and magnitude of the vector\n",
    "# idendity vector doers not chandes after transformation"
   ]
  },
  {
   "cell_type": "code",
   "execution_count": 8,
   "id": "8ecfcec5",
   "metadata": {},
   "outputs": [],
   "source": [
    "# GeoGebra\n",
    "# Eigen vector are special vectors does not changes its dircection after transformation \n",
    "# Eigen values is magnitude of vecor after transformation\n",
    "# Av=lamda*v\n",
    "# A = matrix\n",
    "# v = eigen vector\n",
    "#lamda = eigen values"
   ]
  },
  {
   "cell_type": "code",
   "execution_count": 10,
   "id": "c33a6267",
   "metadata": {},
   "outputs": [],
   "source": [
    "### How Eigen vector help in PCA\n",
    "# We need to find a unit vector that maxizes the variance of the data point\n",
    "# In other words larges eigen vectors of the covarince matrix allows point to the direction of larges variance of the data"
   ]
  },
  {
   "cell_type": "code",
   "execution_count": null,
   "id": "1e0a2a67",
   "metadata": {},
   "outputs": [],
   "source": []
  },
  {
   "cell_type": "code",
   "execution_count": null,
   "id": "d0759e7d",
   "metadata": {},
   "outputs": [],
   "source": []
  },
  {
   "cell_type": "code",
   "execution_count": null,
   "id": "8f5aac81",
   "metadata": {},
   "outputs": [],
   "source": []
  },
  {
   "cell_type": "code",
   "execution_count": null,
   "id": "5384816f",
   "metadata": {},
   "outputs": [],
   "source": []
  },
  {
   "cell_type": "code",
   "execution_count": null,
   "id": "4e961e98",
   "metadata": {},
   "outputs": [],
   "source": []
  },
  {
   "cell_type": "code",
   "execution_count": null,
   "id": "7b6db42f",
   "metadata": {
    "collapsed": true
   },
   "outputs": [],
   "source": []
  },
  {
   "cell_type": "code",
   "execution_count": null,
   "id": "1f43b92f",
   "metadata": {
    "collapsed": true
   },
   "outputs": [],
   "source": []
  },
  {
   "cell_type": "code",
   "execution_count": null,
   "id": "7a49424e",
   "metadata": {
    "collapsed": true
   },
   "outputs": [],
   "source": []
  },
  {
   "cell_type": "code",
   "execution_count": null,
   "id": "c8d10f92",
   "metadata": {
    "collapsed": true
   },
   "outputs": [],
   "source": []
  },
  {
   "cell_type": "code",
   "execution_count": null,
   "id": "7d37c4e6",
   "metadata": {
    "collapsed": true
   },
   "outputs": [],
   "source": []
  }
 ],
 "metadata": {
  "celltoolbar": "Raw Cell Format",
  "kernelspec": {
   "display_name": "Python 3 (ipykernel)",
   "language": "python",
   "name": "python3"
  },
  "language_info": {
   "codemirror_mode": {
    "name": "ipython",
    "version": 3
   },
   "file_extension": ".py",
   "mimetype": "text/x-python",
   "name": "python",
   "nbconvert_exporter": "python",
   "pygments_lexer": "ipython3",
   "version": "3.10.6"
  }
 },
 "nbformat": 4,
 "nbformat_minor": 5
}
