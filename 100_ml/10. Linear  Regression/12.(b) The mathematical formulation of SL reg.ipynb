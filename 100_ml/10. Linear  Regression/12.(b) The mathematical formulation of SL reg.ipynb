{
 "cells": [
  {
   "cell_type": "code",
   "execution_count": 1,
   "id": "c32f0235",
   "metadata": {},
   "outputs": [],
   "source": [
    "import pandas as pd\n",
    "import numpy as np\n",
    "import seaborn as sns\n",
    "import matplotlib.pyplot as plt"
   ]
  },
  {
   "cell_type": "code",
   "execution_count": 2,
   "id": "ababa6d0",
   "metadata": {},
   "outputs": [],
   "source": [
    "# How to form m and b\n",
    "# Close form(OLS is used in sklearn or SGDR for gradirnt decent) its used in lower dimension, \n",
    "#non-close form(Gradient decent is approximation formula using differentiation) its used higher dimension"
   ]
  },
  {
   "cell_type": "code",
   "execution_count": 3,
   "id": "a928076b",
   "metadata": {},
   "outputs": [],
   "source": [
    "# b = bar(y) - m* bar(x)\n",
    "# m = sum(xi-br(x))(yi-br(y))/sum(sqr(xi-bar(x))"
   ]
  },
  {
   "cell_type": "code",
   "execution_count": 83,
   "id": "9e4f3bd3",
   "metadata": {},
   "outputs": [],
   "source": [
    "class mylrg:\n",
    "    \n",
    "    def __init__(self):\n",
    "        self.m=None\n",
    "        self.b=None\n",
    "        \n",
    "    def fit(self,X_train,y_train):\n",
    "        \n",
    "        num=0;\n",
    "        dun=0;\n",
    "        for i in range(X_train.shape[0]):\n",
    "            num= num + ((X_train[i]- X_train.mean())*(y_train[i] - y_train.mean()))\n",
    "            dun= dun + (X_train[i]- X_train.mean())*(X_train[i]- X_train.mean())\n",
    "        self.m = num/dun\n",
    "        self.b = y_train.mean() + (self.m * X_train.mean())\n",
    "        print(\"slope\", self.m)\n",
    "        print(\"co-ef\", self.b)\n",
    "        \n",
    "    def predict(self,X_test):\n",
    "        print(\"input\", X_test, \"predicted\")\n",
    "        return self.m * X_test +self.b\n",
    "        "
   ]
  },
  {
   "cell_type": "code",
   "execution_count": 56,
   "id": "19b3f795",
   "metadata": {},
   "outputs": [],
   "source": [
    "import numpy as np\n",
    "import pandas as pd"
   ]
  },
  {
   "cell_type": "code",
   "execution_count": 57,
   "id": "f86ba03d",
   "metadata": {},
   "outputs": [],
   "source": [
    "df = pd.read_csv(\"placement1.csv\")"
   ]
  },
  {
   "cell_type": "code",
   "execution_count": 84,
   "id": "a81eee62",
   "metadata": {},
   "outputs": [],
   "source": [
    "X = df.iloc[:,0].values\n",
    "y = df.iloc[:,1].values"
   ]
  },
  {
   "cell_type": "code",
   "execution_count": 85,
   "id": "0f1f7b98",
   "metadata": {},
   "outputs": [],
   "source": [
    "from sklearn.model_selection import train_test_split\n",
    "X_train, X_test, y_train, y_test = train_test_split(X,y,test_size=0.2, random_state=2) "
   ]
  },
  {
   "cell_type": "code",
   "execution_count": 86,
   "id": "ad978ddb",
   "metadata": {},
   "outputs": [],
   "source": [
    "lr = mylrg()"
   ]
  },
  {
   "cell_type": "code",
   "execution_count": 87,
   "id": "eea74d6e",
   "metadata": {},
   "outputs": [
    {
     "name": "stdout",
     "output_type": "stream",
     "text": [
      "slope 0.5579519734250721\n",
      "co-ef 6.9039869222429155\n"
     ]
    }
   ],
   "source": [
    "lr.fit(X_train, y_train)"
   ]
  },
  {
   "cell_type": "code",
   "execution_count": 88,
   "id": "1e36a4f7",
   "metadata": {},
   "outputs": [
    {
     "data": {
      "text/plain": [
       "160"
      ]
     },
     "execution_count": 88,
     "metadata": {},
     "output_type": "execute_result"
    }
   ],
   "source": [
    "X_train.shape[0]"
   ]
  },
  {
   "cell_type": "code",
   "execution_count": 89,
   "id": "58c38493",
   "metadata": {},
   "outputs": [
    {
     "name": "stdout",
     "output_type": "stream",
     "text": [
      "input 8.58 predicted\n",
      "11.691214854230033\n"
     ]
    }
   ],
   "source": [
    "print(lr.predict(X_test[0]))"
   ]
  },
  {
   "cell_type": "code",
   "execution_count": null,
   "id": "e7628122",
   "metadata": {},
   "outputs": [],
   "source": []
  },
  {
   "cell_type": "code",
   "execution_count": null,
   "id": "2c720253",
   "metadata": {},
   "outputs": [],
   "source": []
  },
  {
   "cell_type": "code",
   "execution_count": null,
   "id": "574953dc",
   "metadata": {},
   "outputs": [],
   "source": []
  },
  {
   "cell_type": "code",
   "execution_count": null,
   "id": "21b89570",
   "metadata": {},
   "outputs": [],
   "source": []
  },
  {
   "cell_type": "code",
   "execution_count": null,
   "id": "677e82f3",
   "metadata": {},
   "outputs": [],
   "source": []
  },
  {
   "cell_type": "code",
   "execution_count": null,
   "id": "546c60af",
   "metadata": {},
   "outputs": [],
   "source": []
  },
  {
   "cell_type": "code",
   "execution_count": null,
   "id": "90255309",
   "metadata": {},
   "outputs": [],
   "source": []
  },
  {
   "cell_type": "code",
   "execution_count": null,
   "id": "6e3e5487",
   "metadata": {},
   "outputs": [],
   "source": []
  },
  {
   "cell_type": "code",
   "execution_count": null,
   "id": "fd05d2ee",
   "metadata": {},
   "outputs": [],
   "source": []
  },
  {
   "cell_type": "code",
   "execution_count": null,
   "id": "bf087dd0",
   "metadata": {},
   "outputs": [],
   "source": []
  },
  {
   "cell_type": "code",
   "execution_count": null,
   "id": "7f9c59f2",
   "metadata": {},
   "outputs": [],
   "source": []
  },
  {
   "cell_type": "code",
   "execution_count": null,
   "id": "97a194dc",
   "metadata": {},
   "outputs": [],
   "source": []
  },
  {
   "cell_type": "code",
   "execution_count": null,
   "id": "8f7c2238",
   "metadata": {},
   "outputs": [],
   "source": []
  },
  {
   "cell_type": "code",
   "execution_count": null,
   "id": "c5a2c198",
   "metadata": {},
   "outputs": [],
   "source": []
  },
  {
   "cell_type": "code",
   "execution_count": null,
   "id": "da24ef20",
   "metadata": {},
   "outputs": [],
   "source": []
  },
  {
   "cell_type": "code",
   "execution_count": null,
   "id": "fce93ed5",
   "metadata": {},
   "outputs": [],
   "source": []
  }
 ],
 "metadata": {
  "kernelspec": {
   "display_name": "Python 3 (ipykernel)",
   "language": "python",
   "name": "python3"
  },
  "language_info": {
   "codemirror_mode": {
    "name": "ipython",
    "version": 3
   },
   "file_extension": ".py",
   "mimetype": "text/x-python",
   "name": "python",
   "nbconvert_exporter": "python",
   "pygments_lexer": "ipython3",
   "version": "3.10.6"
  }
 },
 "nbformat": 4,
 "nbformat_minor": 5
}
