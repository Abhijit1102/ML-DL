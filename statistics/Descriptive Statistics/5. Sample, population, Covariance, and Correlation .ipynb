{
 "cells": [
  {
   "cell_type": "markdown",
   "id": "55f5cad8",
   "metadata": {},
   "source": [
    "## Popluation & Sample\n",
    "- Its collection of all items of interest to out study( N : paramters)\n",
    "     - Population are hard to define and to observe in real life\n",
    "- A Sample is a subset of population (n :statistcs)\n",
    "     - Salient characteristics of Sample:\n",
    "          - Easier to contact\n",
    "          - less time consuming\n",
    "          - less costly\n",
    "\n",
    "**Time and resources are main resoans we prefer to sample in compare to analysis entire populations**\n",
    "\n",
    "**`Sample` is must be random, reprentative of population**\n",
    "\n",
    "- A random sample is collected when each member is choosen strickly by chance from population.\n",
    "- In statistics, a representative sample is a subset of a population that accurately reflects the characteristics of the entire population. The idea is that if you select a representative sample, you can make inferences about the population based on the characteristics of the sample."
   ]
  },
  {
   "cell_type": "markdown",
   "id": "6201e004",
   "metadata": {},
   "source": [
    "**Why we choose sample over population**\n",
    "- Cost: Collecting data from a large population can be expensive, time-consuming, and resource-intensive. Sampling allows researchers to study a smaller, more manageable subset of the population, reducing the cost and effort involved in collecting data.\n",
    "\n",
    "- Time: Collecting data from an entire population can also take a long time, especially if the population is large or spread out over a large geographical area. Sampling allows researchers to collect data more quickly, so that they can make quicker decisions or take action based on their findings.\n",
    "\n",
    "- Feasibility: In some cases, it may be impossible or unethical to collect data from the entire population. For example, if the population includes sensitive information or is difficult to access, researchers may need to use sampling techniques to collect data.\n",
    "\n",
    "- Accurate results: A well-designed sample can still provide accurate results that are representative of the entire population. This is because, when properly designed, samples can be selected in a way that minimizes the chance of bias and maximizes the chances of getting a good representation of the population.\n",
    "\n",
    "- Overall, choosing to study a sample instead of the entire population can be a practical and effective way to gather information about a population and make inferences about it. However, it's important to ensure that the sample is representative of the population, so that the results obtained from the sample can be extrapolated to the population as a whole."
   ]
  },
  {
   "cell_type": "markdown",
   "id": "b78bfdb8",
   "metadata": {},
   "source": [
    "**Covariance** is a measure of the association between two random variables. It provides information about the direction and strength of the relationship between two variables, and it's often used to describe the spread or dispersion of a set of data points. The covariance between two variables is calculated as the average of the products of the deviations of each variable from its mean. A positive covariance means that the variables tend to move in the same direction, while a negative covariance means that they tend to move in opposite directions. If the covariance is zero, it means that there is no linear relationship between the variables.\n",
    "\n",
    "- The main idea of `Covariance` is that it can classify three types of relationships.\n",
    "    - Relationship with positive trends\n",
    "    - Relationship with negative trends\n",
    "    - Times when there is no relationship because there is no trends\n",
    "    \n",
    "**Covariance is a computational steopping stone to something that is interesting, like correlation.**    \n",
    "\n",
    "$$\\text{Cov}(X, Y) = \\frac{\\sum_{i=1}^{n} (x_i - \\bar{x})(y_i - \\bar{y})}{n-1}\n",
    "$$\n",
    "    \n",
    "- The covariance value does not tell us if the slope of the linew representing the relationship is steep or not steep.\n",
    "\n",
    "- The covariance value doesn't tell about is points are relatively close to the dotted line.\n",
    "\n",
    "**- Slope of covariance is very hard to interpretate**\n",
    "- Even though Covariance is hard to interpretat, it is a commputational stepping stone to more interesting things.\n",
    "\n",
    "- Covariance values are sensitive to the scale of the data, and this makes them difficult to interpret.\n",
    "\n",
    "- Covariance values were used for Principal Component Analysis(PCA)\n",
    "\n",
    "- **Covariance** describe relationship and is not sensitive to the scale of the data.\n"
   ]
  },
  {
   "cell_type": "markdown",
   "id": "6e33f241",
   "metadata": {},
   "source": [
    "## Correlation"
   ]
  },
  {
   "cell_type": "markdown",
   "id": "b93f1a4a",
   "metadata": {},
   "source": [
    "Correlation is a statistical measure that indicates the extent to which two or more variables are related. It can be used to determine if a relationship exists between two variables and if so, the strength and direction of the relationship. The most commonly used measure of correlation is Pearson's correlation coefficient, which ranges from -1 to 1. A value of -1 indicates a strong negative correlation, meaning that as one variable increases, the other decreases. A value of 1 indicates a strong positive correlation, meaning that as one variable increases, the other also increases. A value of 0 indicates no correlation, meaning there is no relationship between the variables.\n",
    "\n",
    "It's important to note that correlation does not imply causality, meaning that just because two variables are correlated does not mean that one causes the other. It is possible that a third variable could be causing the relationship between the two variables being analyzed. Further investigation is often required to determine causality."
   ]
  },
  {
   "cell_type": "markdown",
   "id": "8b2c7fef",
   "metadata": {},
   "source": [
    "**Maximum Value of Corelation is 1**\n",
    "- Correlation does not depend on scale of data\n",
    "\n",
    "$$ r = \\frac{\\sum_{i=1}^{n} (x_i - \\bar{x})(y_i - \\bar{y})}{\\sqrt{\\sum_{i=1}^{n} (x_i - \\bar{x})^2} \\sqrt{\\sum_{i=1}^{n} (y_i - \\bar{y})^2}}\n",
    " $$\n",
    " \n",
    "Here, n is the number of data points,$x_i$ and $y_i$ are the individual data points for the two variables, $\\bar{x}$ and $\\bar{y}$ are the means of the two variables, and r is the Pearson's correlation coefficient.\n",
    "\n",
    "**For correlation**, a p-value tells us the probability that rancomly drawn dots will result in a similarly strong relationship, or strong.\n",
    "\n",
    "- The maximum value for coppelation, 1 occurs whenever you can draw a straight line with a positive slope that goes throught all of the data and our confidence is how useful the relationship is depends on how much data we have.\n",
    " \n",
    "- Our confidence in our inferences depends on the amount of data we collected and the p-value.\n",
    "\n",
    "- The smaller the p-value , the more confidence we can have in the guesses we make.\n",
    " \n",
    "**Correlation measure how the data points are having linear relationship but $R^2$ is that it can quatify relationship that are more complicated than simple straight lines.**\n",
    "\n",
    "- Correlation quantifies the strenght of relationships : Moderate Relationship means Moderate Correlation Value and viz."
   ]
  },
  {
   "cell_type": "code",
   "execution_count": null,
   "id": "2a50ee7d",
   "metadata": {},
   "outputs": [],
   "source": []
  },
  {
   "cell_type": "code",
   "execution_count": null,
   "id": "2c021b8d",
   "metadata": {},
   "outputs": [],
   "source": []
  },
  {
   "cell_type": "code",
   "execution_count": null,
   "id": "947694d8",
   "metadata": {},
   "outputs": [],
   "source": []
  },
  {
   "cell_type": "code",
   "execution_count": null,
   "id": "172875df",
   "metadata": {},
   "outputs": [],
   "source": []
  },
  {
   "cell_type": "code",
   "execution_count": null,
   "id": "f6042c62",
   "metadata": {},
   "outputs": [],
   "source": []
  },
  {
   "cell_type": "code",
   "execution_count": null,
   "id": "65a406b5",
   "metadata": {},
   "outputs": [],
   "source": []
  },
  {
   "cell_type": "code",
   "execution_count": null,
   "id": "ca490472",
   "metadata": {},
   "outputs": [],
   "source": []
  }
 ],
 "metadata": {
  "kernelspec": {
   "display_name": "Python 3 (ipykernel)",
   "language": "python",
   "name": "python3"
  },
  "language_info": {
   "codemirror_mode": {
    "name": "ipython",
    "version": 3
   },
   "file_extension": ".py",
   "mimetype": "text/x-python",
   "name": "python",
   "nbconvert_exporter": "python",
   "pygments_lexer": "ipython3",
   "version": "3.10.9"
  }
 },
 "nbformat": 4,
 "nbformat_minor": 5
}
