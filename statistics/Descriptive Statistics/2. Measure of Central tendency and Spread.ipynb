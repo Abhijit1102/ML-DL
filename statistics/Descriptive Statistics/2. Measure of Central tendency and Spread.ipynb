{
 "cells": [
  {
   "cell_type": "markdown",
   "id": "f38b8362",
   "metadata": {},
   "source": [
    "# Descriptive Statistics\n",
    "- Vistualization Technique\n",
    "- Measure of Central Tendency\n",
    "- Measure of spread\n",
    "- Covarience and Correlation"
   ]
  },
  {
   "cell_type": "code",
   "execution_count": 1,
   "id": "cecb8b90",
   "metadata": {},
   "outputs": [],
   "source": [
    "import numpy as np\n",
    "import pandas as pd\n",
    "import matplotlib.pyplot as plt\n",
    "import seaborn as sns"
   ]
  },
  {
   "cell_type": "code",
   "execution_count": 2,
   "id": "2a1f49da",
   "metadata": {},
   "outputs": [
    {
     "data": {
      "text/html": [
       "<div>\n",
       "<style scoped>\n",
       "    .dataframe tbody tr th:only-of-type {\n",
       "        vertical-align: middle;\n",
       "    }\n",
       "\n",
       "    .dataframe tbody tr th {\n",
       "        vertical-align: top;\n",
       "    }\n",
       "\n",
       "    .dataframe thead th {\n",
       "        text-align: right;\n",
       "    }\n",
       "</style>\n",
       "<table border=\"1\" class=\"dataframe\">\n",
       "  <thead>\n",
       "    <tr style=\"text-align: right;\">\n",
       "      <th></th>\n",
       "      <th>Id</th>\n",
       "      <th>SepalLengthCm</th>\n",
       "      <th>SepalWidthCm</th>\n",
       "      <th>PetalLengthCm</th>\n",
       "      <th>PetalWidthCm</th>\n",
       "      <th>Species</th>\n",
       "    </tr>\n",
       "  </thead>\n",
       "  <tbody>\n",
       "    <tr>\n",
       "      <th>0</th>\n",
       "      <td>1</td>\n",
       "      <td>5.1</td>\n",
       "      <td>3.5</td>\n",
       "      <td>1.4</td>\n",
       "      <td>0.2</td>\n",
       "      <td>Iris-setosa</td>\n",
       "    </tr>\n",
       "    <tr>\n",
       "      <th>1</th>\n",
       "      <td>2</td>\n",
       "      <td>4.9</td>\n",
       "      <td>3.0</td>\n",
       "      <td>1.4</td>\n",
       "      <td>0.2</td>\n",
       "      <td>Iris-setosa</td>\n",
       "    </tr>\n",
       "    <tr>\n",
       "      <th>2</th>\n",
       "      <td>3</td>\n",
       "      <td>4.7</td>\n",
       "      <td>3.2</td>\n",
       "      <td>1.3</td>\n",
       "      <td>0.2</td>\n",
       "      <td>Iris-setosa</td>\n",
       "    </tr>\n",
       "    <tr>\n",
       "      <th>3</th>\n",
       "      <td>4</td>\n",
       "      <td>4.6</td>\n",
       "      <td>3.1</td>\n",
       "      <td>1.5</td>\n",
       "      <td>0.2</td>\n",
       "      <td>Iris-setosa</td>\n",
       "    </tr>\n",
       "    <tr>\n",
       "      <th>4</th>\n",
       "      <td>5</td>\n",
       "      <td>5.0</td>\n",
       "      <td>3.6</td>\n",
       "      <td>1.4</td>\n",
       "      <td>0.2</td>\n",
       "      <td>Iris-setosa</td>\n",
       "    </tr>\n",
       "  </tbody>\n",
       "</table>\n",
       "</div>"
      ],
      "text/plain": [
       "   Id  SepalLengthCm  SepalWidthCm  PetalLengthCm  PetalWidthCm      Species\n",
       "0   1            5.1           3.5            1.4           0.2  Iris-setosa\n",
       "1   2            4.9           3.0            1.4           0.2  Iris-setosa\n",
       "2   3            4.7           3.2            1.3           0.2  Iris-setosa\n",
       "3   4            4.6           3.1            1.5           0.2  Iris-setosa\n",
       "4   5            5.0           3.6            1.4           0.2  Iris-setosa"
      ]
     },
     "execution_count": 2,
     "metadata": {},
     "output_type": "execute_result"
    }
   ],
   "source": [
    "df = pd.read_csv(\"Iris.csv\")\n",
    "df.head()"
   ]
  },
  {
   "cell_type": "code",
   "execution_count": 32,
   "id": "19829c4f",
   "metadata": {},
   "outputs": [
    {
     "data": {
      "text/plain": [
       "Index(['Id', 'SepalLengthCm', 'SepalWidthCm', 'PetalLengthCm', 'PetalWidthCm',\n",
       "       'Species'],\n",
       "      dtype='object')"
      ]
     },
     "execution_count": 32,
     "metadata": {},
     "output_type": "execute_result"
    }
   ],
   "source": [
    "df.columns"
   ]
  },
  {
   "cell_type": "code",
   "execution_count": 3,
   "id": "5bd0dc4c",
   "metadata": {},
   "outputs": [],
   "source": [
    "df.rename(columns={'SepalLengthCm':'SL', 'SepalWidthCm':'SW', 'PetalLengthCm':'PL', 'PetalWidthCm':'PW',\n",
    "       'Species':'S'}, inplace=True)"
   ]
  },
  {
   "cell_type": "code",
   "execution_count": 4,
   "id": "57e44582",
   "metadata": {},
   "outputs": [
    {
     "data": {
      "text/html": [
       "<div>\n",
       "<style scoped>\n",
       "    .dataframe tbody tr th:only-of-type {\n",
       "        vertical-align: middle;\n",
       "    }\n",
       "\n",
       "    .dataframe tbody tr th {\n",
       "        vertical-align: top;\n",
       "    }\n",
       "\n",
       "    .dataframe thead th {\n",
       "        text-align: right;\n",
       "    }\n",
       "</style>\n",
       "<table border=\"1\" class=\"dataframe\">\n",
       "  <thead>\n",
       "    <tr style=\"text-align: right;\">\n",
       "      <th></th>\n",
       "      <th>Id</th>\n",
       "      <th>SL</th>\n",
       "      <th>SW</th>\n",
       "      <th>PL</th>\n",
       "      <th>PW</th>\n",
       "      <th>S</th>\n",
       "    </tr>\n",
       "  </thead>\n",
       "  <tbody>\n",
       "    <tr>\n",
       "      <th>0</th>\n",
       "      <td>1</td>\n",
       "      <td>5.1</td>\n",
       "      <td>3.5</td>\n",
       "      <td>1.4</td>\n",
       "      <td>0.2</td>\n",
       "      <td>Iris-setosa</td>\n",
       "    </tr>\n",
       "    <tr>\n",
       "      <th>1</th>\n",
       "      <td>2</td>\n",
       "      <td>4.9</td>\n",
       "      <td>3.0</td>\n",
       "      <td>1.4</td>\n",
       "      <td>0.2</td>\n",
       "      <td>Iris-setosa</td>\n",
       "    </tr>\n",
       "    <tr>\n",
       "      <th>2</th>\n",
       "      <td>3</td>\n",
       "      <td>4.7</td>\n",
       "      <td>3.2</td>\n",
       "      <td>1.3</td>\n",
       "      <td>0.2</td>\n",
       "      <td>Iris-setosa</td>\n",
       "    </tr>\n",
       "    <tr>\n",
       "      <th>3</th>\n",
       "      <td>4</td>\n",
       "      <td>4.6</td>\n",
       "      <td>3.1</td>\n",
       "      <td>1.5</td>\n",
       "      <td>0.2</td>\n",
       "      <td>Iris-setosa</td>\n",
       "    </tr>\n",
       "    <tr>\n",
       "      <th>4</th>\n",
       "      <td>5</td>\n",
       "      <td>5.0</td>\n",
       "      <td>3.6</td>\n",
       "      <td>1.4</td>\n",
       "      <td>0.2</td>\n",
       "      <td>Iris-setosa</td>\n",
       "    </tr>\n",
       "  </tbody>\n",
       "</table>\n",
       "</div>"
      ],
      "text/plain": [
       "   Id   SL   SW   PL   PW            S\n",
       "0   1  5.1  3.5  1.4  0.2  Iris-setosa\n",
       "1   2  4.9  3.0  1.4  0.2  Iris-setosa\n",
       "2   3  4.7  3.2  1.3  0.2  Iris-setosa\n",
       "3   4  4.6  3.1  1.5  0.2  Iris-setosa\n",
       "4   5  5.0  3.6  1.4  0.2  Iris-setosa"
      ]
     },
     "execution_count": 4,
     "metadata": {},
     "output_type": "execute_result"
    }
   ],
   "source": [
    "df.head()"
   ]
  },
  {
   "cell_type": "code",
   "execution_count": 35,
   "id": "15696b1b",
   "metadata": {},
   "outputs": [
    {
     "data": {
      "text/html": [
       "<div>\n",
       "<style scoped>\n",
       "    .dataframe tbody tr th:only-of-type {\n",
       "        vertical-align: middle;\n",
       "    }\n",
       "\n",
       "    .dataframe tbody tr th {\n",
       "        vertical-align: top;\n",
       "    }\n",
       "\n",
       "    .dataframe thead th {\n",
       "        text-align: right;\n",
       "    }\n",
       "</style>\n",
       "<table border=\"1\" class=\"dataframe\">\n",
       "  <thead>\n",
       "    <tr style=\"text-align: right;\">\n",
       "      <th></th>\n",
       "      <th>Id</th>\n",
       "      <th>SL</th>\n",
       "      <th>SW</th>\n",
       "      <th>PL</th>\n",
       "      <th>PW</th>\n",
       "      <th>S</th>\n",
       "    </tr>\n",
       "  </thead>\n",
       "  <tbody>\n",
       "    <tr>\n",
       "      <th>149</th>\n",
       "      <td>150</td>\n",
       "      <td>5.9</td>\n",
       "      <td>3.0</td>\n",
       "      <td>5.1</td>\n",
       "      <td>1.8</td>\n",
       "      <td>Iris-virginica</td>\n",
       "    </tr>\n",
       "    <tr>\n",
       "      <th>143</th>\n",
       "      <td>144</td>\n",
       "      <td>6.8</td>\n",
       "      <td>3.2</td>\n",
       "      <td>5.9</td>\n",
       "      <td>2.3</td>\n",
       "      <td>Iris-virginica</td>\n",
       "    </tr>\n",
       "    <tr>\n",
       "      <th>55</th>\n",
       "      <td>56</td>\n",
       "      <td>5.7</td>\n",
       "      <td>2.8</td>\n",
       "      <td>4.5</td>\n",
       "      <td>1.3</td>\n",
       "      <td>Iris-versicolor</td>\n",
       "    </tr>\n",
       "    <tr>\n",
       "      <th>96</th>\n",
       "      <td>97</td>\n",
       "      <td>5.7</td>\n",
       "      <td>2.9</td>\n",
       "      <td>4.2</td>\n",
       "      <td>1.3</td>\n",
       "      <td>Iris-versicolor</td>\n",
       "    </tr>\n",
       "    <tr>\n",
       "      <th>138</th>\n",
       "      <td>139</td>\n",
       "      <td>6.0</td>\n",
       "      <td>3.0</td>\n",
       "      <td>4.8</td>\n",
       "      <td>1.8</td>\n",
       "      <td>Iris-virginica</td>\n",
       "    </tr>\n",
       "  </tbody>\n",
       "</table>\n",
       "</div>"
      ],
      "text/plain": [
       "      Id   SL   SW   PL   PW                S\n",
       "149  150  5.9  3.0  5.1  1.8   Iris-virginica\n",
       "143  144  6.8  3.2  5.9  2.3   Iris-virginica\n",
       "55    56  5.7  2.8  4.5  1.3  Iris-versicolor\n",
       "96    97  5.7  2.9  4.2  1.3  Iris-versicolor\n",
       "138  139  6.0  3.0  4.8  1.8   Iris-virginica"
      ]
     },
     "execution_count": 35,
     "metadata": {},
     "output_type": "execute_result"
    }
   ],
   "source": [
    "df.sample(5)"
   ]
  },
  {
   "cell_type": "code",
   "execution_count": 5,
   "id": "a94d4254",
   "metadata": {},
   "outputs": [
    {
     "data": {
      "text/plain": [
       "Iris-setosa        50\n",
       "Iris-versicolor    50\n",
       "Iris-virginica     50\n",
       "Name: S, dtype: int64"
      ]
     },
     "execution_count": 5,
     "metadata": {},
     "output_type": "execute_result"
    }
   ],
   "source": [
    "df['S'].value_counts()"
   ]
  },
  {
   "cell_type": "code",
   "execution_count": 6,
   "id": "1f1e89aa",
   "metadata": {},
   "outputs": [],
   "source": [
    "Iris_setosa     =  df[df['S']==\"Iris-setosa\"]\n",
    "Iris_versicolor =  df[df['S']=='Iris-versicolor']\n",
    "Iris_virginica  =  df[df['S']=='Iris-virginica']"
   ]
  },
  {
   "cell_type": "markdown",
   "id": "691e001d",
   "metadata": {},
   "source": [
    "## 1.a Mean\n",
    "<img src=\"https://www.onlinemathlearning.com/image-files/population-mean.png\">"
   ]
  },
  {
   "cell_type": "code",
   "execution_count": 38,
   "id": "ef53d2b6",
   "metadata": {},
   "outputs": [
    {
     "name": "stdout",
     "output_type": "stream",
     "text": [
      "3.418\n",
      "2.7700000000000005\n",
      "2.974\n"
     ]
    }
   ],
   "source": [
    "# sepal width\n",
    "print(np.mean(Iris_setosa[\"SW\"]))\n",
    "print(np.mean(Iris_versicolor[\"SW\"]))\n",
    "print(np.mean(Iris_virginica[\"SW\"]))"
   ]
  },
  {
   "cell_type": "code",
   "execution_count": 39,
   "id": "380e7c81",
   "metadata": {},
   "outputs": [
    {
     "name": "stdout",
     "output_type": "stream",
     "text": [
      "5.006\n",
      "5.936\n",
      "6.587999999999998\n"
     ]
    }
   ],
   "source": [
    "# sepal Lengh\n",
    "print(np.mean(Iris_setosa[\"SL\"]))\n",
    "print(np.mean(Iris_versicolor[\"SL\"]))\n",
    "print(np.mean(Iris_virginica[\"SL\"]))"
   ]
  },
  {
   "cell_type": "markdown",
   "id": "540ac2a0",
   "metadata": {},
   "source": [
    "## The problem of Ouliers"
   ]
  },
  {
   "cell_type": "code",
   "execution_count": 7,
   "id": "c9a0cb14",
   "metadata": {},
   "outputs": [
    {
     "data": {
      "text/plain": [
       "(array([ 1.,  1.,  2.,  7., 12., 14.,  7.,  4.,  0.,  2.]),\n",
       " array([1.  , 1.09, 1.18, 1.27, 1.36, 1.45, 1.54, 1.63, 1.72, 1.81, 1.9 ]),\n",
       " <BarContainer object of 10 artists>)"
      ]
     },
     "execution_count": 7,
     "metadata": {},
     "output_type": "execute_result"
    },
    {
     "data": {
      "image/png": "[encoded data removed]",
      "text/plain": [
       "<Figure size 640x480 with 1 Axes>"
      ]
     },
     "metadata": {},
     "output_type": "display_data"
    }
   ],
   "source": [
    "plt.hist(Iris_setosa[\"PL\"])"
   ]
  },
  {
   "cell_type": "code",
   "execution_count": 57,
   "id": "62fca596",
   "metadata": {},
   "outputs": [
    {
     "name": "stdout",
     "output_type": "stream",
     "text": [
      "1.464\n",
      "2.4156862745098038\n"
     ]
    }
   ],
   "source": [
    "print(np.mean(Iris_setosa[\"PL\"]))\n",
    "print(np.mean(np.append(Iris_setosa[\"PL\"],50)))\n",
    "\n",
    "# The problem with mean is that it will skrew your data towards outliers"
   ]
  },
  {
   "cell_type": "markdown",
   "id": "7f125b43",
   "metadata": {},
   "source": [
    "# 2. Median"
   ]
  },
  {
   "cell_type": "code",
   "execution_count": 53,
   "id": "70f56f44",
   "metadata": {},
   "outputs": [
    {
     "name": "stdout",
     "output_type": "stream",
     "text": [
      "1.5\n",
      "4.35\n",
      "5.55\n"
     ]
    }
   ],
   "source": [
    "# sepal width\n",
    "print(np.median(Iris_setosa[\"PL\"]))\n",
    "print(np.median(Iris_versicolor[\"PL\"]))\n",
    "print(np.median(Iris_virginica[\"PL\"]))"
   ]
  },
  {
   "cell_type": "code",
   "execution_count": 59,
   "id": "b8a253ec",
   "metadata": {},
   "outputs": [
    {
     "name": "stdout",
     "output_type": "stream",
     "text": [
      "1.5\n",
      "1.5\n"
     ]
    }
   ],
   "source": [
    "# The good thing about median\n",
    "print(np.median(Iris_setosa[\"PL\"]))\n",
    "print(np.median(np.append(Iris_setosa[\"PL\"],50)) )\n",
    "\n",
    "# The problem with mean is that it will skrew your data towards outliers"
   ]
  },
  {
   "cell_type": "markdown",
   "id": "a9685c62",
   "metadata": {},
   "source": [
    "# Mode"
   ]
  },
  {
   "cell_type": "code",
   "execution_count": 64,
   "id": "18b21bb3",
   "metadata": {},
   "outputs": [
    {
     "name": "stdout",
     "output_type": "stream",
     "text": [
      "ModeResult(mode=array([1.5]), count=array([14]))\n",
      "ModeResult(mode=array([4.5]), count=array([7]))\n",
      "ModeResult(mode=array([5.1]), count=array([7]))\n"
     ]
    }
   ],
   "source": [
    "from scipy import stats\n",
    "\n",
    "print(stats.mode(Iris_setosa[\"PL\"]))\n",
    "print(stats.mode(Iris_versicolor[\"PL\"]))\n",
    "print(stats.mode(Iris_virginica[\"PL\"]))"
   ]
  },
  {
   "cell_type": "markdown",
   "id": "241d4b89",
   "metadata": {},
   "source": [
    "# Measue of Central tendency\n",
    "\n",
    "### Measure of spread gives us an idea of how much the datais spread or varying. Some important measures of spread are:\n",
    "\n",
    "### 1. Range\n",
    "### 2. Interquartile Range (IQR)\n",
    "### 3. Variance\n",
    "### 4. Standard deviation"
   ]
  },
  {
   "cell_type": "markdown",
   "id": "cba48d5d",
   "metadata": {},
   "source": [
    "# 1. Range\n",
    "### The range describes the difference between the largest and smallest points in your data."
   ]
  },
  {
   "cell_type": "code",
   "execution_count": 8,
   "id": "10b2ddce",
   "metadata": {},
   "outputs": [
    {
     "name": "stdout",
     "output_type": "stream",
     "text": [
      "The range is 0.8999999999999999\n"
     ]
    }
   ],
   "source": [
    "r = np.max(Iris_setosa['PL']) -  np.min(Iris_setosa[\"PL\"])\n",
    "print(\"The range is\",r)"
   ]
  },
  {
   "cell_type": "markdown",
   "id": "eb67ee64",
   "metadata": {},
   "source": [
    "## 2. Percentile\n",
    "A Percentile is measure used il statistics indicating the value below which a given percentage of observation is group of observations my be found."
   ]
  },
  {
   "cell_type": "code",
   "execution_count": 13,
   "id": "eb015e7a",
   "metadata": {},
   "outputs": [
    {
     "name": "stdout",
     "output_type": "stream",
     "text": [
      "2.25\n",
      "4.5\n",
      "8.1\n"
     ]
    }
   ],
   "source": [
    "mylist=[0,1,2,3,4,5,6,7,8,9]\n",
    "\n",
    "print(np.percentile(mylist, 25))\n",
    "print(np.percentile(mylist, 50))\n",
    "print(np.percentile(mylist, 90))"
   ]
  },
  {
   "cell_type": "code",
   "execution_count": 15,
   "id": "8d1f3ab3",
   "metadata": {},
   "outputs": [
    {
     "data": {
      "text/plain": [
       "1.7"
      ]
     },
     "execution_count": 15,
     "metadata": {},
     "output_type": "execute_result"
    }
   ],
   "source": [
    "np.percentile(Iris_setosa[\"PL\"], 95)"
   ]
  },
  {
   "cell_type": "markdown",
   "id": "7d03c847",
   "metadata": {},
   "source": [
    "## 3. Quartiles\n",
    "#### Quartiles are the values that divide a list of number into quaters:\n",
    "\n",
    "- Put the list of number in order\n",
    "- Then cut the list into four equal parts\n",
    "- The Quartiles are at the \"cuts\n"
   ]
  },
  {
   "cell_type": "code",
   "execution_count": 16,
   "id": "0c9236f7",
   "metadata": {},
   "outputs": [
    {
     "name": "stdout",
     "output_type": "stream",
     "text": [
      "2.25\n",
      "4.5\n",
      "6.75\n",
      "9.0\n"
     ]
    }
   ],
   "source": [
    "print(np.percentile(mylist, 25))\n",
    "print(np.percentile(mylist, 50))\n",
    "print(np.percentile(mylist, 75))\n",
    "print(np.percentile(mylist, 100))"
   ]
  },
  {
   "cell_type": "markdown",
   "id": "00d8a4be",
   "metadata": {},
   "source": [
    "### 4. Interquartile Range\n",
    "- The Interquartile Range (IQR) is measure of statistical Dispersion between upper(75th) and lower(25th) quatiles.\n"
   ]
  },
  {
   "cell_type": "code",
   "execution_count": 19,
   "id": "133b92b3",
   "metadata": {},
   "outputs": [
    {
     "name": "stdout",
     "output_type": "stream",
     "text": [
      "The  inter Quartile Range is:  0.17500000000000027\n"
     ]
    }
   ],
   "source": [
    "iqr = np.percentile(Iris_setosa[\"PL\"], 75) - np.percentile(Iris_setosa[\"PL\"], 25)\n",
    "print(\"The  inter Quartile Range is: \" ,iqr)"
   ]
  },
  {
   "cell_type": "markdown",
   "id": "f4c50857",
   "metadata": {},
   "source": [
    "## 5. Mean Absolute Deviation\n",
    "#### The Absolute Deviation from Mean , also called Mean Absolute Deviation (MAD), describe the variation in the data sets. In sense that it tells  the average distance of each data point in the set. \n",
    "- $ mae = (\\frac{1}{n})\\sum_{i=1}^{n}\\left | y_{i} - x_{i} \\right | $"
   ]
  },
  {
   "cell_type": "markdown",
   "id": "447b60a5",
   "metadata": {},
   "source": [
    "# 6.Varinace\n",
    "#### Variance measure how far are data point spread out from the mean.\n",
    "##### The variance is computed by finding the difference between every data point and mean,  squaring them , sunning them up and then taking the average of those numbers.\n",
    "\n",
    "<img src=\"https://i.stack.imgur.com/aYxIa.jpg\">\n",
    "\n",
    "### The problem with variance is not in same unit of measurement as the original data due squaring."
   ]
  },
  {
   "cell_type": "code",
   "execution_count": 9,
   "id": "55076e08",
   "metadata": {},
   "outputs": [
    {
     "data": {
      "text/plain": [
       "0.12176400000000002"
      ]
     },
     "execution_count": 9,
     "metadata": {},
     "output_type": "execute_result"
    }
   ],
   "source": [
    "np.var(Iris_setosa[\"SL\"])"
   ]
  },
  {
   "cell_type": "markdown",
   "id": "27083037",
   "metadata": {},
   "source": [
    "###  7. Variance Vs Mean Absolute Deviation\n",
    "#### Variance is easy to work with in comparisms to MAD as it works on Squaring (a smooth function) the derivation in comparismto MAD where we use modulus . Mathematically smooth function are easier to work in compare to non smooth function.\n",
    "\n",
    "\n",
    "<img src=\"https://unacademy.com/content/wp-content/uploads/sites/2/2022/03/3.1.png\">"
   ]
  },
  {
   "cell_type": "markdown",
   "id": "22a32581",
   "metadata": {},
   "source": [
    "##  8. Standard Deviation\n",
    "#### The square root of Variance is called the Standard Deviation.\n",
    "\n",
    "<img src=\"https://www.k2analytics.co.in/wp-content/uploads/2020/05/standard-deviation.png\">"
   ]
  },
  {
   "cell_type": "markdown",
   "id": "16fd7845",
   "metadata": {},
   "source": [
    "## 9. Meadian Absolute deviation\n",
    "- Its the median os all the number obtained from substracting and calculating the absolute value of every observatiopn with median.\n"
   ]
  },
  {
   "cell_type": "markdown",
   "id": "079e1d8e",
   "metadata": {},
   "source": [
    "### 10. Mean Absolute Deviation is free from the effects of outliers from which standard deviation suffers"
   ]
  },
  {
   "cell_type": "code",
   "execution_count": 14,
   "id": "530504f0",
   "metadata": {},
   "outputs": [
    {
     "ename": "ModuleNotFoundError",
     "evalue": "No module named 'stats.models'; 'stats' is not a package",
     "output_type": "error",
     "traceback": [
      "\u001b[1;31m---------------------------------------------------------------------------\u001b[0m",
      "\u001b[1;31mModuleNotFoundError\u001b[0m                       Traceback (most recent call last)",
      "Cell \u001b[1;32mIn[14], line 1\u001b[0m\n\u001b[1;32m----> 1\u001b[0m \u001b[38;5;28;01mfrom\u001b[39;00m \u001b[38;5;21;01mstats\u001b[39;00m\u001b[38;5;21;01m.\u001b[39;00m\u001b[38;5;21;01mmodels\u001b[39;00m \u001b[38;5;28;01mimport\u001b[39;00m robust\n\u001b[0;32m      2\u001b[0m robust\u001b[38;5;241m.\u001b[39mmad(np\u001b[38;5;241m.\u001b[39marray[\u001b[38;5;241m1\u001b[39m,\u001b[38;5;241m2\u001b[39m,\u001b[38;5;241m3\u001b[39m,\u001b[38;5;241m4\u001b[39m,\u001b[38;5;241m5\u001b[39m,\u001b[38;5;241m6\u001b[39m,\u001b[38;5;241m7\u001b[39m])\n",
      "\u001b[1;31mModuleNotFoundError\u001b[0m: No module named 'stats.models'; 'stats' is not a package"
     ]
    }
   ],
   "source": [
    "from stats.models import robust\n",
    "robust.mad(np.array[1,2,3,4,5,6,7])"
   ]
  },
  {
   "cell_type": "markdown",
   "id": "afb55740",
   "metadata": {},
   "source": [
    "## 11.Boxplot"
   ]
  },
  {
   "cell_type": "code",
   "execution_count": 12,
   "id": "aa6aa583",
   "metadata": {},
   "outputs": [
    {
     "data": {
      "text/plain": [
       "<AxesSubplot: >"
      ]
     },
     "execution_count": 12,
     "metadata": {},
     "output_type": "execute_result"
    },
    {
     "data": {
      "image/png": "[encoded data removed]",
      "text/plain": [
       "<Figure size 640x480 with 1 Axes>"
      ]
     },
     "metadata": {},
     "output_type": "display_data"
    }
   ],
   "source": [
    "sns.boxplot(Iris_setosa[\"PL\"])"
   ]
  },
  {
   "cell_type": "code",
   "execution_count": 17,
   "id": "7d954175",
   "metadata": {},
   "outputs": [
    {
     "data": {
      "text/plain": [
       "<AxesSubplot: xlabel='S', ylabel='SL'>"
      ]
     },
     "execution_count": 17,
     "metadata": {},
     "output_type": "execute_result"
    },
    {
     "data": {
      "image/png": "[encoded data removed]",
      "text/plain": [
       "<Figure size 640x480 with 1 Axes>"
      ]
     },
     "metadata": {},
     "output_type": "display_data"
    }
   ],
   "source": [
    "sns.boxplot(x=\"S\", y=\"SL\", data=df)"
   ]
  },
  {
   "cell_type": "code",
   "execution_count": null,
   "id": "093fe57f",
   "metadata": {},
   "outputs": [],
   "source": []
  },
  {
   "cell_type": "code",
   "execution_count": null,
   "id": "b454f4ef",
   "metadata": {},
   "outputs": [],
   "source": []
  }
 ],
 "metadata": {
  "kernelspec": {
   "display_name": "Python 3 (ipykernel)",
   "language": "python",
   "name": "python3"
  },
  "language_info": {
   "codemirror_mode": {
    "name": "ipython",
    "version": 3
   },
   "file_extension": ".py",
   "mimetype": "text/x-python",
   "name": "python",
   "nbconvert_exporter": "python",
   "pygments_lexer": "ipython3",
   "version": "3.10.9"
  }
 },
 "nbformat": 4,
 "nbformat_minor": 5
}
