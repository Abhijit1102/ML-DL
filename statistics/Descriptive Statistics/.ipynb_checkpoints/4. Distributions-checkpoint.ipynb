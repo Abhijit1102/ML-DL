{
 "cells": [
  {
   "cell_type": "markdown",
   "id": "57c30f25",
   "metadata": {},
   "source": [
    "## Probability Distribution function:\n",
    "- Kernel Density Estimation (KDE) is a non-parametric way of estimating the probability density function (PDF) of a random variable. The idea behind KDE is to smooth the data by fitting a smooth curve to the data points, thereby obtaining an estimate of the underlying PDF. The curve used for smoothing is called the kernel and it is selected based on the specific requirements of the data. The most commonly used kernels are Gaussian, Epanechnikov, and triangular kernels. The resulting estimate from KDE is not a perfect representation of the true PDF, but it is a useful tool for exploring the underlying distribution of the data.\n",
    "- Area of curve of pdf along with x-axis is 1\n",
    "- Normal distribution is also know as Gaussian distribution, Bell curve.\n",
    "     - The normal (or Gaussian) distribution is called the \"bell curve\" because its shape is symmetrical and bell-shaped on a graph. It is also known as a Gaussian distribution because it was first described by mathematician Carl Friedrich Gauss. This distribution is important in statistics and is widely used in many fields such as biology, economics, psychology, and engineering, because many real-world phenomena can be modeled using this distribution.\n",
    "     \n",
    "     "
   ]
  },
  {
   "cell_type": "markdown",
   "id": "b6f955fd",
   "metadata": {},
   "source": [
    "Normal distribution is widely studied in statistics and mathematics due to its important properties and applications. Some of the reasons why normal distribution is studied are:\n",
    "\n",
    "- Central Limit Theorem: The central limit theorem states that the sum of many independent random variables is approximately normally distributed, regardless of the distribution of the individual variables. This is a very important result in statistics and it is used to explain the normal distribution of many real-life phenomena.\n",
    "\n",
    "- Simplicity: Normal distribution has a simple mathematical expression, which makes it easier to work with than other distributions. Also, the standard normal distribution (mean = 0, standard deviation = 1) has a known cumulative distribution function, which is useful for solving problems in probability.\n",
    "\n",
    "- Occurrence in Real-life: Many real-life phenomena such as height, weight, intelligence, etc., are approximately normally distributed, making it a useful model for these data sets.\n",
    "\n",
    "- Convenient for Modeling: Normal distribution is convenient for modeling because it is closed under linear transformations, meaning that the sum of normal distributions is also normally distributed. This property makes it easy to model complex systems."
   ]
  },
  {
   "cell_type": "markdown",
   "id": "fc48915a",
   "metadata": {},
   "source": [
    "## Normal distribution\n",
    "- 1. Mean ($\\mu$)\n",
    "- 2. Variance ($\\sigma^2$)\n",
    "\n",
    "- $$  P(X=x) =  \\frac{1}{\\sigma\\sqrt{2\\pi}} \n",
    "  \\exp\\left( -\\frac{1}{2}\\left(\\frac{x-\\mu}{\\sigma}\\right)^{\\!2}\\,\\right)\n",
    " $$\n",
    "\n",
    "#### properties\n",
    " - Symmetrical\n",
    " - Centre is mean\n",
    " - mean = median = mode\n",
    " - The area under curve is formed area\n",
    " - Emperical low of (68-95-99)%\n",
    "      - (-1 $\\sigma $) to (1 $\\sigma $) = 68%\n",
    "      - (-2 $\\sigma $) to (2 $\\sigma $) = (68+27)% =65%\n",
    "      - (-3 $\\sigma $) to (3 $\\sigma $) = (68+27+4)% = 99%\n",
    " "
   ]
  },
  {
   "cell_type": "code",
   "execution_count": null,
   "id": "1803663e",
   "metadata": {},
   "outputs": [],
   "source": []
  },
  {
   "cell_type": "code",
   "execution_count": null,
   "id": "610ecb69",
   "metadata": {},
   "outputs": [],
   "source": []
  },
  {
   "cell_type": "code",
   "execution_count": null,
   "id": "0c7d37a8",
   "metadata": {},
   "outputs": [],
   "source": []
  }
 ],
 "metadata": {
  "kernelspec": {
   "display_name": "Python 3 (ipykernel)",
   "language": "python",
   "name": "python3"
  },
  "language_info": {
   "codemirror_mode": {
    "name": "ipython",
    "version": 3
   },
   "file_extension": ".py",
   "mimetype": "text/x-python",
   "name": "python",
   "nbconvert_exporter": "python",
   "pygments_lexer": "ipython3",
   "version": "3.10.9"
  }
 },
 "nbformat": 4,
 "nbformat_minor": 5
}
