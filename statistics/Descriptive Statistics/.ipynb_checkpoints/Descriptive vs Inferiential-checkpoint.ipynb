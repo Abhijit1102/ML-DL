{
 "cells": [
  {
   "cell_type": "markdown",
   "id": "82859db7",
   "metadata": {},
   "source": [
    "## Statistics \n",
    "- Statistcs is a branch of mathematics where we collect and analyse data to form a conclusion.\n",
    "\n",
    "**Type of statistics**\n",
    "- Descriptive Statistics (Summary Statistics)\n",
    "    - Mean\n",
    "    - Madain\n",
    "    - Mode\n",
    "    - Standard Deviation\n",
    "    - Variance\n",
    "    - Sample. etc\n",
    "    \n",
    "- Inferential Statistics\n",
    "    - Population ($\\Omega$)\n",
    "    - Sample ($\\omega$)\n",
    "     Properties of Sample:\n",
    "       - Sample should be Random\n",
    "       - sample should be Representative\n",
    "     - Statistics : Metric drawn on Population. Population mean( $\\mu $)\n",
    "     - Parameter : Metrics drawn on Sample. Sample mean ($\\bar x$) \n",
    "     \n",
    "     - Hypothesis testing\n",
    "     - Confidence intervals. etc"
   ]
  },
  {
   "cell_type": "markdown",
   "id": "a5abaca3",
   "metadata": {},
   "source": [
    "## Type of Data\n",
    "- Numerical Data (Quantative Data)\n",
    "    - Continuous Numerical Data\n",
    "    - Discrete Numerical Data\n",
    "    \n",
    "- Catagorical Numerical Data\n",
    "     - Nominal Data (No order e.g : Gender)\n",
    "     - Ordinal Data"
   ]
  },
  {
   "cell_type": "markdown",
   "id": "64cf313a",
   "metadata": {},
   "source": [
    "## Study Types of Data by Graph\n",
    "- Ordinal Data : e.g: Gender(M/F)\n",
    "     - Frequency table (Bar Chart, pie Chart)\n",
    "      \n",
    "-  Numerical Data : e.g : Age [24,14,47,...56]\n",
    "     - Create bins[1-10, 10-20,..90-100] and frequency table -> Histogram(contineous Data) and  Barchart(Discrete)\n",
    "\n",
    "*Univarite and Bivariate.. and Multi  Analysis*\n",
    "- Bivariate Analysis on two contineous Variable( scatterplot)\n",
    "     "
   ]
  },
  {
   "cell_type": "code",
   "execution_count": null,
   "id": "c942350c",
   "metadata": {},
   "outputs": [],
   "source": []
  },
  {
   "cell_type": "code",
   "execution_count": null,
   "id": "640af0bc",
   "metadata": {},
   "outputs": [],
   "source": []
  },
  {
   "cell_type": "code",
   "execution_count": null,
   "id": "5bfa5727",
   "metadata": {},
   "outputs": [],
   "source": []
  },
  {
   "cell_type": "code",
   "execution_count": null,
   "id": "a3042c5d",
   "metadata": {},
   "outputs": [],
   "source": []
  }
 ],
 "metadata": {
  "kernelspec": {
   "display_name": "Python 3 (ipykernel)",
   "language": "python",
   "name": "python3"
  },
  "language_info": {
   "codemirror_mode": {
    "name": "ipython",
    "version": 3
   },
   "file_extension": ".py",
   "mimetype": "text/x-python",
   "name": "python",
   "nbconvert_exporter": "python",
   "pygments_lexer": "ipython3",
   "version": "3.10.9"
  }
 },
 "nbformat": 4,
 "nbformat_minor": 5
}
