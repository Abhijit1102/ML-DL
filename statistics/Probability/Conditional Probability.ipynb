{
 "cells": [
  {
   "cell_type": "markdown",
   "id": "31c3362a",
   "metadata": {},
   "source": [
    "### Conditional Probability\n",
    "Conditional probability is the probability of an event occurring given that another event has already occurred. It is expressed as P(A|B), where A and B are two events and \"|\" represents \"given\". In other words, the conditional probability of event A given event B is the probability that event A will happen, assuming that event B has already happened.\n",
    "\n",
    "The formula for calculating conditional probability is:\n",
    "\n",
    "P(A|B) = P(A and B) / P(B)\n",
    "\n",
    "where P(A and B) is the probability of both events A and B occurring together, and P(B) is the probability of event B occurring.\n",
    "\n",
    "Conditional probability is useful for making predictions about the likelihood of events given that certain conditions are met. For example, the conditional probability of getting a headache given that it is raining could be calculated based on data from previous occurrences. If it is known that the probability of getting a headache on a rainy day is higher than on a sunny day, this information could be used to make a prediction about the likelihood of getting a headache on a particular rainy day.\n",
    "\n",
    "- $ P(A|B) = \\frac{P(A\\cap B )}{P(B)} $\n",
    "- $D_{n,n}$ = {(1,1)(1,2)(1,3)(1,4)...(6.6)}  which is our sample space\n",
    "\n"
   ]
  },
  {
   "cell_type": "code",
   "execution_count": null,
   "id": "2a93525b",
   "metadata": {},
   "outputs": [],
   "source": []
  },
  {
   "cell_type": "code",
   "execution_count": null,
   "id": "1e17af30",
   "metadata": {},
   "outputs": [],
   "source": []
  },
  {
   "cell_type": "code",
   "execution_count": null,
   "id": "a0a122df",
   "metadata": {},
   "outputs": [],
   "source": []
  },
  {
   "cell_type": "code",
   "execution_count": null,
   "id": "4dfee67d",
   "metadata": {},
   "outputs": [],
   "source": []
  },
  {
   "cell_type": "code",
   "execution_count": null,
   "id": "e9aad7df",
   "metadata": {},
   "outputs": [],
   "source": []
  },
  {
   "cell_type": "code",
   "execution_count": null,
   "id": "37ed68d6",
   "metadata": {},
   "outputs": [],
   "source": []
  },
  {
   "cell_type": "code",
   "execution_count": null,
   "id": "bb7d4cee",
   "metadata": {},
   "outputs": [],
   "source": []
  },
  {
   "cell_type": "code",
   "execution_count": null,
   "id": "2d4e72d0",
   "metadata": {},
   "outputs": [],
   "source": []
  }
 ],
 "metadata": {
  "kernelspec": {
   "display_name": "Python 3 (ipykernel)",
   "language": "python",
   "name": "python3"
  },
  "language_info": {
   "codemirror_mode": {
    "name": "ipython",
    "version": 3
   },
   "file_extension": ".py",
   "mimetype": "text/x-python",
   "name": "python",
   "nbconvert_exporter": "python",
   "pygments_lexer": "ipython3",
   "version": "3.10.9"
  }
 },
 "nbformat": 4,
 "nbformat_minor": 5
}
